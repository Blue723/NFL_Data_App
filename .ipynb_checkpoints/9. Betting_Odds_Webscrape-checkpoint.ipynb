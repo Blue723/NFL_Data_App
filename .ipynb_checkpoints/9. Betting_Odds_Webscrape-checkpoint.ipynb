{
 "cells": [
  {
   "cell_type": "markdown",
   "metadata": {},
   "source": [
    "Webscrape house betting odds and export to csv and sql"
   ]
  },
  {
   "cell_type": "code",
   "execution_count": 1,
   "metadata": {
    "id": "tM1qUXzxvjlQ"
   },
   "outputs": [],
   "source": [
    "import pandas as pd\n",
    "import numpy as np\n",
    "\n",
    "from sqlalchemy import create_engine\n",
    "\n",
    "from datetime import datetime\n",
    "import time\n",
    "import random"
   ]
  },
  {
   "cell_type": "code",
   "execution_count": 2,
   "metadata": {},
   "outputs": [],
   "source": [
    "#connect overall tables\n",
    "servername = '****'\n",
    "football_data = 'Football_Data'\n",
    "trusted_conneciton = '?trusted_conneciton=yes'\n",
    "driver = '&driver=ODBC+Driver+17+for+SQL+Server'"
   ]
  },
  {
   "cell_type": "code",
   "execution_count": null,
   "metadata": {},
   "outputs": [],
   "source": [
    "engine_football_data = create_engine(f'mssql+pyodbc://@{servername}/{football_data}{trusted_conneciton}{driver}')\n",
    "engine_football_data"
   ]
  },
  {
   "cell_type": "code",
   "execution_count": 4,
   "metadata": {},
   "outputs": [],
   "source": [
    "conn_football_data = engine_football_data.connect()"
   ]
  },
  {
   "cell_type": "code",
   "execution_count": 5,
   "metadata": {
    "id": "nqQ1ZnDHFrzn"
   },
   "outputs": [],
   "source": [
    "# year range 1 & 2 for url show this range of table on the web page\n",
    "url_year_no = [[2020,2024], [2010,2019]]"
   ]
  },
  {
   "cell_type": "code",
   "execution_count": 6,
   "metadata": {
    "id": "pAW91M0t6ImI"
   },
   "outputs": [],
   "source": [
    "team_url_code_dict = {\n",
    "    'Bills': 'BUF',\n",
    "    'Ravens': 'BAL',\n",
    "    'Texans': 'HOU',\n",
    "    'Broncos': 'DEN',\n",
    "    'Dolphins': 'MIA',\n",
    "    'Bengals': 'CIN',\n",
    "    'Colts': 'IND',\n",
    "    'Chiefs': 'KCC',\n",
    "    'Patriots': 'NEP',\n",
    "    'Browns': 'CLE',\n",
    "    'Jaguars': 'JAC',\n",
    "    'Raiders': 'LVR',\n",
    "    'Jets': 'NYJ',\n",
    "    'Steelers': 'PIT',\n",
    "    'Titans': 'TEN',\n",
    "    'Chargers': 'LAC',\n",
    "    'Cowboys': 'DAL',\n",
    "    'Bears': 'CHI',\n",
    "    'Falcons': 'ATL',\n",
    "    'Cardinals': 'ARZ',\n",
    "    'Giants': 'NYG',\n",
    "    'Lions': 'DET',\n",
    "    'Panthers': 'CAR',\n",
    "    'Rams': 'LAR',\n",
    "    'Eagles': 'PHI',\n",
    "    'Packers': 'GBP',\n",
    "    'Saints': 'NOS',\n",
    "    '49ers': 'SFF',\n",
    "    'Commanders': 'WAS',\n",
    "    'Vikings': 'MIN',\n",
    "    'Buccaneers': 'TBB',\n",
    "    'Seahawks': 'SEA',\n",
    "}"
   ]
  },
  {
   "cell_type": "code",
   "execution_count": 7,
   "metadata": {
    "id": "giP-W-TK-T9c"
   },
   "outputs": [],
   "source": [
    "def webscrape_odds_table(team_url: str, year_range1:list, year_range2:list) -> pd:\n",
    "\n",
    "    url = f'https://www.sportsoddshistory.com/nfl-game-team/?tm={team_url}&d={year_range1[0]}#{year_range1[1]}'\n",
    "\n",
    "    odds_table_2010_2019_li = pd.read_html(url)\n",
    "    \n",
    "    time.sleep(random.randrange(10,15))\n",
    "\n",
    "    odds_table_2010_2019 = odds_table_2010_2019_li[2]\n",
    "\n",
    "\n",
    "\n",
    "    url2 =  f'https://www.sportsoddshistory.com/nfl-game-team/?tm={team_url}&d={year_range2[0]}#{year_range2[1]}'\n",
    "\n",
    "    odds_table_2020_2024_li = pd.read_html(url2)\n",
    "    \n",
    "    time.sleep(random.randrange(10,15))\n",
    "\n",
    "    odds_table_2024_2024 = odds_table_2020_2024_li[2]\n",
    "\n",
    "\n",
    "    \n",
    "    odds_table = pd.concat([odds_table_2010_2019, odds_table_2024_2024])\n",
    "\n",
    "    odds_table.columns = ['Week', 'Day', 'Date', 'Time', 'Home/Away', 'Opponent', 'Score', 'Spread', 'O_U', 'Notes']\n",
    "\n",
    "    odds_table = odds_table[:-1]\n",
    "    odds_table = odds_table.drop(columns=['Week', 'Day', 'Notes'])\n",
    "    odds_table = odds_table.reset_index(drop=True)\n",
    "\n",
    "    \n",
    "    return odds_table\n"
   ]
  },
  {
   "cell_type": "code",
   "execution_count": 8,
   "metadata": {},
   "outputs": [],
   "source": [
    "def clean_odds_table(team: str, df: pd) -> pd:\n",
    "    \n",
    "    #dropna\n",
    "    df = df[df['Date'].isna() == False]\n",
    "\n",
    "    df = df.reset_index(drop=True)\n",
    "\n",
    "    df['Team'] = [team] * len(df)\n",
    "    \n",
    "    #fix date\n",
    "    df['Date'] = pd.to_datetime(df['Date'])\n",
    "    df['Date'] = df['Date'].dt.strftime('%m/%d/%Y')\n",
    "    df['Date'] = pd.to_datetime(df['Date'], format='%m/%d/%Y')\n",
    "\n",
    "    df['Date'] = df['Date'].astype('str')\n",
    "\n",
    "    #get year column\n",
    "    year_dict = {'Year': []}\n",
    "    for i in df.index:\n",
    "        month = datetime.strptime(df['Date'].iloc[i], '%Y-%m-%d').month\n",
    "        year = datetime.strptime(df['Date'].iloc[i], '%Y-%m-%d').year\n",
    "    \n",
    "        if month == 1 or month == 2:\n",
    "            year = year - 1\n",
    "    \n",
    "            year_dict['Year'].append(year)\n",
    "\n",
    "        else:\n",
    "            year_dict['Year'].append(year)\n",
    "\n",
    "    df['Year'] = year_dict['Year']\n",
    "    df['Year'] = df['Year'].astype('int')\n",
    "    \n",
    "    #fix home and away\n",
    "    df['Home/Away'] = df['Home/Away'].fillna('Home')\n",
    "    df['Home/Away'] = df['Home/Away'].replace('@', 'Away')\n",
    "\n",
    "    for i in df['Home/Away'].index:\n",
    "    \n",
    "        if df['Home/Away'].iloc[i] != 'Home' and df['Home/Away'].iloc[i] != 'Away':\n",
    "        \n",
    "            df['Home/Away'].iloc[i] = df['Home/Away'].iloc[i].replace(df['Home/Away'].iloc[i], 'Away')\n",
    "\n",
    "\n",
    "    #separating score column into win/loss, team score, and opponent score\n",
    "    win_loss_score_data = {'Win/Loss': [], 'Team_Score': [], 'Opponent_Score': []}\n",
    "    \n",
    "    for s in df['Score']:\n",
    "    \n",
    "        \n",
    "        s_split = s.split(' ')[:2]\n",
    "    \n",
    "        s_split[0] = s_split[0].replace('L', 'Loss')\n",
    "        s_split[0] = s_split[0].replace('W', 'Win')\n",
    "    \n",
    "        s_split_score = s_split[1].split('-')\n",
    "    \n",
    "        win_loss_score_row = [s_split[0]]+s_split_score\n",
    "    \n",
    "        \n",
    "        win_loss_score_data['Win/Loss'].append(win_loss_score_row[0])\n",
    "        win_loss_score_data['Team_Score'].append(win_loss_score_row[1])\n",
    "        win_loss_score_data['Opponent_Score'].append(win_loss_score_row[2])\n",
    "\n",
    "    win_loss_score_data = pd.DataFrame(win_loss_score_data)\n",
    "\n",
    "    \n",
    "    win_loss_score_data['Team_Score'] = win_loss_score_data['Team_Score'].astype('int64')\n",
    "    win_loss_score_data['Opponent_Score'] = win_loss_score_data['Opponent_Score'].astype('int64')\n",
    "\n",
    "    #separating the over/under column to over/under and O/U_Total_Scores\n",
    "    \n",
    "    over_under_data = {'Over/Under': [], 'O/U_Score_Prediction': []}\n",
    "    \n",
    "    for ou in df['O_U']:\n",
    "    \n",
    "        ou_split = ou.split(' ')\n",
    "    \n",
    "        ou_split[0] = ou_split[0].replace('U', 'Under')\n",
    "        ou_split[0] = ou_split[0].replace('O', 'Over')\n",
    "        ou_split[0] = ou_split[0].replace('P', 'Push')\n",
    "    \n",
    "        \n",
    "        over_under_data['Over/Under'].append(ou_split[0])\n",
    "        over_under_data['O/U_Score_Prediction'].append(ou_split[1])\n",
    "\n",
    "    over_under_data = pd.DataFrame(over_under_data)\n",
    "\n",
    "    over_under_data['O/U_Score_Prediction'] = over_under_data['O/U_Score_Prediction'].astype('float64') \n",
    "    \n",
    "    \n",
    "    # fix spread column to spread_loss/win, spread\n",
    "    spread_data = {'Spread_Win/Loss': [], 'Spread_Prediction': []}\n",
    "    \n",
    "    for s in df['Spread']:\n",
    "    \n",
    "        s_split = s.split(' ')\n",
    "    \n",
    "        s_split[0] = s_split[0].replace('L', 'Loss')\n",
    "        s_split[0] = s_split[0].replace('W', 'Win')\n",
    "\n",
    "        s_split[1] = s_split[1].replace('PK', '0')\n",
    "\n",
    "        spread_data['Spread_Win/Loss'].append(s_split[0])\n",
    "        spread_data['Spread_Prediction'].append(s_split[1])\n",
    "        \n",
    "    spread_data = pd.DataFrame(spread_data)\n",
    "    \n",
    "    spread_data['Spread_Prediction'] = spread_data['Spread_Prediction'].astype('float64')\n",
    "    \n",
    "    #concat final odds df\n",
    "    final_odds_table = pd.concat(\n",
    "        [df, win_loss_score_data , over_under_data, spread_data], \n",
    "        axis=1)\n",
    "    \n",
    "    # add column of actual total score\n",
    "    final_odds_table['Total_Score'] = final_odds_table['Team_Score']+final_odds_table['Opponent_Score']\n",
    "    \n",
    "    # add column of acutual spread\n",
    "    final_odds_table['Actual_Spread'] = final_odds_table['Team_Score']-final_odds_table['Opponent_Score']\n",
    "    \n",
    "    #need to add a team column\n",
    "    final_odds_table = final_odds_table[[\n",
    "        'Team',\n",
    "        'Date', \n",
    "        'Time', \n",
    "        'Home/Away', \n",
    "        'Opponent', \n",
    "        'Team_Score', \n",
    "        'Opponent_Score', \n",
    "        'Total_Score',\n",
    "        'O/U_Score_Prediction',\n",
    "        'Over/Under', \n",
    "        'Actual_Spread',\n",
    "        'Spread_Prediction',\n",
    "        'Spread_Win/Loss',\n",
    "        'Year'\n",
    "    ]]\n",
    "\n",
    "    return final_odds_table"
   ]
  },
  {
   "cell_type": "code",
   "execution_count": 10,
   "metadata": {
    "colab": {
     "base_uri": "https://localhost:8080/"
    },
    "id": "Ay1HVgY6I9_u",
    "outputId": "6eb827ee-5ccf-4be5-a5e8-216006c99c50"
   },
   "outputs": [
    {
     "name": "stderr",
     "output_type": "stream",
     "text": [
      "C:\\Users\\Family\\AppData\\Local\\Temp\\ipykernel_3416\\475146362.py:42: SettingWithCopyWarning: \n",
      "A value is trying to be set on a copy of a slice from a DataFrame\n",
      "\n",
      "See the caveats in the documentation: https://pandas.pydata.org/pandas-docs/stable/user_guide/indexing.html#returning-a-view-versus-a-copy\n",
      "  df['Home/Away'].iloc[i] = df['Home/Away'].iloc[i].replace(df['Home/Away'].iloc[i], 'Away')\n",
      "C:\\Users\\Family\\AppData\\Local\\Temp\\ipykernel_3416\\475146362.py:42: SettingWithCopyWarning: \n",
      "A value is trying to be set on a copy of a slice from a DataFrame\n",
      "\n",
      "See the caveats in the documentation: https://pandas.pydata.org/pandas-docs/stable/user_guide/indexing.html#returning-a-view-versus-a-copy\n",
      "  df['Home/Away'].iloc[i] = df['Home/Away'].iloc[i].replace(df['Home/Away'].iloc[i], 'Away')\n",
      "C:\\Users\\Family\\AppData\\Local\\Temp\\ipykernel_3416\\475146362.py:42: SettingWithCopyWarning: \n",
      "A value is trying to be set on a copy of a slice from a DataFrame\n",
      "\n",
      "See the caveats in the documentation: https://pandas.pydata.org/pandas-docs/stable/user_guide/indexing.html#returning-a-view-versus-a-copy\n",
      "  df['Home/Away'].iloc[i] = df['Home/Away'].iloc[i].replace(df['Home/Away'].iloc[i], 'Away')\n",
      "C:\\Users\\Family\\AppData\\Local\\Temp\\ipykernel_3416\\475146362.py:42: SettingWithCopyWarning: \n",
      "A value is trying to be set on a copy of a slice from a DataFrame\n",
      "\n",
      "See the caveats in the documentation: https://pandas.pydata.org/pandas-docs/stable/user_guide/indexing.html#returning-a-view-versus-a-copy\n",
      "  df['Home/Away'].iloc[i] = df['Home/Away'].iloc[i].replace(df['Home/Away'].iloc[i], 'Away')\n"
     ]
    },
    {
     "name": "stdout",
     "output_type": "stream",
     "text": [
      "Bills\n"
     ]
    },
    {
     "name": "stderr",
     "output_type": "stream",
     "text": [
      "C:\\Users\\Family\\AppData\\Local\\Temp\\ipykernel_3416\\475146362.py:42: SettingWithCopyWarning: \n",
      "A value is trying to be set on a copy of a slice from a DataFrame\n",
      "\n",
      "See the caveats in the documentation: https://pandas.pydata.org/pandas-docs/stable/user_guide/indexing.html#returning-a-view-versus-a-copy\n",
      "  df['Home/Away'].iloc[i] = df['Home/Away'].iloc[i].replace(df['Home/Away'].iloc[i], 'Away')\n",
      "C:\\Users\\Family\\AppData\\Local\\Temp\\ipykernel_3416\\475146362.py:42: SettingWithCopyWarning: \n",
      "A value is trying to be set on a copy of a slice from a DataFrame\n",
      "\n",
      "See the caveats in the documentation: https://pandas.pydata.org/pandas-docs/stable/user_guide/indexing.html#returning-a-view-versus-a-copy\n",
      "  df['Home/Away'].iloc[i] = df['Home/Away'].iloc[i].replace(df['Home/Away'].iloc[i], 'Away')\n"
     ]
    },
    {
     "name": "stdout",
     "output_type": "stream",
     "text": [
      "Ravens\n"
     ]
    },
    {
     "name": "stderr",
     "output_type": "stream",
     "text": [
      "C:\\Users\\Family\\AppData\\Local\\Temp\\ipykernel_3416\\475146362.py:42: SettingWithCopyWarning: \n",
      "A value is trying to be set on a copy of a slice from a DataFrame\n",
      "\n",
      "See the caveats in the documentation: https://pandas.pydata.org/pandas-docs/stable/user_guide/indexing.html#returning-a-view-versus-a-copy\n",
      "  df['Home/Away'].iloc[i] = df['Home/Away'].iloc[i].replace(df['Home/Away'].iloc[i], 'Away')\n",
      "C:\\Users\\Family\\AppData\\Local\\Temp\\ipykernel_3416\\475146362.py:42: SettingWithCopyWarning: \n",
      "A value is trying to be set on a copy of a slice from a DataFrame\n",
      "\n",
      "See the caveats in the documentation: https://pandas.pydata.org/pandas-docs/stable/user_guide/indexing.html#returning-a-view-versus-a-copy\n",
      "  df['Home/Away'].iloc[i] = df['Home/Away'].iloc[i].replace(df['Home/Away'].iloc[i], 'Away')\n"
     ]
    },
    {
     "name": "stdout",
     "output_type": "stream",
     "text": [
      "Texans\n"
     ]
    },
    {
     "name": "stderr",
     "output_type": "stream",
     "text": [
      "C:\\Users\\Family\\AppData\\Local\\Temp\\ipykernel_3416\\475146362.py:42: SettingWithCopyWarning: \n",
      "A value is trying to be set on a copy of a slice from a DataFrame\n",
      "\n",
      "See the caveats in the documentation: https://pandas.pydata.org/pandas-docs/stable/user_guide/indexing.html#returning-a-view-versus-a-copy\n",
      "  df['Home/Away'].iloc[i] = df['Home/Away'].iloc[i].replace(df['Home/Away'].iloc[i], 'Away')\n",
      "C:\\Users\\Family\\AppData\\Local\\Temp\\ipykernel_3416\\475146362.py:42: SettingWithCopyWarning: \n",
      "A value is trying to be set on a copy of a slice from a DataFrame\n",
      "\n",
      "See the caveats in the documentation: https://pandas.pydata.org/pandas-docs/stable/user_guide/indexing.html#returning-a-view-versus-a-copy\n",
      "  df['Home/Away'].iloc[i] = df['Home/Away'].iloc[i].replace(df['Home/Away'].iloc[i], 'Away')\n",
      "C:\\Users\\Family\\AppData\\Local\\Temp\\ipykernel_3416\\475146362.py:42: SettingWithCopyWarning: \n",
      "A value is trying to be set on a copy of a slice from a DataFrame\n",
      "\n",
      "See the caveats in the documentation: https://pandas.pydata.org/pandas-docs/stable/user_guide/indexing.html#returning-a-view-versus-a-copy\n",
      "  df['Home/Away'].iloc[i] = df['Home/Away'].iloc[i].replace(df['Home/Away'].iloc[i], 'Away')\n",
      "C:\\Users\\Family\\AppData\\Local\\Temp\\ipykernel_3416\\475146362.py:42: SettingWithCopyWarning: \n",
      "A value is trying to be set on a copy of a slice from a DataFrame\n",
      "\n",
      "See the caveats in the documentation: https://pandas.pydata.org/pandas-docs/stable/user_guide/indexing.html#returning-a-view-versus-a-copy\n",
      "  df['Home/Away'].iloc[i] = df['Home/Away'].iloc[i].replace(df['Home/Away'].iloc[i], 'Away')\n"
     ]
    },
    {
     "name": "stdout",
     "output_type": "stream",
     "text": [
      "Broncos\n"
     ]
    },
    {
     "name": "stderr",
     "output_type": "stream",
     "text": [
      "C:\\Users\\Family\\AppData\\Local\\Temp\\ipykernel_3416\\475146362.py:42: SettingWithCopyWarning: \n",
      "A value is trying to be set on a copy of a slice from a DataFrame\n",
      "\n",
      "See the caveats in the documentation: https://pandas.pydata.org/pandas-docs/stable/user_guide/indexing.html#returning-a-view-versus-a-copy\n",
      "  df['Home/Away'].iloc[i] = df['Home/Away'].iloc[i].replace(df['Home/Away'].iloc[i], 'Away')\n",
      "C:\\Users\\Family\\AppData\\Local\\Temp\\ipykernel_3416\\475146362.py:42: SettingWithCopyWarning: \n",
      "A value is trying to be set on a copy of a slice from a DataFrame\n",
      "\n",
      "See the caveats in the documentation: https://pandas.pydata.org/pandas-docs/stable/user_guide/indexing.html#returning-a-view-versus-a-copy\n",
      "  df['Home/Away'].iloc[i] = df['Home/Away'].iloc[i].replace(df['Home/Away'].iloc[i], 'Away')\n",
      "C:\\Users\\Family\\AppData\\Local\\Temp\\ipykernel_3416\\475146362.py:42: SettingWithCopyWarning: \n",
      "A value is trying to be set on a copy of a slice from a DataFrame\n",
      "\n",
      "See the caveats in the documentation: https://pandas.pydata.org/pandas-docs/stable/user_guide/indexing.html#returning-a-view-versus-a-copy\n",
      "  df['Home/Away'].iloc[i] = df['Home/Away'].iloc[i].replace(df['Home/Away'].iloc[i], 'Away')\n",
      "C:\\Users\\Family\\AppData\\Local\\Temp\\ipykernel_3416\\475146362.py:42: SettingWithCopyWarning: \n",
      "A value is trying to be set on a copy of a slice from a DataFrame\n",
      "\n",
      "See the caveats in the documentation: https://pandas.pydata.org/pandas-docs/stable/user_guide/indexing.html#returning-a-view-versus-a-copy\n",
      "  df['Home/Away'].iloc[i] = df['Home/Away'].iloc[i].replace(df['Home/Away'].iloc[i], 'Away')\n",
      "C:\\Users\\Family\\AppData\\Local\\Temp\\ipykernel_3416\\475146362.py:42: SettingWithCopyWarning: \n",
      "A value is trying to be set on a copy of a slice from a DataFrame\n",
      "\n",
      "See the caveats in the documentation: https://pandas.pydata.org/pandas-docs/stable/user_guide/indexing.html#returning-a-view-versus-a-copy\n",
      "  df['Home/Away'].iloc[i] = df['Home/Away'].iloc[i].replace(df['Home/Away'].iloc[i], 'Away')\n"
     ]
    },
    {
     "name": "stdout",
     "output_type": "stream",
     "text": [
      "Dolphins\n"
     ]
    },
    {
     "name": "stderr",
     "output_type": "stream",
     "text": [
      "C:\\Users\\Family\\AppData\\Local\\Temp\\ipykernel_3416\\475146362.py:42: SettingWithCopyWarning: \n",
      "A value is trying to be set on a copy of a slice from a DataFrame\n",
      "\n",
      "See the caveats in the documentation: https://pandas.pydata.org/pandas-docs/stable/user_guide/indexing.html#returning-a-view-versus-a-copy\n",
      "  df['Home/Away'].iloc[i] = df['Home/Away'].iloc[i].replace(df['Home/Away'].iloc[i], 'Away')\n",
      "C:\\Users\\Family\\AppData\\Local\\Temp\\ipykernel_3416\\475146362.py:42: SettingWithCopyWarning: \n",
      "A value is trying to be set on a copy of a slice from a DataFrame\n",
      "\n",
      "See the caveats in the documentation: https://pandas.pydata.org/pandas-docs/stable/user_guide/indexing.html#returning-a-view-versus-a-copy\n",
      "  df['Home/Away'].iloc[i] = df['Home/Away'].iloc[i].replace(df['Home/Away'].iloc[i], 'Away')\n",
      "C:\\Users\\Family\\AppData\\Local\\Temp\\ipykernel_3416\\475146362.py:42: SettingWithCopyWarning: \n",
      "A value is trying to be set on a copy of a slice from a DataFrame\n",
      "\n",
      "See the caveats in the documentation: https://pandas.pydata.org/pandas-docs/stable/user_guide/indexing.html#returning-a-view-versus-a-copy\n",
      "  df['Home/Away'].iloc[i] = df['Home/Away'].iloc[i].replace(df['Home/Away'].iloc[i], 'Away')\n"
     ]
    },
    {
     "name": "stdout",
     "output_type": "stream",
     "text": [
      "Bengals\n"
     ]
    },
    {
     "name": "stderr",
     "output_type": "stream",
     "text": [
      "C:\\Users\\Family\\AppData\\Local\\Temp\\ipykernel_3416\\475146362.py:42: SettingWithCopyWarning: \n",
      "A value is trying to be set on a copy of a slice from a DataFrame\n",
      "\n",
      "See the caveats in the documentation: https://pandas.pydata.org/pandas-docs/stable/user_guide/indexing.html#returning-a-view-versus-a-copy\n",
      "  df['Home/Away'].iloc[i] = df['Home/Away'].iloc[i].replace(df['Home/Away'].iloc[i], 'Away')\n",
      "C:\\Users\\Family\\AppData\\Local\\Temp\\ipykernel_3416\\475146362.py:42: SettingWithCopyWarning: \n",
      "A value is trying to be set on a copy of a slice from a DataFrame\n",
      "\n",
      "See the caveats in the documentation: https://pandas.pydata.org/pandas-docs/stable/user_guide/indexing.html#returning-a-view-versus-a-copy\n",
      "  df['Home/Away'].iloc[i] = df['Home/Away'].iloc[i].replace(df['Home/Away'].iloc[i], 'Away')\n"
     ]
    },
    {
     "name": "stdout",
     "output_type": "stream",
     "text": [
      "Colts\n"
     ]
    },
    {
     "name": "stderr",
     "output_type": "stream",
     "text": [
      "C:\\Users\\Family\\AppData\\Local\\Temp\\ipykernel_3416\\475146362.py:42: SettingWithCopyWarning: \n",
      "A value is trying to be set on a copy of a slice from a DataFrame\n",
      "\n",
      "See the caveats in the documentation: https://pandas.pydata.org/pandas-docs/stable/user_guide/indexing.html#returning-a-view-versus-a-copy\n",
      "  df['Home/Away'].iloc[i] = df['Home/Away'].iloc[i].replace(df['Home/Away'].iloc[i], 'Away')\n",
      "C:\\Users\\Family\\AppData\\Local\\Temp\\ipykernel_3416\\475146362.py:42: SettingWithCopyWarning: \n",
      "A value is trying to be set on a copy of a slice from a DataFrame\n",
      "\n",
      "See the caveats in the documentation: https://pandas.pydata.org/pandas-docs/stable/user_guide/indexing.html#returning-a-view-versus-a-copy\n",
      "  df['Home/Away'].iloc[i] = df['Home/Away'].iloc[i].replace(df['Home/Away'].iloc[i], 'Away')\n",
      "C:\\Users\\Family\\AppData\\Local\\Temp\\ipykernel_3416\\475146362.py:42: SettingWithCopyWarning: \n",
      "A value is trying to be set on a copy of a slice from a DataFrame\n",
      "\n",
      "See the caveats in the documentation: https://pandas.pydata.org/pandas-docs/stable/user_guide/indexing.html#returning-a-view-versus-a-copy\n",
      "  df['Home/Away'].iloc[i] = df['Home/Away'].iloc[i].replace(df['Home/Away'].iloc[i], 'Away')\n",
      "C:\\Users\\Family\\AppData\\Local\\Temp\\ipykernel_3416\\475146362.py:42: SettingWithCopyWarning: \n",
      "A value is trying to be set on a copy of a slice from a DataFrame\n",
      "\n",
      "See the caveats in the documentation: https://pandas.pydata.org/pandas-docs/stable/user_guide/indexing.html#returning-a-view-versus-a-copy\n",
      "  df['Home/Away'].iloc[i] = df['Home/Away'].iloc[i].replace(df['Home/Away'].iloc[i], 'Away')\n",
      "C:\\Users\\Family\\AppData\\Local\\Temp\\ipykernel_3416\\475146362.py:42: SettingWithCopyWarning: \n",
      "A value is trying to be set on a copy of a slice from a DataFrame\n",
      "\n",
      "See the caveats in the documentation: https://pandas.pydata.org/pandas-docs/stable/user_guide/indexing.html#returning-a-view-versus-a-copy\n",
      "  df['Home/Away'].iloc[i] = df['Home/Away'].iloc[i].replace(df['Home/Away'].iloc[i], 'Away')\n",
      "C:\\Users\\Family\\AppData\\Local\\Temp\\ipykernel_3416\\475146362.py:42: SettingWithCopyWarning: \n",
      "A value is trying to be set on a copy of a slice from a DataFrame\n",
      "\n",
      "See the caveats in the documentation: https://pandas.pydata.org/pandas-docs/stable/user_guide/indexing.html#returning-a-view-versus-a-copy\n",
      "  df['Home/Away'].iloc[i] = df['Home/Away'].iloc[i].replace(df['Home/Away'].iloc[i], 'Away')\n"
     ]
    },
    {
     "name": "stdout",
     "output_type": "stream",
     "text": [
      "Chiefs\n"
     ]
    },
    {
     "name": "stderr",
     "output_type": "stream",
     "text": [
      "C:\\Users\\Family\\AppData\\Local\\Temp\\ipykernel_3416\\475146362.py:42: SettingWithCopyWarning: \n",
      "A value is trying to be set on a copy of a slice from a DataFrame\n",
      "\n",
      "See the caveats in the documentation: https://pandas.pydata.org/pandas-docs/stable/user_guide/indexing.html#returning-a-view-versus-a-copy\n",
      "  df['Home/Away'].iloc[i] = df['Home/Away'].iloc[i].replace(df['Home/Away'].iloc[i], 'Away')\n",
      "C:\\Users\\Family\\AppData\\Local\\Temp\\ipykernel_3416\\475146362.py:42: SettingWithCopyWarning: \n",
      "A value is trying to be set on a copy of a slice from a DataFrame\n",
      "\n",
      "See the caveats in the documentation: https://pandas.pydata.org/pandas-docs/stable/user_guide/indexing.html#returning-a-view-versus-a-copy\n",
      "  df['Home/Away'].iloc[i] = df['Home/Away'].iloc[i].replace(df['Home/Away'].iloc[i], 'Away')\n",
      "C:\\Users\\Family\\AppData\\Local\\Temp\\ipykernel_3416\\475146362.py:42: SettingWithCopyWarning: \n",
      "A value is trying to be set on a copy of a slice from a DataFrame\n",
      "\n",
      "See the caveats in the documentation: https://pandas.pydata.org/pandas-docs/stable/user_guide/indexing.html#returning-a-view-versus-a-copy\n",
      "  df['Home/Away'].iloc[i] = df['Home/Away'].iloc[i].replace(df['Home/Away'].iloc[i], 'Away')\n",
      "C:\\Users\\Family\\AppData\\Local\\Temp\\ipykernel_3416\\475146362.py:42: SettingWithCopyWarning: \n",
      "A value is trying to be set on a copy of a slice from a DataFrame\n",
      "\n",
      "See the caveats in the documentation: https://pandas.pydata.org/pandas-docs/stable/user_guide/indexing.html#returning-a-view-versus-a-copy\n",
      "  df['Home/Away'].iloc[i] = df['Home/Away'].iloc[i].replace(df['Home/Away'].iloc[i], 'Away')\n",
      "C:\\Users\\Family\\AppData\\Local\\Temp\\ipykernel_3416\\475146362.py:42: SettingWithCopyWarning: \n",
      "A value is trying to be set on a copy of a slice from a DataFrame\n",
      "\n",
      "See the caveats in the documentation: https://pandas.pydata.org/pandas-docs/stable/user_guide/indexing.html#returning-a-view-versus-a-copy\n",
      "  df['Home/Away'].iloc[i] = df['Home/Away'].iloc[i].replace(df['Home/Away'].iloc[i], 'Away')\n",
      "C:\\Users\\Family\\AppData\\Local\\Temp\\ipykernel_3416\\475146362.py:42: SettingWithCopyWarning: \n",
      "A value is trying to be set on a copy of a slice from a DataFrame\n",
      "\n",
      "See the caveats in the documentation: https://pandas.pydata.org/pandas-docs/stable/user_guide/indexing.html#returning-a-view-versus-a-copy\n",
      "  df['Home/Away'].iloc[i] = df['Home/Away'].iloc[i].replace(df['Home/Away'].iloc[i], 'Away')\n",
      "C:\\Users\\Family\\AppData\\Local\\Temp\\ipykernel_3416\\475146362.py:42: SettingWithCopyWarning: \n",
      "A value is trying to be set on a copy of a slice from a DataFrame\n",
      "\n",
      "See the caveats in the documentation: https://pandas.pydata.org/pandas-docs/stable/user_guide/indexing.html#returning-a-view-versus-a-copy\n",
      "  df['Home/Away'].iloc[i] = df['Home/Away'].iloc[i].replace(df['Home/Away'].iloc[i], 'Away')\n",
      "C:\\Users\\Family\\AppData\\Local\\Temp\\ipykernel_3416\\475146362.py:42: SettingWithCopyWarning: \n",
      "A value is trying to be set on a copy of a slice from a DataFrame\n",
      "\n",
      "See the caveats in the documentation: https://pandas.pydata.org/pandas-docs/stable/user_guide/indexing.html#returning-a-view-versus-a-copy\n",
      "  df['Home/Away'].iloc[i] = df['Home/Away'].iloc[i].replace(df['Home/Away'].iloc[i], 'Away')\n"
     ]
    },
    {
     "name": "stdout",
     "output_type": "stream",
     "text": [
      "Patriots\n"
     ]
    },
    {
     "name": "stderr",
     "output_type": "stream",
     "text": [
      "C:\\Users\\Family\\AppData\\Local\\Temp\\ipykernel_3416\\475146362.py:42: SettingWithCopyWarning: \n",
      "A value is trying to be set on a copy of a slice from a DataFrame\n",
      "\n",
      "See the caveats in the documentation: https://pandas.pydata.org/pandas-docs/stable/user_guide/indexing.html#returning-a-view-versus-a-copy\n",
      "  df['Home/Away'].iloc[i] = df['Home/Away'].iloc[i].replace(df['Home/Away'].iloc[i], 'Away')\n",
      "C:\\Users\\Family\\AppData\\Local\\Temp\\ipykernel_3416\\475146362.py:42: SettingWithCopyWarning: \n",
      "A value is trying to be set on a copy of a slice from a DataFrame\n",
      "\n",
      "See the caveats in the documentation: https://pandas.pydata.org/pandas-docs/stable/user_guide/indexing.html#returning-a-view-versus-a-copy\n",
      "  df['Home/Away'].iloc[i] = df['Home/Away'].iloc[i].replace(df['Home/Away'].iloc[i], 'Away')\n"
     ]
    },
    {
     "name": "stdout",
     "output_type": "stream",
     "text": [
      "Browns\n"
     ]
    },
    {
     "name": "stderr",
     "output_type": "stream",
     "text": [
      "C:\\Users\\Family\\AppData\\Local\\Temp\\ipykernel_3416\\475146362.py:42: SettingWithCopyWarning: \n",
      "A value is trying to be set on a copy of a slice from a DataFrame\n",
      "\n",
      "See the caveats in the documentation: https://pandas.pydata.org/pandas-docs/stable/user_guide/indexing.html#returning-a-view-versus-a-copy\n",
      "  df['Home/Away'].iloc[i] = df['Home/Away'].iloc[i].replace(df['Home/Away'].iloc[i], 'Away')\n",
      "C:\\Users\\Family\\AppData\\Local\\Temp\\ipykernel_3416\\475146362.py:42: SettingWithCopyWarning: \n",
      "A value is trying to be set on a copy of a slice from a DataFrame\n",
      "\n",
      "See the caveats in the documentation: https://pandas.pydata.org/pandas-docs/stable/user_guide/indexing.html#returning-a-view-versus-a-copy\n",
      "  df['Home/Away'].iloc[i] = df['Home/Away'].iloc[i].replace(df['Home/Away'].iloc[i], 'Away')\n",
      "C:\\Users\\Family\\AppData\\Local\\Temp\\ipykernel_3416\\475146362.py:42: SettingWithCopyWarning: \n",
      "A value is trying to be set on a copy of a slice from a DataFrame\n",
      "\n",
      "See the caveats in the documentation: https://pandas.pydata.org/pandas-docs/stable/user_guide/indexing.html#returning-a-view-versus-a-copy\n",
      "  df['Home/Away'].iloc[i] = df['Home/Away'].iloc[i].replace(df['Home/Away'].iloc[i], 'Away')\n",
      "C:\\Users\\Family\\AppData\\Local\\Temp\\ipykernel_3416\\475146362.py:42: SettingWithCopyWarning: \n",
      "A value is trying to be set on a copy of a slice from a DataFrame\n",
      "\n",
      "See the caveats in the documentation: https://pandas.pydata.org/pandas-docs/stable/user_guide/indexing.html#returning-a-view-versus-a-copy\n",
      "  df['Home/Away'].iloc[i] = df['Home/Away'].iloc[i].replace(df['Home/Away'].iloc[i], 'Away')\n",
      "C:\\Users\\Family\\AppData\\Local\\Temp\\ipykernel_3416\\475146362.py:42: SettingWithCopyWarning: \n",
      "A value is trying to be set on a copy of a slice from a DataFrame\n",
      "\n",
      "See the caveats in the documentation: https://pandas.pydata.org/pandas-docs/stable/user_guide/indexing.html#returning-a-view-versus-a-copy\n",
      "  df['Home/Away'].iloc[i] = df['Home/Away'].iloc[i].replace(df['Home/Away'].iloc[i], 'Away')\n",
      "C:\\Users\\Family\\AppData\\Local\\Temp\\ipykernel_3416\\475146362.py:42: SettingWithCopyWarning: \n",
      "A value is trying to be set on a copy of a slice from a DataFrame\n",
      "\n",
      "See the caveats in the documentation: https://pandas.pydata.org/pandas-docs/stable/user_guide/indexing.html#returning-a-view-versus-a-copy\n",
      "  df['Home/Away'].iloc[i] = df['Home/Away'].iloc[i].replace(df['Home/Away'].iloc[i], 'Away')\n",
      "C:\\Users\\Family\\AppData\\Local\\Temp\\ipykernel_3416\\475146362.py:42: SettingWithCopyWarning: \n",
      "A value is trying to be set on a copy of a slice from a DataFrame\n",
      "\n",
      "See the caveats in the documentation: https://pandas.pydata.org/pandas-docs/stable/user_guide/indexing.html#returning-a-view-versus-a-copy\n",
      "  df['Home/Away'].iloc[i] = df['Home/Away'].iloc[i].replace(df['Home/Away'].iloc[i], 'Away')\n",
      "C:\\Users\\Family\\AppData\\Local\\Temp\\ipykernel_3416\\475146362.py:42: SettingWithCopyWarning: \n",
      "A value is trying to be set on a copy of a slice from a DataFrame\n",
      "\n",
      "See the caveats in the documentation: https://pandas.pydata.org/pandas-docs/stable/user_guide/indexing.html#returning-a-view-versus-a-copy\n",
      "  df['Home/Away'].iloc[i] = df['Home/Away'].iloc[i].replace(df['Home/Away'].iloc[i], 'Away')\n",
      "C:\\Users\\Family\\AppData\\Local\\Temp\\ipykernel_3416\\475146362.py:42: SettingWithCopyWarning: \n",
      "A value is trying to be set on a copy of a slice from a DataFrame\n",
      "\n",
      "See the caveats in the documentation: https://pandas.pydata.org/pandas-docs/stable/user_guide/indexing.html#returning-a-view-versus-a-copy\n",
      "  df['Home/Away'].iloc[i] = df['Home/Away'].iloc[i].replace(df['Home/Away'].iloc[i], 'Away')\n"
     ]
    },
    {
     "name": "stdout",
     "output_type": "stream",
     "text": [
      "Jaguars\n"
     ]
    },
    {
     "name": "stderr",
     "output_type": "stream",
     "text": [
      "C:\\Users\\Family\\AppData\\Local\\Temp\\ipykernel_3416\\475146362.py:42: SettingWithCopyWarning: \n",
      "A value is trying to be set on a copy of a slice from a DataFrame\n",
      "\n",
      "See the caveats in the documentation: https://pandas.pydata.org/pandas-docs/stable/user_guide/indexing.html#returning-a-view-versus-a-copy\n",
      "  df['Home/Away'].iloc[i] = df['Home/Away'].iloc[i].replace(df['Home/Away'].iloc[i], 'Away')\n",
      "C:\\Users\\Family\\AppData\\Local\\Temp\\ipykernel_3416\\475146362.py:42: SettingWithCopyWarning: \n",
      "A value is trying to be set on a copy of a slice from a DataFrame\n",
      "\n",
      "See the caveats in the documentation: https://pandas.pydata.org/pandas-docs/stable/user_guide/indexing.html#returning-a-view-versus-a-copy\n",
      "  df['Home/Away'].iloc[i] = df['Home/Away'].iloc[i].replace(df['Home/Away'].iloc[i], 'Away')\n",
      "C:\\Users\\Family\\AppData\\Local\\Temp\\ipykernel_3416\\475146362.py:42: SettingWithCopyWarning: \n",
      "A value is trying to be set on a copy of a slice from a DataFrame\n",
      "\n",
      "See the caveats in the documentation: https://pandas.pydata.org/pandas-docs/stable/user_guide/indexing.html#returning-a-view-versus-a-copy\n",
      "  df['Home/Away'].iloc[i] = df['Home/Away'].iloc[i].replace(df['Home/Away'].iloc[i], 'Away')\n",
      "C:\\Users\\Family\\AppData\\Local\\Temp\\ipykernel_3416\\475146362.py:42: SettingWithCopyWarning: \n",
      "A value is trying to be set on a copy of a slice from a DataFrame\n",
      "\n",
      "See the caveats in the documentation: https://pandas.pydata.org/pandas-docs/stable/user_guide/indexing.html#returning-a-view-versus-a-copy\n",
      "  df['Home/Away'].iloc[i] = df['Home/Away'].iloc[i].replace(df['Home/Away'].iloc[i], 'Away')\n",
      "C:\\Users\\Family\\AppData\\Local\\Temp\\ipykernel_3416\\475146362.py:42: SettingWithCopyWarning: \n",
      "A value is trying to be set on a copy of a slice from a DataFrame\n",
      "\n",
      "See the caveats in the documentation: https://pandas.pydata.org/pandas-docs/stable/user_guide/indexing.html#returning-a-view-versus-a-copy\n",
      "  df['Home/Away'].iloc[i] = df['Home/Away'].iloc[i].replace(df['Home/Away'].iloc[i], 'Away')\n"
     ]
    },
    {
     "name": "stdout",
     "output_type": "stream",
     "text": [
      "Raiders\n"
     ]
    },
    {
     "name": "stderr",
     "output_type": "stream",
     "text": [
      "C:\\Users\\Family\\AppData\\Local\\Temp\\ipykernel_3416\\475146362.py:42: SettingWithCopyWarning: \n",
      "A value is trying to be set on a copy of a slice from a DataFrame\n",
      "\n",
      "See the caveats in the documentation: https://pandas.pydata.org/pandas-docs/stable/user_guide/indexing.html#returning-a-view-versus-a-copy\n",
      "  df['Home/Away'].iloc[i] = df['Home/Away'].iloc[i].replace(df['Home/Away'].iloc[i], 'Away')\n",
      "C:\\Users\\Family\\AppData\\Local\\Temp\\ipykernel_3416\\475146362.py:42: SettingWithCopyWarning: \n",
      "A value is trying to be set on a copy of a slice from a DataFrame\n",
      "\n",
      "See the caveats in the documentation: https://pandas.pydata.org/pandas-docs/stable/user_guide/indexing.html#returning-a-view-versus-a-copy\n",
      "  df['Home/Away'].iloc[i] = df['Home/Away'].iloc[i].replace(df['Home/Away'].iloc[i], 'Away')\n",
      "C:\\Users\\Family\\AppData\\Local\\Temp\\ipykernel_3416\\475146362.py:42: SettingWithCopyWarning: \n",
      "A value is trying to be set on a copy of a slice from a DataFrame\n",
      "\n",
      "See the caveats in the documentation: https://pandas.pydata.org/pandas-docs/stable/user_guide/indexing.html#returning-a-view-versus-a-copy\n",
      "  df['Home/Away'].iloc[i] = df['Home/Away'].iloc[i].replace(df['Home/Away'].iloc[i], 'Away')\n"
     ]
    },
    {
     "name": "stdout",
     "output_type": "stream",
     "text": [
      "Jets\n"
     ]
    },
    {
     "name": "stderr",
     "output_type": "stream",
     "text": [
      "C:\\Users\\Family\\AppData\\Local\\Temp\\ipykernel_3416\\475146362.py:42: SettingWithCopyWarning: \n",
      "A value is trying to be set on a copy of a slice from a DataFrame\n",
      "\n",
      "See the caveats in the documentation: https://pandas.pydata.org/pandas-docs/stable/user_guide/indexing.html#returning-a-view-versus-a-copy\n",
      "  df['Home/Away'].iloc[i] = df['Home/Away'].iloc[i].replace(df['Home/Away'].iloc[i], 'Away')\n",
      "C:\\Users\\Family\\AppData\\Local\\Temp\\ipykernel_3416\\475146362.py:42: SettingWithCopyWarning: \n",
      "A value is trying to be set on a copy of a slice from a DataFrame\n",
      "\n",
      "See the caveats in the documentation: https://pandas.pydata.org/pandas-docs/stable/user_guide/indexing.html#returning-a-view-versus-a-copy\n",
      "  df['Home/Away'].iloc[i] = df['Home/Away'].iloc[i].replace(df['Home/Away'].iloc[i], 'Away')\n"
     ]
    },
    {
     "name": "stdout",
     "output_type": "stream",
     "text": [
      "Steelers\n"
     ]
    },
    {
     "name": "stderr",
     "output_type": "stream",
     "text": [
      "C:\\Users\\Family\\AppData\\Local\\Temp\\ipykernel_3416\\475146362.py:42: SettingWithCopyWarning: \n",
      "A value is trying to be set on a copy of a slice from a DataFrame\n",
      "\n",
      "See the caveats in the documentation: https://pandas.pydata.org/pandas-docs/stable/user_guide/indexing.html#returning-a-view-versus-a-copy\n",
      "  df['Home/Away'].iloc[i] = df['Home/Away'].iloc[i].replace(df['Home/Away'].iloc[i], 'Away')\n",
      "C:\\Users\\Family\\AppData\\Local\\Temp\\ipykernel_3416\\475146362.py:42: SettingWithCopyWarning: \n",
      "A value is trying to be set on a copy of a slice from a DataFrame\n",
      "\n",
      "See the caveats in the documentation: https://pandas.pydata.org/pandas-docs/stable/user_guide/indexing.html#returning-a-view-versus-a-copy\n",
      "  df['Home/Away'].iloc[i] = df['Home/Away'].iloc[i].replace(df['Home/Away'].iloc[i], 'Away')\n"
     ]
    },
    {
     "name": "stdout",
     "output_type": "stream",
     "text": [
      "Titns\n"
     ]
    },
    {
     "name": "stderr",
     "output_type": "stream",
     "text": [
      "C:\\Users\\Family\\AppData\\Local\\Temp\\ipykernel_3416\\475146362.py:42: SettingWithCopyWarning: \n",
      "A value is trying to be set on a copy of a slice from a DataFrame\n",
      "\n",
      "See the caveats in the documentation: https://pandas.pydata.org/pandas-docs/stable/user_guide/indexing.html#returning-a-view-versus-a-copy\n",
      "  df['Home/Away'].iloc[i] = df['Home/Away'].iloc[i].replace(df['Home/Away'].iloc[i], 'Away')\n",
      "C:\\Users\\Family\\AppData\\Local\\Temp\\ipykernel_3416\\475146362.py:42: SettingWithCopyWarning: \n",
      "A value is trying to be set on a copy of a slice from a DataFrame\n",
      "\n",
      "See the caveats in the documentation: https://pandas.pydata.org/pandas-docs/stable/user_guide/indexing.html#returning-a-view-versus-a-copy\n",
      "  df['Home/Away'].iloc[i] = df['Home/Away'].iloc[i].replace(df['Home/Away'].iloc[i], 'Away')\n"
     ]
    },
    {
     "name": "stdout",
     "output_type": "stream",
     "text": [
      "Chargers\n"
     ]
    },
    {
     "name": "stderr",
     "output_type": "stream",
     "text": [
      "C:\\Users\\Family\\AppData\\Local\\Temp\\ipykernel_3416\\475146362.py:42: SettingWithCopyWarning: \n",
      "A value is trying to be set on a copy of a slice from a DataFrame\n",
      "\n",
      "See the caveats in the documentation: https://pandas.pydata.org/pandas-docs/stable/user_guide/indexing.html#returning-a-view-versus-a-copy\n",
      "  df['Home/Away'].iloc[i] = df['Home/Away'].iloc[i].replace(df['Home/Away'].iloc[i], 'Away')\n"
     ]
    },
    {
     "name": "stdout",
     "output_type": "stream",
     "text": [
      "Cowboys\n"
     ]
    },
    {
     "name": "stderr",
     "output_type": "stream",
     "text": [
      "C:\\Users\\Family\\AppData\\Local\\Temp\\ipykernel_3416\\475146362.py:42: SettingWithCopyWarning: \n",
      "A value is trying to be set on a copy of a slice from a DataFrame\n",
      "\n",
      "See the caveats in the documentation: https://pandas.pydata.org/pandas-docs/stable/user_guide/indexing.html#returning-a-view-versus-a-copy\n",
      "  df['Home/Away'].iloc[i] = df['Home/Away'].iloc[i].replace(df['Home/Away'].iloc[i], 'Away')\n",
      "C:\\Users\\Family\\AppData\\Local\\Temp\\ipykernel_3416\\475146362.py:42: SettingWithCopyWarning: \n",
      "A value is trying to be set on a copy of a slice from a DataFrame\n",
      "\n",
      "See the caveats in the documentation: https://pandas.pydata.org/pandas-docs/stable/user_guide/indexing.html#returning-a-view-versus-a-copy\n",
      "  df['Home/Away'].iloc[i] = df['Home/Away'].iloc[i].replace(df['Home/Away'].iloc[i], 'Away')\n"
     ]
    },
    {
     "name": "stdout",
     "output_type": "stream",
     "text": [
      "Bears\n"
     ]
    },
    {
     "name": "stderr",
     "output_type": "stream",
     "text": [
      "C:\\Users\\Family\\AppData\\Local\\Temp\\ipykernel_3416\\475146362.py:42: SettingWithCopyWarning: \n",
      "A value is trying to be set on a copy of a slice from a DataFrame\n",
      "\n",
      "See the caveats in the documentation: https://pandas.pydata.org/pandas-docs/stable/user_guide/indexing.html#returning-a-view-versus-a-copy\n",
      "  df['Home/Away'].iloc[i] = df['Home/Away'].iloc[i].replace(df['Home/Away'].iloc[i], 'Away')\n",
      "C:\\Users\\Family\\AppData\\Local\\Temp\\ipykernel_3416\\475146362.py:42: SettingWithCopyWarning: \n",
      "A value is trying to be set on a copy of a slice from a DataFrame\n",
      "\n",
      "See the caveats in the documentation: https://pandas.pydata.org/pandas-docs/stable/user_guide/indexing.html#returning-a-view-versus-a-copy\n",
      "  df['Home/Away'].iloc[i] = df['Home/Away'].iloc[i].replace(df['Home/Away'].iloc[i], 'Away')\n",
      "C:\\Users\\Family\\AppData\\Local\\Temp\\ipykernel_3416\\475146362.py:42: SettingWithCopyWarning: \n",
      "A value is trying to be set on a copy of a slice from a DataFrame\n",
      "\n",
      "See the caveats in the documentation: https://pandas.pydata.org/pandas-docs/stable/user_guide/indexing.html#returning-a-view-versus-a-copy\n",
      "  df['Home/Away'].iloc[i] = df['Home/Away'].iloc[i].replace(df['Home/Away'].iloc[i], 'Away')\n",
      "C:\\Users\\Family\\AppData\\Local\\Temp\\ipykernel_3416\\475146362.py:42: SettingWithCopyWarning: \n",
      "A value is trying to be set on a copy of a slice from a DataFrame\n",
      "\n",
      "See the caveats in the documentation: https://pandas.pydata.org/pandas-docs/stable/user_guide/indexing.html#returning-a-view-versus-a-copy\n",
      "  df['Home/Away'].iloc[i] = df['Home/Away'].iloc[i].replace(df['Home/Away'].iloc[i], 'Away')\n"
     ]
    },
    {
     "name": "stdout",
     "output_type": "stream",
     "text": [
      "Falcons\n"
     ]
    },
    {
     "name": "stderr",
     "output_type": "stream",
     "text": [
      "C:\\Users\\Family\\AppData\\Local\\Temp\\ipykernel_3416\\475146362.py:42: SettingWithCopyWarning: \n",
      "A value is trying to be set on a copy of a slice from a DataFrame\n",
      "\n",
      "See the caveats in the documentation: https://pandas.pydata.org/pandas-docs/stable/user_guide/indexing.html#returning-a-view-versus-a-copy\n",
      "  df['Home/Away'].iloc[i] = df['Home/Away'].iloc[i].replace(df['Home/Away'].iloc[i], 'Away')\n",
      "C:\\Users\\Family\\AppData\\Local\\Temp\\ipykernel_3416\\475146362.py:42: SettingWithCopyWarning: \n",
      "A value is trying to be set on a copy of a slice from a DataFrame\n",
      "\n",
      "See the caveats in the documentation: https://pandas.pydata.org/pandas-docs/stable/user_guide/indexing.html#returning-a-view-versus-a-copy\n",
      "  df['Home/Away'].iloc[i] = df['Home/Away'].iloc[i].replace(df['Home/Away'].iloc[i], 'Away')\n"
     ]
    },
    {
     "name": "stdout",
     "output_type": "stream",
     "text": [
      "Cardinals\n"
     ]
    },
    {
     "name": "stderr",
     "output_type": "stream",
     "text": [
      "C:\\Users\\Family\\AppData\\Local\\Temp\\ipykernel_3416\\475146362.py:42: SettingWithCopyWarning: \n",
      "A value is trying to be set on a copy of a slice from a DataFrame\n",
      "\n",
      "See the caveats in the documentation: https://pandas.pydata.org/pandas-docs/stable/user_guide/indexing.html#returning-a-view-versus-a-copy\n",
      "  df['Home/Away'].iloc[i] = df['Home/Away'].iloc[i].replace(df['Home/Away'].iloc[i], 'Away')\n",
      "C:\\Users\\Family\\AppData\\Local\\Temp\\ipykernel_3416\\475146362.py:42: SettingWithCopyWarning: \n",
      "A value is trying to be set on a copy of a slice from a DataFrame\n",
      "\n",
      "See the caveats in the documentation: https://pandas.pydata.org/pandas-docs/stable/user_guide/indexing.html#returning-a-view-versus-a-copy\n",
      "  df['Home/Away'].iloc[i] = df['Home/Away'].iloc[i].replace(df['Home/Away'].iloc[i], 'Away')\n",
      "C:\\Users\\Family\\AppData\\Local\\Temp\\ipykernel_3416\\475146362.py:42: SettingWithCopyWarning: \n",
      "A value is trying to be set on a copy of a slice from a DataFrame\n",
      "\n",
      "See the caveats in the documentation: https://pandas.pydata.org/pandas-docs/stable/user_guide/indexing.html#returning-a-view-versus-a-copy\n",
      "  df['Home/Away'].iloc[i] = df['Home/Away'].iloc[i].replace(df['Home/Away'].iloc[i], 'Away')\n"
     ]
    },
    {
     "name": "stdout",
     "output_type": "stream",
     "text": [
      "Giants\n"
     ]
    },
    {
     "name": "stderr",
     "output_type": "stream",
     "text": [
      "C:\\Users\\Family\\AppData\\Local\\Temp\\ipykernel_3416\\475146362.py:42: SettingWithCopyWarning: \n",
      "A value is trying to be set on a copy of a slice from a DataFrame\n",
      "\n",
      "See the caveats in the documentation: https://pandas.pydata.org/pandas-docs/stable/user_guide/indexing.html#returning-a-view-versus-a-copy\n",
      "  df['Home/Away'].iloc[i] = df['Home/Away'].iloc[i].replace(df['Home/Away'].iloc[i], 'Away')\n",
      "C:\\Users\\Family\\AppData\\Local\\Temp\\ipykernel_3416\\475146362.py:42: SettingWithCopyWarning: \n",
      "A value is trying to be set on a copy of a slice from a DataFrame\n",
      "\n",
      "See the caveats in the documentation: https://pandas.pydata.org/pandas-docs/stable/user_guide/indexing.html#returning-a-view-versus-a-copy\n",
      "  df['Home/Away'].iloc[i] = df['Home/Away'].iloc[i].replace(df['Home/Away'].iloc[i], 'Away')\n"
     ]
    },
    {
     "name": "stdout",
     "output_type": "stream",
     "text": [
      "Lions\n"
     ]
    },
    {
     "name": "stderr",
     "output_type": "stream",
     "text": [
      "C:\\Users\\Family\\AppData\\Local\\Temp\\ipykernel_3416\\475146362.py:42: SettingWithCopyWarning: \n",
      "A value is trying to be set on a copy of a slice from a DataFrame\n",
      "\n",
      "See the caveats in the documentation: https://pandas.pydata.org/pandas-docs/stable/user_guide/indexing.html#returning-a-view-versus-a-copy\n",
      "  df['Home/Away'].iloc[i] = df['Home/Away'].iloc[i].replace(df['Home/Away'].iloc[i], 'Away')\n",
      "C:\\Users\\Family\\AppData\\Local\\Temp\\ipykernel_3416\\475146362.py:42: SettingWithCopyWarning: \n",
      "A value is trying to be set on a copy of a slice from a DataFrame\n",
      "\n",
      "See the caveats in the documentation: https://pandas.pydata.org/pandas-docs/stable/user_guide/indexing.html#returning-a-view-versus-a-copy\n",
      "  df['Home/Away'].iloc[i] = df['Home/Away'].iloc[i].replace(df['Home/Away'].iloc[i], 'Away')\n"
     ]
    },
    {
     "name": "stdout",
     "output_type": "stream",
     "text": [
      "Panthers\n"
     ]
    },
    {
     "name": "stderr",
     "output_type": "stream",
     "text": [
      "C:\\Users\\Family\\AppData\\Local\\Temp\\ipykernel_3416\\475146362.py:42: SettingWithCopyWarning: \n",
      "A value is trying to be set on a copy of a slice from a DataFrame\n",
      "\n",
      "See the caveats in the documentation: https://pandas.pydata.org/pandas-docs/stable/user_guide/indexing.html#returning-a-view-versus-a-copy\n",
      "  df['Home/Away'].iloc[i] = df['Home/Away'].iloc[i].replace(df['Home/Away'].iloc[i], 'Away')\n",
      "C:\\Users\\Family\\AppData\\Local\\Temp\\ipykernel_3416\\475146362.py:42: SettingWithCopyWarning: \n",
      "A value is trying to be set on a copy of a slice from a DataFrame\n",
      "\n",
      "See the caveats in the documentation: https://pandas.pydata.org/pandas-docs/stable/user_guide/indexing.html#returning-a-view-versus-a-copy\n",
      "  df['Home/Away'].iloc[i] = df['Home/Away'].iloc[i].replace(df['Home/Away'].iloc[i], 'Away')\n",
      "C:\\Users\\Family\\AppData\\Local\\Temp\\ipykernel_3416\\475146362.py:42: SettingWithCopyWarning: \n",
      "A value is trying to be set on a copy of a slice from a DataFrame\n",
      "\n",
      "See the caveats in the documentation: https://pandas.pydata.org/pandas-docs/stable/user_guide/indexing.html#returning-a-view-versus-a-copy\n",
      "  df['Home/Away'].iloc[i] = df['Home/Away'].iloc[i].replace(df['Home/Away'].iloc[i], 'Away')\n",
      "C:\\Users\\Family\\AppData\\Local\\Temp\\ipykernel_3416\\475146362.py:42: SettingWithCopyWarning: \n",
      "A value is trying to be set on a copy of a slice from a DataFrame\n",
      "\n",
      "See the caveats in the documentation: https://pandas.pydata.org/pandas-docs/stable/user_guide/indexing.html#returning-a-view-versus-a-copy\n",
      "  df['Home/Away'].iloc[i] = df['Home/Away'].iloc[i].replace(df['Home/Away'].iloc[i], 'Away')\n",
      "C:\\Users\\Family\\AppData\\Local\\Temp\\ipykernel_3416\\475146362.py:42: SettingWithCopyWarning: \n",
      "A value is trying to be set on a copy of a slice from a DataFrame\n",
      "\n",
      "See the caveats in the documentation: https://pandas.pydata.org/pandas-docs/stable/user_guide/indexing.html#returning-a-view-versus-a-copy\n",
      "  df['Home/Away'].iloc[i] = df['Home/Away'].iloc[i].replace(df['Home/Away'].iloc[i], 'Away')\n",
      "C:\\Users\\Family\\AppData\\Local\\Temp\\ipykernel_3416\\475146362.py:42: SettingWithCopyWarning: \n",
      "A value is trying to be set on a copy of a slice from a DataFrame\n",
      "\n",
      "See the caveats in the documentation: https://pandas.pydata.org/pandas-docs/stable/user_guide/indexing.html#returning-a-view-versus-a-copy\n",
      "  df['Home/Away'].iloc[i] = df['Home/Away'].iloc[i].replace(df['Home/Away'].iloc[i], 'Away')\n"
     ]
    },
    {
     "name": "stdout",
     "output_type": "stream",
     "text": [
      "Rams\n"
     ]
    },
    {
     "name": "stderr",
     "output_type": "stream",
     "text": [
      "C:\\Users\\Family\\AppData\\Local\\Temp\\ipykernel_3416\\475146362.py:42: SettingWithCopyWarning: \n",
      "A value is trying to be set on a copy of a slice from a DataFrame\n",
      "\n",
      "See the caveats in the documentation: https://pandas.pydata.org/pandas-docs/stable/user_guide/indexing.html#returning-a-view-versus-a-copy\n",
      "  df['Home/Away'].iloc[i] = df['Home/Away'].iloc[i].replace(df['Home/Away'].iloc[i], 'Away')\n"
     ]
    },
    {
     "name": "stdout",
     "output_type": "stream",
     "text": [
      "Eagles\n"
     ]
    },
    {
     "name": "stderr",
     "output_type": "stream",
     "text": [
      "C:\\Users\\Family\\AppData\\Local\\Temp\\ipykernel_3416\\475146362.py:42: SettingWithCopyWarning: \n",
      "A value is trying to be set on a copy of a slice from a DataFrame\n",
      "\n",
      "See the caveats in the documentation: https://pandas.pydata.org/pandas-docs/stable/user_guide/indexing.html#returning-a-view-versus-a-copy\n",
      "  df['Home/Away'].iloc[i] = df['Home/Away'].iloc[i].replace(df['Home/Away'].iloc[i], 'Away')\n",
      "C:\\Users\\Family\\AppData\\Local\\Temp\\ipykernel_3416\\475146362.py:42: SettingWithCopyWarning: \n",
      "A value is trying to be set on a copy of a slice from a DataFrame\n",
      "\n",
      "See the caveats in the documentation: https://pandas.pydata.org/pandas-docs/stable/user_guide/indexing.html#returning-a-view-versus-a-copy\n",
      "  df['Home/Away'].iloc[i] = df['Home/Away'].iloc[i].replace(df['Home/Away'].iloc[i], 'Away')\n",
      "C:\\Users\\Family\\AppData\\Local\\Temp\\ipykernel_3416\\475146362.py:42: SettingWithCopyWarning: \n",
      "A value is trying to be set on a copy of a slice from a DataFrame\n",
      "\n",
      "See the caveats in the documentation: https://pandas.pydata.org/pandas-docs/stable/user_guide/indexing.html#returning-a-view-versus-a-copy\n",
      "  df['Home/Away'].iloc[i] = df['Home/Away'].iloc[i].replace(df['Home/Away'].iloc[i], 'Away')\n"
     ]
    },
    {
     "name": "stdout",
     "output_type": "stream",
     "text": [
      "Packers\n"
     ]
    },
    {
     "name": "stderr",
     "output_type": "stream",
     "text": [
      "C:\\Users\\Family\\AppData\\Local\\Temp\\ipykernel_3416\\475146362.py:42: SettingWithCopyWarning: \n",
      "A value is trying to be set on a copy of a slice from a DataFrame\n",
      "\n",
      "See the caveats in the documentation: https://pandas.pydata.org/pandas-docs/stable/user_guide/indexing.html#returning-a-view-versus-a-copy\n",
      "  df['Home/Away'].iloc[i] = df['Home/Away'].iloc[i].replace(df['Home/Away'].iloc[i], 'Away')\n",
      "C:\\Users\\Family\\AppData\\Local\\Temp\\ipykernel_3416\\475146362.py:42: SettingWithCopyWarning: \n",
      "A value is trying to be set on a copy of a slice from a DataFrame\n",
      "\n",
      "See the caveats in the documentation: https://pandas.pydata.org/pandas-docs/stable/user_guide/indexing.html#returning-a-view-versus-a-copy\n",
      "  df['Home/Away'].iloc[i] = df['Home/Away'].iloc[i].replace(df['Home/Away'].iloc[i], 'Away')\n",
      "C:\\Users\\Family\\AppData\\Local\\Temp\\ipykernel_3416\\475146362.py:42: SettingWithCopyWarning: \n",
      "A value is trying to be set on a copy of a slice from a DataFrame\n",
      "\n",
      "See the caveats in the documentation: https://pandas.pydata.org/pandas-docs/stable/user_guide/indexing.html#returning-a-view-versus-a-copy\n",
      "  df['Home/Away'].iloc[i] = df['Home/Away'].iloc[i].replace(df['Home/Away'].iloc[i], 'Away')\n"
     ]
    },
    {
     "name": "stdout",
     "output_type": "stream",
     "text": [
      "Saints\n"
     ]
    },
    {
     "name": "stderr",
     "output_type": "stream",
     "text": [
      "C:\\Users\\Family\\AppData\\Local\\Temp\\ipykernel_3416\\475146362.py:42: SettingWithCopyWarning: \n",
      "A value is trying to be set on a copy of a slice from a DataFrame\n",
      "\n",
      "See the caveats in the documentation: https://pandas.pydata.org/pandas-docs/stable/user_guide/indexing.html#returning-a-view-versus-a-copy\n",
      "  df['Home/Away'].iloc[i] = df['Home/Away'].iloc[i].replace(df['Home/Away'].iloc[i], 'Away')\n",
      "C:\\Users\\Family\\AppData\\Local\\Temp\\ipykernel_3416\\475146362.py:42: SettingWithCopyWarning: \n",
      "A value is trying to be set on a copy of a slice from a DataFrame\n",
      "\n",
      "See the caveats in the documentation: https://pandas.pydata.org/pandas-docs/stable/user_guide/indexing.html#returning-a-view-versus-a-copy\n",
      "  df['Home/Away'].iloc[i] = df['Home/Away'].iloc[i].replace(df['Home/Away'].iloc[i], 'Away')\n",
      "C:\\Users\\Family\\AppData\\Local\\Temp\\ipykernel_3416\\475146362.py:42: SettingWithCopyWarning: \n",
      "A value is trying to be set on a copy of a slice from a DataFrame\n",
      "\n",
      "See the caveats in the documentation: https://pandas.pydata.org/pandas-docs/stable/user_guide/indexing.html#returning-a-view-versus-a-copy\n",
      "  df['Home/Away'].iloc[i] = df['Home/Away'].iloc[i].replace(df['Home/Away'].iloc[i], 'Away')\n",
      "C:\\Users\\Family\\AppData\\Local\\Temp\\ipykernel_3416\\475146362.py:42: SettingWithCopyWarning: \n",
      "A value is trying to be set on a copy of a slice from a DataFrame\n",
      "\n",
      "See the caveats in the documentation: https://pandas.pydata.org/pandas-docs/stable/user_guide/indexing.html#returning-a-view-versus-a-copy\n",
      "  df['Home/Away'].iloc[i] = df['Home/Away'].iloc[i].replace(df['Home/Away'].iloc[i], 'Away')\n",
      "C:\\Users\\Family\\AppData\\Local\\Temp\\ipykernel_3416\\475146362.py:42: SettingWithCopyWarning: \n",
      "A value is trying to be set on a copy of a slice from a DataFrame\n",
      "\n",
      "See the caveats in the documentation: https://pandas.pydata.org/pandas-docs/stable/user_guide/indexing.html#returning-a-view-versus-a-copy\n",
      "  df['Home/Away'].iloc[i] = df['Home/Away'].iloc[i].replace(df['Home/Away'].iloc[i], 'Away')\n",
      "C:\\Users\\Family\\AppData\\Local\\Temp\\ipykernel_3416\\475146362.py:42: SettingWithCopyWarning: \n",
      "A value is trying to be set on a copy of a slice from a DataFrame\n",
      "\n",
      "See the caveats in the documentation: https://pandas.pydata.org/pandas-docs/stable/user_guide/indexing.html#returning-a-view-versus-a-copy\n",
      "  df['Home/Away'].iloc[i] = df['Home/Away'].iloc[i].replace(df['Home/Away'].iloc[i], 'Away')\n"
     ]
    },
    {
     "name": "stdout",
     "output_type": "stream",
     "text": [
      "49ers\n"
     ]
    },
    {
     "name": "stderr",
     "output_type": "stream",
     "text": [
      "C:\\Users\\Family\\AppData\\Local\\Temp\\ipykernel_3416\\475146362.py:42: SettingWithCopyWarning: \n",
      "A value is trying to be set on a copy of a slice from a DataFrame\n",
      "\n",
      "See the caveats in the documentation: https://pandas.pydata.org/pandas-docs/stable/user_guide/indexing.html#returning-a-view-versus-a-copy\n",
      "  df['Home/Away'].iloc[i] = df['Home/Away'].iloc[i].replace(df['Home/Away'].iloc[i], 'Away')\n"
     ]
    },
    {
     "name": "stdout",
     "output_type": "stream",
     "text": [
      "Commanders\n"
     ]
    },
    {
     "name": "stderr",
     "output_type": "stream",
     "text": [
      "C:\\Users\\Family\\AppData\\Local\\Temp\\ipykernel_3416\\475146362.py:42: SettingWithCopyWarning: \n",
      "A value is trying to be set on a copy of a slice from a DataFrame\n",
      "\n",
      "See the caveats in the documentation: https://pandas.pydata.org/pandas-docs/stable/user_guide/indexing.html#returning-a-view-versus-a-copy\n",
      "  df['Home/Away'].iloc[i] = df['Home/Away'].iloc[i].replace(df['Home/Away'].iloc[i], 'Away')\n",
      "C:\\Users\\Family\\AppData\\Local\\Temp\\ipykernel_3416\\475146362.py:42: SettingWithCopyWarning: \n",
      "A value is trying to be set on a copy of a slice from a DataFrame\n",
      "\n",
      "See the caveats in the documentation: https://pandas.pydata.org/pandas-docs/stable/user_guide/indexing.html#returning-a-view-versus-a-copy\n",
      "  df['Home/Away'].iloc[i] = df['Home/Away'].iloc[i].replace(df['Home/Away'].iloc[i], 'Away')\n",
      "C:\\Users\\Family\\AppData\\Local\\Temp\\ipykernel_3416\\475146362.py:42: SettingWithCopyWarning: \n",
      "A value is trying to be set on a copy of a slice from a DataFrame\n",
      "\n",
      "See the caveats in the documentation: https://pandas.pydata.org/pandas-docs/stable/user_guide/indexing.html#returning-a-view-versus-a-copy\n",
      "  df['Home/Away'].iloc[i] = df['Home/Away'].iloc[i].replace(df['Home/Away'].iloc[i], 'Away')\n"
     ]
    },
    {
     "name": "stdout",
     "output_type": "stream",
     "text": [
      "Vikings\n"
     ]
    },
    {
     "name": "stderr",
     "output_type": "stream",
     "text": [
      "C:\\Users\\Family\\AppData\\Local\\Temp\\ipykernel_3416\\475146362.py:42: SettingWithCopyWarning: \n",
      "A value is trying to be set on a copy of a slice from a DataFrame\n",
      "\n",
      "See the caveats in the documentation: https://pandas.pydata.org/pandas-docs/stable/user_guide/indexing.html#returning-a-view-versus-a-copy\n",
      "  df['Home/Away'].iloc[i] = df['Home/Away'].iloc[i].replace(df['Home/Away'].iloc[i], 'Away')\n",
      "C:\\Users\\Family\\AppData\\Local\\Temp\\ipykernel_3416\\475146362.py:42: SettingWithCopyWarning: \n",
      "A value is trying to be set on a copy of a slice from a DataFrame\n",
      "\n",
      "See the caveats in the documentation: https://pandas.pydata.org/pandas-docs/stable/user_guide/indexing.html#returning-a-view-versus-a-copy\n",
      "  df['Home/Away'].iloc[i] = df['Home/Away'].iloc[i].replace(df['Home/Away'].iloc[i], 'Away')\n",
      "C:\\Users\\Family\\AppData\\Local\\Temp\\ipykernel_3416\\475146362.py:42: SettingWithCopyWarning: \n",
      "A value is trying to be set on a copy of a slice from a DataFrame\n",
      "\n",
      "See the caveats in the documentation: https://pandas.pydata.org/pandas-docs/stable/user_guide/indexing.html#returning-a-view-versus-a-copy\n",
      "  df['Home/Away'].iloc[i] = df['Home/Away'].iloc[i].replace(df['Home/Away'].iloc[i], 'Away')\n",
      "C:\\Users\\Family\\AppData\\Local\\Temp\\ipykernel_3416\\475146362.py:42: SettingWithCopyWarning: \n",
      "A value is trying to be set on a copy of a slice from a DataFrame\n",
      "\n",
      "See the caveats in the documentation: https://pandas.pydata.org/pandas-docs/stable/user_guide/indexing.html#returning-a-view-versus-a-copy\n",
      "  df['Home/Away'].iloc[i] = df['Home/Away'].iloc[i].replace(df['Home/Away'].iloc[i], 'Away')\n"
     ]
    },
    {
     "name": "stdout",
     "output_type": "stream",
     "text": [
      "Buccaneers\n",
      "Seahawks\n"
     ]
    },
    {
     "name": "stderr",
     "output_type": "stream",
     "text": [
      "C:\\Users\\Family\\AppData\\Local\\Temp\\ipykernel_3416\\475146362.py:42: SettingWithCopyWarning: \n",
      "A value is trying to be set on a copy of a slice from a DataFrame\n",
      "\n",
      "See the caveats in the documentation: https://pandas.pydata.org/pandas-docs/stable/user_guide/indexing.html#returning-a-view-versus-a-copy\n",
      "  df['Home/Away'].iloc[i] = df['Home/Away'].iloc[i].replace(df['Home/Away'].iloc[i], 'Away')\n",
      "C:\\Users\\Family\\AppData\\Local\\Temp\\ipykernel_3416\\475146362.py:42: SettingWithCopyWarning: \n",
      "A value is trying to be set on a copy of a slice from a DataFrame\n",
      "\n",
      "See the caveats in the documentation: https://pandas.pydata.org/pandas-docs/stable/user_guide/indexing.html#returning-a-view-versus-a-copy\n",
      "  df['Home/Away'].iloc[i] = df['Home/Away'].iloc[i].replace(df['Home/Away'].iloc[i], 'Away')\n",
      "C:\\Users\\Family\\AppData\\Local\\Temp\\ipykernel_3416\\475146362.py:42: SettingWithCopyWarning: \n",
      "A value is trying to be set on a copy of a slice from a DataFrame\n",
      "\n",
      "See the caveats in the documentation: https://pandas.pydata.org/pandas-docs/stable/user_guide/indexing.html#returning-a-view-versus-a-copy\n",
      "  df['Home/Away'].iloc[i] = df['Home/Away'].iloc[i].replace(df['Home/Away'].iloc[i], 'Away')\n",
      "C:\\Users\\Family\\AppData\\Local\\Temp\\ipykernel_3416\\475146362.py:42: SettingWithCopyWarning: \n",
      "A value is trying to be set on a copy of a slice from a DataFrame\n",
      "\n",
      "See the caveats in the documentation: https://pandas.pydata.org/pandas-docs/stable/user_guide/indexing.html#returning-a-view-versus-a-copy\n",
      "  df['Home/Away'].iloc[i] = df['Home/Away'].iloc[i].replace(df['Home/Away'].iloc[i], 'Away')\n"
     ]
    }
   ],
   "source": [
    "betting_ou_spread_df = pd.DataFrame()\n",
    "for team in team_url_code_dict.keys():\n",
    "    df = webscrape_odds_table(team_url=team_url_code_dict[team], year_range1=url_year_no[0], year_range2=url_year_no[1])\n",
    "\n",
    "    df = clean_odds_table(team=team, df=df)\n",
    "\n",
    "    betting_ou_spread_df = pd.concat([betting_ou_spread_df, df], axis=0)\n",
    "\n",
    "    print(team)\n",
    "\n",
    "    "
   ]
  },
  {
   "cell_type": "code",
   "execution_count": 11,
   "metadata": {},
   "outputs": [
    {
     "data": {
      "text/html": [
       "<div>\n",
       "<style scoped>\n",
       "    .dataframe tbody tr th:only-of-type {\n",
       "        vertical-align: middle;\n",
       "    }\n",
       "\n",
       "    .dataframe tbody tr th {\n",
       "        vertical-align: top;\n",
       "    }\n",
       "\n",
       "    .dataframe thead th {\n",
       "        text-align: right;\n",
       "    }\n",
       "</style>\n",
       "<table border=\"1\" class=\"dataframe\">\n",
       "  <thead>\n",
       "    <tr style=\"text-align: right;\">\n",
       "      <th></th>\n",
       "      <th>Team</th>\n",
       "      <th>Date</th>\n",
       "      <th>Time</th>\n",
       "      <th>Home/Away</th>\n",
       "      <th>Opponent</th>\n",
       "      <th>Team_Score</th>\n",
       "      <th>Opponent_Score</th>\n",
       "      <th>Total_Score</th>\n",
       "      <th>O/U_Score_Prediction</th>\n",
       "      <th>Over/Under</th>\n",
       "      <th>Actual_Spread</th>\n",
       "      <th>Spread_Prediction</th>\n",
       "      <th>Spread_Win/Loss</th>\n",
       "      <th>Year</th>\n",
       "    </tr>\n",
       "  </thead>\n",
       "  <tbody>\n",
       "    <tr>\n",
       "      <th>0</th>\n",
       "      <td>Seahawks</td>\n",
       "      <td>2023-09-10</td>\n",
       "      <td>4:25</td>\n",
       "      <td>Home</td>\n",
       "      <td>Los Angeles Rams</td>\n",
       "      <td>13</td>\n",
       "      <td>30</td>\n",
       "      <td>43</td>\n",
       "      <td>46.5</td>\n",
       "      <td>Under</td>\n",
       "      <td>-17</td>\n",
       "      <td>-5.5</td>\n",
       "      <td>Loss</td>\n",
       "      <td>2023</td>\n",
       "    </tr>\n",
       "    <tr>\n",
       "      <th>1</th>\n",
       "      <td>Seahawks</td>\n",
       "      <td>2023-09-17</td>\n",
       "      <td>1:00</td>\n",
       "      <td>Away</td>\n",
       "      <td>Detroit Lions</td>\n",
       "      <td>37</td>\n",
       "      <td>31</td>\n",
       "      <td>68</td>\n",
       "      <td>47.0</td>\n",
       "      <td>Over</td>\n",
       "      <td>6</td>\n",
       "      <td>4.5</td>\n",
       "      <td>Win</td>\n",
       "      <td>2023</td>\n",
       "    </tr>\n",
       "    <tr>\n",
       "      <th>2</th>\n",
       "      <td>Seahawks</td>\n",
       "      <td>2023-09-24</td>\n",
       "      <td>4:05</td>\n",
       "      <td>Home</td>\n",
       "      <td>Carolina Panthers</td>\n",
       "      <td>37</td>\n",
       "      <td>27</td>\n",
       "      <td>64</td>\n",
       "      <td>43.0</td>\n",
       "      <td>Over</td>\n",
       "      <td>10</td>\n",
       "      <td>-5.0</td>\n",
       "      <td>Win</td>\n",
       "      <td>2023</td>\n",
       "    </tr>\n",
       "    <tr>\n",
       "      <th>3</th>\n",
       "      <td>Seahawks</td>\n",
       "      <td>2023-10-02</td>\n",
       "      <td>8:15</td>\n",
       "      <td>Away</td>\n",
       "      <td>New York Giants</td>\n",
       "      <td>24</td>\n",
       "      <td>3</td>\n",
       "      <td>27</td>\n",
       "      <td>46.5</td>\n",
       "      <td>Under</td>\n",
       "      <td>21</td>\n",
       "      <td>-2.5</td>\n",
       "      <td>Win</td>\n",
       "      <td>2023</td>\n",
       "    </tr>\n",
       "    <tr>\n",
       "      <th>4</th>\n",
       "      <td>Seahawks</td>\n",
       "      <td>2023-10-15</td>\n",
       "      <td>1:00</td>\n",
       "      <td>Away</td>\n",
       "      <td>Cincinnati Bengals</td>\n",
       "      <td>13</td>\n",
       "      <td>17</td>\n",
       "      <td>30</td>\n",
       "      <td>45.5</td>\n",
       "      <td>Under</td>\n",
       "      <td>-4</td>\n",
       "      <td>3.0</td>\n",
       "      <td>Loss</td>\n",
       "      <td>2023</td>\n",
       "    </tr>\n",
       "    <tr>\n",
       "      <th>...</th>\n",
       "      <td>...</td>\n",
       "      <td>...</td>\n",
       "      <td>...</td>\n",
       "      <td>...</td>\n",
       "      <td>...</td>\n",
       "      <td>...</td>\n",
       "      <td>...</td>\n",
       "      <td>...</td>\n",
       "      <td>...</td>\n",
       "      <td>...</td>\n",
       "      <td>...</td>\n",
       "      <td>...</td>\n",
       "      <td>...</td>\n",
       "      <td>...</td>\n",
       "    </tr>\n",
       "    <tr>\n",
       "      <th>241</th>\n",
       "      <td>Seahawks</td>\n",
       "      <td>2010-12-19</td>\n",
       "      <td>4:06</td>\n",
       "      <td>Home</td>\n",
       "      <td>Atlanta Falcons</td>\n",
       "      <td>18</td>\n",
       "      <td>34</td>\n",
       "      <td>52</td>\n",
       "      <td>46.5</td>\n",
       "      <td>Over</td>\n",
       "      <td>-16</td>\n",
       "      <td>6.0</td>\n",
       "      <td>Loss</td>\n",
       "      <td>2010</td>\n",
       "    </tr>\n",
       "    <tr>\n",
       "      <th>242</th>\n",
       "      <td>Seahawks</td>\n",
       "      <td>2010-12-26</td>\n",
       "      <td>4:16</td>\n",
       "      <td>Away</td>\n",
       "      <td>Tampa Bay Buccaneers</td>\n",
       "      <td>15</td>\n",
       "      <td>38</td>\n",
       "      <td>53</td>\n",
       "      <td>43.5</td>\n",
       "      <td>Over</td>\n",
       "      <td>-23</td>\n",
       "      <td>6.0</td>\n",
       "      <td>Loss</td>\n",
       "      <td>2010</td>\n",
       "    </tr>\n",
       "    <tr>\n",
       "      <th>243</th>\n",
       "      <td>Seahawks</td>\n",
       "      <td>2011-01-02</td>\n",
       "      <td>8:31</td>\n",
       "      <td>Home</td>\n",
       "      <td>St Louis Rams</td>\n",
       "      <td>16</td>\n",
       "      <td>6</td>\n",
       "      <td>22</td>\n",
       "      <td>41.5</td>\n",
       "      <td>Under</td>\n",
       "      <td>10</td>\n",
       "      <td>3.0</td>\n",
       "      <td>Win</td>\n",
       "      <td>2010</td>\n",
       "    </tr>\n",
       "    <tr>\n",
       "      <th>244</th>\n",
       "      <td>Seahawks</td>\n",
       "      <td>2011-01-08</td>\n",
       "      <td>4:35</td>\n",
       "      <td>Home</td>\n",
       "      <td>New Orleans Saints</td>\n",
       "      <td>41</td>\n",
       "      <td>36</td>\n",
       "      <td>77</td>\n",
       "      <td>46.0</td>\n",
       "      <td>Over</td>\n",
       "      <td>5</td>\n",
       "      <td>10.0</td>\n",
       "      <td>Win</td>\n",
       "      <td>2010</td>\n",
       "    </tr>\n",
       "    <tr>\n",
       "      <th>245</th>\n",
       "      <td>Seahawks</td>\n",
       "      <td>2011-01-16</td>\n",
       "      <td>1:05</td>\n",
       "      <td>Away</td>\n",
       "      <td>Chicago Bears</td>\n",
       "      <td>24</td>\n",
       "      <td>35</td>\n",
       "      <td>59</td>\n",
       "      <td>43.0</td>\n",
       "      <td>Over</td>\n",
       "      <td>-11</td>\n",
       "      <td>10.0</td>\n",
       "      <td>Loss</td>\n",
       "      <td>2010</td>\n",
       "    </tr>\n",
       "  </tbody>\n",
       "</table>\n",
       "<p>246 rows × 14 columns</p>\n",
       "</div>"
      ],
      "text/plain": [
       "         Team        Date  Time Home/Away              Opponent  Team_Score  \\\n",
       "0    Seahawks  2023-09-10  4:25      Home      Los Angeles Rams          13   \n",
       "1    Seahawks  2023-09-17  1:00      Away         Detroit Lions          37   \n",
       "2    Seahawks  2023-09-24  4:05      Home     Carolina Panthers          37   \n",
       "3    Seahawks  2023-10-02  8:15      Away       New York Giants          24   \n",
       "4    Seahawks  2023-10-15  1:00      Away    Cincinnati Bengals          13   \n",
       "..        ...         ...   ...       ...                   ...         ...   \n",
       "241  Seahawks  2010-12-19  4:06      Home       Atlanta Falcons          18   \n",
       "242  Seahawks  2010-12-26  4:16      Away  Tampa Bay Buccaneers          15   \n",
       "243  Seahawks  2011-01-02  8:31      Home         St Louis Rams          16   \n",
       "244  Seahawks  2011-01-08  4:35      Home    New Orleans Saints          41   \n",
       "245  Seahawks  2011-01-16  1:05      Away         Chicago Bears          24   \n",
       "\n",
       "     Opponent_Score  Total_Score  O/U_Score_Prediction Over/Under  \\\n",
       "0                30           43                  46.5      Under   \n",
       "1                31           68                  47.0       Over   \n",
       "2                27           64                  43.0       Over   \n",
       "3                 3           27                  46.5      Under   \n",
       "4                17           30                  45.5      Under   \n",
       "..              ...          ...                   ...        ...   \n",
       "241              34           52                  46.5       Over   \n",
       "242              38           53                  43.5       Over   \n",
       "243               6           22                  41.5      Under   \n",
       "244              36           77                  46.0       Over   \n",
       "245              35           59                  43.0       Over   \n",
       "\n",
       "     Actual_Spread  Spread_Prediction Spread_Win/Loss  Year  \n",
       "0              -17               -5.5            Loss  2023  \n",
       "1                6                4.5             Win  2023  \n",
       "2               10               -5.0             Win  2023  \n",
       "3               21               -2.5             Win  2023  \n",
       "4               -4                3.0            Loss  2023  \n",
       "..             ...                ...             ...   ...  \n",
       "241            -16                6.0            Loss  2010  \n",
       "242            -23                6.0            Loss  2010  \n",
       "243             10                3.0             Win  2010  \n",
       "244              5               10.0             Win  2010  \n",
       "245            -11               10.0            Loss  2010  \n",
       "\n",
       "[246 rows x 14 columns]"
      ]
     },
     "execution_count": 11,
     "metadata": {},
     "output_type": "execute_result"
    }
   ],
   "source": [
    "df"
   ]
  },
  {
   "cell_type": "code",
   "execution_count": 12,
   "metadata": {},
   "outputs": [
    {
     "data": {
      "text/plain": [
       "80"
      ]
     },
     "execution_count": 12,
     "metadata": {},
     "output_type": "execute_result"
    }
   ],
   "source": [
    "betting_ou_spread_df.to_csv('Table Data/betting_ou_spread')\n",
    "betting_ou_spread_df.to_sql('betting_ou_spread', con=conn_football_data, if_exists='replace')"
   ]
  },
  {
   "cell_type": "code",
   "execution_count": null,
   "metadata": {},
   "outputs": [],
   "source": [
    "betting_ou_spread_df = pd.read_csv('Table Data/betting_ou_spread', index_col=0)\n",
    "#df.to_sql('betting_ou_spread', con=conn_football_data, if_exists='replace')"
   ]
  },
  {
   "cell_type": "code",
   "execution_count": null,
   "metadata": {},
   "outputs": [],
   "source": [
    "stop"
   ]
  }
 ],
 "metadata": {
  "colab": {
   "provenance": []
  },
  "kernelspec": {
   "display_name": "Python 3 (ipykernel)",
   "language": "python",
   "name": "python3"
  },
  "language_info": {
   "codemirror_mode": {
    "name": "ipython",
    "version": 3
   },
   "file_extension": ".py",
   "mimetype": "text/x-python",
   "name": "python",
   "nbconvert_exporter": "python",
   "pygments_lexer": "ipython3",
   "version": "3.11.5"
  }
 },
 "nbformat": 4,
 "nbformat_minor": 4
}
