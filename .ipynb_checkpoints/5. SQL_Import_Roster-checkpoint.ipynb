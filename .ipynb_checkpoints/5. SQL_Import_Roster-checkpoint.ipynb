{
 "cells": [
  {
   "cell_type": "markdown",
   "id": "0befa864-d8d5-4d0c-aaa2-91aa7ab0f7df",
   "metadata": {},
   "source": [
    "- This notebook will import all player's roster and advanced log tables into sql.\n",
    "- The notebook URL_Player_Adv_Log webscrapes and imports tables into the files as CSV"
   ]
  },
  {
   "cell_type": "code",
   "execution_count": 1,
   "id": "676810ac-b746-4088-a0ee-28dc2575b639",
   "metadata": {},
   "outputs": [],
   "source": [
    "import pandas as pd\n",
    "\n",
    "import pyodbc\n",
    "\n",
    "import sqlalchemy as sal\n",
    "from sqlalchemy import create_engine\n",
    "from sqlalchemy.sql import text\n",
    "\n",
    "import os"
   ]
  },
  {
   "cell_type": "code",
   "execution_count": 2,
   "id": "94be7d9f-ed9b-4981-8433-b71fba465f83",
   "metadata": {},
   "outputs": [
    {
     "data": {
      "text/plain": [
       "['SQL Server',\n",
       " 'PostgreSQL ANSI(x64)',\n",
       " 'PostgreSQL Unicode(x64)',\n",
       " 'ODBC Driver 17 for SQL Server',\n",
       " 'SQL Server Native Client RDA 11.0',\n",
       " 'ODBC Driver 18 for SQL Server']"
      ]
     },
     "execution_count": 2,
     "metadata": {},
     "output_type": "execute_result"
    }
   ],
   "source": [
    "pyodbc.drivers()"
   ]
  },
  {
   "cell_type": "code",
   "execution_count": 3,
   "id": "b4cad75f-822e-4b83-a3fe-1c0a489741d5",
   "metadata": {},
   "outputs": [],
   "source": [
    "# connection nfl_data database link varaibles\n",
    "servername = '****'\n",
    "nfl_Data = 'NFL_Data'\n",
    "trusted_conneciton = '?trusted_conneciton=yes'\n",
    "driver = '&driver=ODBC+Driver+17+for+SQL+Server'"
   ]
  },
  {
   "cell_type": "code",
   "execution_count": 4,
   "id": "aecc6b29-f87f-45d8-8f21-1acbb1d9c71e",
   "metadata": {},
   "outputs": [
    {
     "data": {
      "text/plain": [
       "Engine(mssql+pyodbc://@DESKTOP-5IAPFQC/NFL_Data?driver=ODBC+Driver+17+for+SQL+Server&trusted_conneciton=yes)"
      ]
     },
     "execution_count": 4,
     "metadata": {},
     "output_type": "execute_result"
    }
   ],
   "source": [
    "#create engine url to connect to sql server\n",
    "engine_nfl_Data = create_engine(f'mssql+pyodbc://@{servername}/{nfl_Data}{trusted_conneciton}{driver}')\n",
    "engine_nfl_Data"
   ]
  },
  {
   "cell_type": "code",
   "execution_count": 5,
   "id": "74c2444a-6955-4f3e-bbdb-4e089a6a95e9",
   "metadata": {},
   "outputs": [],
   "source": [
    "conn_engine_nfl_data = engine_nfl_Data.connect()"
   ]
  },
  {
   "cell_type": "code",
   "execution_count": 6,
   "id": "6bf03f79-ed9f-48e7-ad29-62ee2ee60cd2",
   "metadata": {},
   "outputs": [],
   "source": [
    "# union of all season and team to one table for each table\n",
    "servername = '****'\n",
    "football_data = 'Football_Data'\n",
    "trusted_conneciton = '?trusted_conneciton=yes'\n",
    "driver = '&driver=ODBC+Driver+17+for+SQL+Server'"
   ]
  },
  {
   "cell_type": "code",
   "execution_count": 7,
   "id": "60028fbf-152b-43b3-bcc7-3cb8b738ac35",
   "metadata": {},
   "outputs": [
    {
     "data": {
      "text/plain": [
       "Engine(mssql+pyodbc://@DESKTOP-5IAPFQC/Football_Data?driver=ODBC+Driver+17+for+SQL+Server&trusted_conneciton=yes)"
      ]
     },
     "execution_count": 7,
     "metadata": {},
     "output_type": "execute_result"
    }
   ],
   "source": [
    "#create engine url to connect to sql server\n",
    "engine_football_data = create_engine(f'mssql+pyodbc://@{servername}/{football_data}{trusted_conneciton}{driver}')\n",
    "engine_football_data"
   ]
  },
  {
   "cell_type": "code",
   "execution_count": 8,
   "id": "2a239128-2812-45d1-8b37-dea68e356e2c",
   "metadata": {},
   "outputs": [],
   "source": [
    "conn_engine_football_data = engine_football_data.connect()"
   ]
  },
  {
   "cell_type": "code",
   "execution_count": 9,
   "id": "b6d47012-6f85-4a10-9d68-fd8fda1cba13",
   "metadata": {},
   "outputs": [],
   "source": [
    "years = range(2010, 2024)"
   ]
  },
  {
   "cell_type": "code",
   "execution_count": 10,
   "id": "f779d239-bf6c-4d3e-a28e-690e44ad5b73",
   "metadata": {},
   "outputs": [],
   "source": [
    "team_li = [\n",
    "     '49ers',\n",
    "     'Bears',\n",
    "     'Bengals',\n",
    "     'Broncos',\n",
    "     'Browns',\n",
    "     'Buccaneers',\n",
    "     'Bills',\n",
    "     'Cardinals',\n",
    "     'Chargers',\n",
    "     'Chiefs',\n",
    "     'Colts',\n",
    "     'Commanders',\n",
    "     'Cowboys',\n",
    "     'Dolphins',\n",
    "     'Eagles',\n",
    "     'Falcons',\n",
    "     'Giants',\n",
    "     'Jaguars',\n",
    "     'Jets',\n",
    "     'Lions',\n",
    "     'Packers',\n",
    "     'Panthers',\n",
    "     'Patriots',\n",
    "     'Raiders',\n",
    "     'Rams',\n",
    "     'Ravens',\n",
    "     'Saints',\n",
    "     'Seahawks',\n",
    "     'Steelers',\n",
    "     'Texans',\n",
    "     'Titans',\n",
    "     'Vikings'\n",
    "]"
   ]
  },
  {
   "cell_type": "markdown",
   "id": "8bf743cb-2091-4357-b32a-f4f81bfc62c2",
   "metadata": {},
   "source": [
    "# SQL Import Roster"
   ]
  },
  {
   "cell_type": "code",
   "execution_count": 11,
   "id": "2837c9c4-8996-459d-8c85-8242dedd1861",
   "metadata": {},
   "outputs": [],
   "source": [
    "#import to nfl data\n",
    "for year in years:\n",
    "    for team in team_li:\n",
    "        file_loc = f'NFL_Data_{year}/{team}/{team}_roster'\n",
    "            \n",
    "        df = pd.read_csv(file_loc, index_col=0)\n",
    "\n",
    "        df.to_sql(f'Roster_{team}_{year}', con=conn_engine_nfl_data, if_exists='replace')"
   ]
  },
  {
   "cell_type": "code",
   "execution_count": null,
   "id": "97e27f75-e352-4851-9f40-4f97a43d0310",
   "metadata": {},
   "outputs": [],
   "source": []
  },
  {
   "cell_type": "code",
   "execution_count": 12,
   "id": "c40e8918-30be-4c4a-8ace-e94f071faf7e",
   "metadata": {},
   "outputs": [
    {
     "name": "stdout",
     "output_type": "stream",
     "text": [
      "2010 Bills 14\n",
      "2011 Bills 14\n",
      "2012 Bills 14\n",
      "2013 Bills 14\n",
      "2014 Bills 14\n",
      "2015 Bills 14\n",
      "2016 Bills 14\n",
      "2017 Bills 14\n",
      "2018 Bills 14\n",
      "2019 Bills 14\n",
      "2020 Bills 14\n",
      "2021 Bills 14\n",
      "2022 Bills 14\n",
      "2023 Bills 14\n"
     ]
    }
   ],
   "source": [
    "# roster to sql union all teams per season\n",
    "# union all team from nfl_data and save to football_data_year database\n",
    "all_player_li = []\n",
    "\n",
    "for year in years:\n",
    "    #database\n",
    "    football_db = f'Football_Data_{year}'\n",
    "\n",
    "    #db connection str\n",
    "    football_data_eng = create_engine(f'mssql+pyodbc://@{servername}/{football_db}{trusted_conneciton}{driver}')\n",
    "\n",
    "    football_data_year_conn = football_data_eng.connect()\n",
    "\n",
    "\n",
    "    players_li = []\n",
    "    \n",
    "    for team in team_li:\n",
    "        players = f'select * from Roster_{team}_{year}'\n",
    "\n",
    "        players_li.append(players)\n",
    "    \n",
    "    players_union = ' union '.join([p for p in players_li])\n",
    "\n",
    "    all_player_li.append(players_union)\n",
    "\n",
    "    \n",
    "    df = pd.read_sql(players_union, con=conn_engine_nfl_data, index_col='index')\n",
    "\n",
    "    print(year, team, len(df.columns))\n",
    "\n",
    "    df.to_sql(f'Players', con=football_data_year_conn, if_exists='replace', index='index')\n",
    "\n",
    "\n"
   ]
  },
  {
   "cell_type": "code",
   "execution_count": 13,
   "id": "5bb042bc-23bf-4c7b-8edf-5220fc5b8677",
   "metadata": {},
   "outputs": [
    {
     "data": {
      "text/plain": [
       "103"
      ]
     },
     "execution_count": 13,
     "metadata": {},
     "output_type": "execute_result"
    }
   ],
   "source": [
    "#union all players\n",
    "players_union_all = ' union '.join([a for a in all_player_li])\n",
    "\n",
    "df_all_pl = pd.read_sql(players_union_all, con=conn_engine_nfl_data, index_col='index')\n",
    "\n",
    "df_all_pl.to_sql(f'Players', con=conn_engine_football_data, if_exists='replace', index='index')"
   ]
  },
  {
   "cell_type": "code",
   "execution_count": 14,
   "id": "4b3394ab-083a-4976-a140-b7882d5a92bb",
   "metadata": {},
   "outputs": [
    {
     "ename": "NameError",
     "evalue": "name 'stop' is not defined",
     "output_type": "error",
     "traceback": [
      "\u001b[1;31m---------------------------------------------------------------------------\u001b[0m",
      "\u001b[1;31mNameError\u001b[0m                                 Traceback (most recent call last)",
      "Cell \u001b[1;32mIn[14], line 1\u001b[0m\n\u001b[1;32m----> 1\u001b[0m stop\n",
      "\u001b[1;31mNameError\u001b[0m: name 'stop' is not defined"
     ]
    }
   ],
   "source": [
    "stop"
   ]
  },
  {
   "cell_type": "code",
   "execution_count": 16,
   "id": "fe2fd3de-4e4d-4f45-b50e-cf0a58c8b153",
   "metadata": {},
   "outputs": [
    {
     "ename": "ProgrammingError",
     "evalue": "(pyodbc.ProgrammingError) ('42000', \"[42000] [Microsoft][ODBC Driver 17 for SQL Server][SQL Server]Incorrect syntax near ')'. (102) (SQLExecDirectW)\")\n[SQL: WITH fk_info AS (\n    SELECT\n        ischema_ref_con.constraint_schema,\n        ischema_ref_con.constraint_name,\n        ischema_key_col.ordinal_position,\n        ischema_key_col.table_schema,\n        ischema_key_col.table_name,\n        ischema_ref_con.unique_constraint_schema,\n        ischema_ref_con.unique_constraint_name,\n        ischema_ref_con.match_option,\n        ischema_ref_con.update_rule,\n        ischema_ref_con.delete_rule,\n        ischema_key_col.column_name AS constrained_column\n    FROM\n        INFORMATION_SCHEMA.REFERENTIAL_CONSTRAINTS ischema_ref_con\n        INNER JOIN\n        INFORMATION_SCHEMA.KEY_COLUMN_USAGE ischema_key_col ON\n            ischema_key_col.table_schema = ischema_ref_con.constraint_schema\n            AND ischema_key_col.constraint_name =\n            ischema_ref_con.constraint_name\n    WHERE ischema_key_col.table_name = CAST(? AS NVARCHAR(max))\n        AND ischema_key_col.table_schema = CAST(? AS NVARCHAR(max))\n),\nconstraint_info AS (\n    SELECT\n        ischema_key_col.constraint_schema,\n        ischema_key_col.constraint_name,\n        ischema_key_col.ordinal_position,\n        ischema_key_col.table_schema,\n        ischema_key_col.table_name,\n        ischema_key_col.column_name\n    FROM\n        INFORMATION_SCHEMA.KEY_COLUMN_USAGE ischema_key_col\n),\nindex_info AS (\n    SELECT\n        sys.schemas.name AS index_schema,\n        sys.indexes.name AS index_name,\n        sys.index_columns.key_ordinal AS ordinal_position,\n        sys.schemas.name AS table_schema,\n        sys.objects.name AS table_name,\n        sys.columns.name AS column_name\n    FROM\n        sys.indexes\n        INNER JOIN\n        sys.objects ON\n            sys.objects.object_id = sys.indexes.object_id\n        INNER JOIN\n        sys.schemas ON\n            sys.schemas.schema_id = sys.objects.schema_id\n        INNER JOIN\n        sys.index_columns ON\n            sys.index_columns.object_id = sys.objects.object_id\n            AND sys.index_columns.index_id = sys.indexes.index_id\n        INNER JOIN\n        sys.columns ON\n            sys.columns.object_id = sys.indexes.object_id\n            AND sys.columns.column_id = sys.index_columns.column_id\n)\n    SELECT\n        fk_info.constraint_schema,\n        fk_info.constraint_name,\n        fk_info.ordinal_position,\n        fk_info.constrained_column,\n        constraint_info.table_schema AS referred_table_schema,\n        constraint_info.table_name AS referred_table_name,\n        constraint_info.column_name AS referred_column,\n        fk_info.match_option,\n        fk_info.update_rule,\n        fk_info.delete_rule\n    FROM\n        fk_info INNER JOIN constraint_info ON\n            constraint_info.constraint_schema =\n                fk_info.unique_constraint_schema\n            AND constraint_info.constraint_name =\n                fk_info.unique_constraint_name\n            AND constraint_info.ordinal_position = fk_info.ordinal_position\n    UNION\n    SELECT\n        fk_info.constraint_schema,\n        fk_info.constraint_name,\n        fk_info.ordinal_position,\n        fk_info.constrained_column,\n        index_info.table_schema AS referred_table_schema,\n        index_info.table_name AS referred_table_name,\n        index_info.column_name AS referred_column,\n        fk_info.match_option,\n        fk_info.update_rule,\n        fk_info.delete_rule\n    FROM\n        fk_info INNER JOIN index_info ON\n            index_info.index_schema = fk_info.unique_constraint_schema\n            AND index_info.index_name = fk_info.unique_constraint_name\n            AND index_info.ordinal_position = fk_info.ordinal_position\n\n    ORDER BY fk_info.constraint_schema, fk_info.constraint_name,\n        fk_info.ordinal_position\n]\n[parameters: ('Players', 'dbo')]\n(Background on this error at: https://sqlalche.me/e/20/f405)",
     "output_type": "error",
     "traceback": [
      "\u001b[1;31m---------------------------------------------------------------------------\u001b[0m",
      "\u001b[1;31mProgrammingError\u001b[0m                          Traceback (most recent call last)",
      "File \u001b[1;32m~\\anaconda3\\Lib\\site-packages\\sqlalchemy\\engine\\base.py:1969\u001b[0m, in \u001b[0;36mConnection._exec_single_context\u001b[1;34m(self, dialect, context, statement, parameters)\u001b[0m\n\u001b[0;32m   1968\u001b[0m     \u001b[38;5;28;01mif\u001b[39;00m \u001b[38;5;129;01mnot\u001b[39;00m evt_handled:\n\u001b[1;32m-> 1969\u001b[0m         \u001b[38;5;28mself\u001b[39m\u001b[38;5;241m.\u001b[39mdialect\u001b[38;5;241m.\u001b[39mdo_execute(\n\u001b[0;32m   1970\u001b[0m             cursor, str_statement, effective_parameters, context\n\u001b[0;32m   1971\u001b[0m         )\n\u001b[0;32m   1973\u001b[0m \u001b[38;5;28;01mif\u001b[39;00m \u001b[38;5;28mself\u001b[39m\u001b[38;5;241m.\u001b[39m_has_events \u001b[38;5;129;01mor\u001b[39;00m \u001b[38;5;28mself\u001b[39m\u001b[38;5;241m.\u001b[39mengine\u001b[38;5;241m.\u001b[39m_has_events:\n",
      "File \u001b[1;32m~\\anaconda3\\Lib\\site-packages\\sqlalchemy\\engine\\default.py:922\u001b[0m, in \u001b[0;36mDefaultDialect.do_execute\u001b[1;34m(self, cursor, statement, parameters, context)\u001b[0m\n\u001b[0;32m    921\u001b[0m \u001b[38;5;28;01mdef\u001b[39;00m \u001b[38;5;21mdo_execute\u001b[39m(\u001b[38;5;28mself\u001b[39m, cursor, statement, parameters, context\u001b[38;5;241m=\u001b[39m\u001b[38;5;28;01mNone\u001b[39;00m):\n\u001b[1;32m--> 922\u001b[0m     cursor\u001b[38;5;241m.\u001b[39mexecute(statement, parameters)\n",
      "\u001b[1;31mProgrammingError\u001b[0m: ('42000', \"[42000] [Microsoft][ODBC Driver 17 for SQL Server][SQL Server]Incorrect syntax near ')'. (102) (SQLExecDirectW)\")",
      "\nThe above exception was the direct cause of the following exception:\n",
      "\u001b[1;31mProgrammingError\u001b[0m                          Traceback (most recent call last)",
      "Cell \u001b[1;32mIn[16], line 22\u001b[0m\n\u001b[0;32m     18\u001b[0m     \u001b[38;5;28;01mpass\u001b[39;00m\n\u001b[0;32m     20\u001b[0m df\u001b[38;5;241m.\u001b[39mto_csv(file_loc, index\u001b[38;5;241m=\u001b[39m\u001b[38;5;241m0\u001b[39m)\n\u001b[1;32m---> 22\u001b[0m df\u001b[38;5;241m.\u001b[39mto_sql(\u001b[38;5;124m'\u001b[39m\u001b[38;5;124mPlayers\u001b[39m\u001b[38;5;124m'\u001b[39m, con\u001b[38;5;241m=\u001b[39mfootball_data_year_conn, if_exists\u001b[38;5;241m=\u001b[39m\u001b[38;5;124m'\u001b[39m\u001b[38;5;124mreplace\u001b[39m\u001b[38;5;124m'\u001b[39m)\n",
      "File \u001b[1;32m~\\anaconda3\\Lib\\site-packages\\pandas\\util\\_decorators.py:333\u001b[0m, in \u001b[0;36mdeprecate_nonkeyword_arguments.<locals>.decorate.<locals>.wrapper\u001b[1;34m(*args, **kwargs)\u001b[0m\n\u001b[0;32m    327\u001b[0m \u001b[38;5;28;01mif\u001b[39;00m \u001b[38;5;28mlen\u001b[39m(args) \u001b[38;5;241m>\u001b[39m num_allow_args:\n\u001b[0;32m    328\u001b[0m     warnings\u001b[38;5;241m.\u001b[39mwarn(\n\u001b[0;32m    329\u001b[0m         msg\u001b[38;5;241m.\u001b[39mformat(arguments\u001b[38;5;241m=\u001b[39m_format_argument_list(allow_args)),\n\u001b[0;32m    330\u001b[0m         \u001b[38;5;167;01mFutureWarning\u001b[39;00m,\n\u001b[0;32m    331\u001b[0m         stacklevel\u001b[38;5;241m=\u001b[39mfind_stack_level(),\n\u001b[0;32m    332\u001b[0m     )\n\u001b[1;32m--> 333\u001b[0m \u001b[38;5;28;01mreturn\u001b[39;00m func(\u001b[38;5;241m*\u001b[39margs, \u001b[38;5;241m*\u001b[39m\u001b[38;5;241m*\u001b[39mkwargs)\n",
      "File \u001b[1;32m~\\anaconda3\\Lib\\site-packages\\pandas\\core\\generic.py:3008\u001b[0m, in \u001b[0;36mNDFrame.to_sql\u001b[1;34m(self, name, con, schema, if_exists, index, index_label, chunksize, dtype, method)\u001b[0m\n\u001b[0;32m   2813\u001b[0m \u001b[38;5;250m\u001b[39m\u001b[38;5;124;03m\"\"\"\u001b[39;00m\n\u001b[0;32m   2814\u001b[0m \u001b[38;5;124;03mWrite records stored in a DataFrame to a SQL database.\u001b[39;00m\n\u001b[0;32m   2815\u001b[0m \n\u001b[1;32m   (...)\u001b[0m\n\u001b[0;32m   3004\u001b[0m \u001b[38;5;124;03m[(1,), (None,), (2,)]\u001b[39;00m\n\u001b[0;32m   3005\u001b[0m \u001b[38;5;124;03m\"\"\"\u001b[39;00m  \u001b[38;5;66;03m# noqa: E501\u001b[39;00m\n\u001b[0;32m   3006\u001b[0m \u001b[38;5;28;01mfrom\u001b[39;00m \u001b[38;5;21;01mpandas\u001b[39;00m\u001b[38;5;21;01m.\u001b[39;00m\u001b[38;5;21;01mio\u001b[39;00m \u001b[38;5;28;01mimport\u001b[39;00m sql\n\u001b[1;32m-> 3008\u001b[0m \u001b[38;5;28;01mreturn\u001b[39;00m sql\u001b[38;5;241m.\u001b[39mto_sql(\n\u001b[0;32m   3009\u001b[0m     \u001b[38;5;28mself\u001b[39m,\n\u001b[0;32m   3010\u001b[0m     name,\n\u001b[0;32m   3011\u001b[0m     con,\n\u001b[0;32m   3012\u001b[0m     schema\u001b[38;5;241m=\u001b[39mschema,\n\u001b[0;32m   3013\u001b[0m     if_exists\u001b[38;5;241m=\u001b[39mif_exists,\n\u001b[0;32m   3014\u001b[0m     index\u001b[38;5;241m=\u001b[39mindex,\n\u001b[0;32m   3015\u001b[0m     index_label\u001b[38;5;241m=\u001b[39mindex_label,\n\u001b[0;32m   3016\u001b[0m     chunksize\u001b[38;5;241m=\u001b[39mchunksize,\n\u001b[0;32m   3017\u001b[0m     dtype\u001b[38;5;241m=\u001b[39mdtype,\n\u001b[0;32m   3018\u001b[0m     method\u001b[38;5;241m=\u001b[39mmethod,\n\u001b[0;32m   3019\u001b[0m )\n",
      "File \u001b[1;32m~\\anaconda3\\Lib\\site-packages\\pandas\\io\\sql.py:788\u001b[0m, in \u001b[0;36mto_sql\u001b[1;34m(frame, name, con, schema, if_exists, index, index_label, chunksize, dtype, method, engine, **engine_kwargs)\u001b[0m\n\u001b[0;32m    783\u001b[0m     \u001b[38;5;28;01mraise\u001b[39;00m \u001b[38;5;167;01mNotImplementedError\u001b[39;00m(\n\u001b[0;32m    784\u001b[0m         \u001b[38;5;124m\"\u001b[39m\u001b[38;5;124m'\u001b[39m\u001b[38;5;124mframe\u001b[39m\u001b[38;5;124m'\u001b[39m\u001b[38;5;124m argument should be either a Series or a DataFrame\u001b[39m\u001b[38;5;124m\"\u001b[39m\n\u001b[0;32m    785\u001b[0m     )\n\u001b[0;32m    787\u001b[0m \u001b[38;5;28;01mwith\u001b[39;00m pandasSQL_builder(con, schema\u001b[38;5;241m=\u001b[39mschema, need_transaction\u001b[38;5;241m=\u001b[39m\u001b[38;5;28;01mTrue\u001b[39;00m) \u001b[38;5;28;01mas\u001b[39;00m pandas_sql:\n\u001b[1;32m--> 788\u001b[0m     \u001b[38;5;28;01mreturn\u001b[39;00m pandas_sql\u001b[38;5;241m.\u001b[39mto_sql(\n\u001b[0;32m    789\u001b[0m         frame,\n\u001b[0;32m    790\u001b[0m         name,\n\u001b[0;32m    791\u001b[0m         if_exists\u001b[38;5;241m=\u001b[39mif_exists,\n\u001b[0;32m    792\u001b[0m         index\u001b[38;5;241m=\u001b[39mindex,\n\u001b[0;32m    793\u001b[0m         index_label\u001b[38;5;241m=\u001b[39mindex_label,\n\u001b[0;32m    794\u001b[0m         schema\u001b[38;5;241m=\u001b[39mschema,\n\u001b[0;32m    795\u001b[0m         chunksize\u001b[38;5;241m=\u001b[39mchunksize,\n\u001b[0;32m    796\u001b[0m         dtype\u001b[38;5;241m=\u001b[39mdtype,\n\u001b[0;32m    797\u001b[0m         method\u001b[38;5;241m=\u001b[39mmethod,\n\u001b[0;32m    798\u001b[0m         engine\u001b[38;5;241m=\u001b[39mengine,\n\u001b[0;32m    799\u001b[0m         \u001b[38;5;241m*\u001b[39m\u001b[38;5;241m*\u001b[39mengine_kwargs,\n\u001b[0;32m    800\u001b[0m     )\n",
      "File \u001b[1;32m~\\anaconda3\\Lib\\site-packages\\pandas\\io\\sql.py:1948\u001b[0m, in \u001b[0;36mSQLDatabase.to_sql\u001b[1;34m(self, frame, name, if_exists, index, index_label, schema, chunksize, dtype, method, engine, **engine_kwargs)\u001b[0m\n\u001b[0;32m   1898\u001b[0m \u001b[38;5;250m\u001b[39m\u001b[38;5;124;03m\"\"\"\u001b[39;00m\n\u001b[0;32m   1899\u001b[0m \u001b[38;5;124;03mWrite records stored in a DataFrame to a SQL database.\u001b[39;00m\n\u001b[0;32m   1900\u001b[0m \n\u001b[1;32m   (...)\u001b[0m\n\u001b[0;32m   1944\u001b[0m \u001b[38;5;124;03m    Any additional kwargs are passed to the engine.\u001b[39;00m\n\u001b[0;32m   1945\u001b[0m \u001b[38;5;124;03m\"\"\"\u001b[39;00m\n\u001b[0;32m   1946\u001b[0m sql_engine \u001b[38;5;241m=\u001b[39m get_engine(engine)\n\u001b[1;32m-> 1948\u001b[0m table \u001b[38;5;241m=\u001b[39m \u001b[38;5;28mself\u001b[39m\u001b[38;5;241m.\u001b[39mprep_table(\n\u001b[0;32m   1949\u001b[0m     frame\u001b[38;5;241m=\u001b[39mframe,\n\u001b[0;32m   1950\u001b[0m     name\u001b[38;5;241m=\u001b[39mname,\n\u001b[0;32m   1951\u001b[0m     if_exists\u001b[38;5;241m=\u001b[39mif_exists,\n\u001b[0;32m   1952\u001b[0m     index\u001b[38;5;241m=\u001b[39mindex,\n\u001b[0;32m   1953\u001b[0m     index_label\u001b[38;5;241m=\u001b[39mindex_label,\n\u001b[0;32m   1954\u001b[0m     schema\u001b[38;5;241m=\u001b[39mschema,\n\u001b[0;32m   1955\u001b[0m     dtype\u001b[38;5;241m=\u001b[39mdtype,\n\u001b[0;32m   1956\u001b[0m )\n\u001b[0;32m   1958\u001b[0m total_inserted \u001b[38;5;241m=\u001b[39m sql_engine\u001b[38;5;241m.\u001b[39minsert_records(\n\u001b[0;32m   1959\u001b[0m     table\u001b[38;5;241m=\u001b[39mtable,\n\u001b[0;32m   1960\u001b[0m     con\u001b[38;5;241m=\u001b[39m\u001b[38;5;28mself\u001b[39m\u001b[38;5;241m.\u001b[39mcon,\n\u001b[1;32m   (...)\u001b[0m\n\u001b[0;32m   1967\u001b[0m     \u001b[38;5;241m*\u001b[39m\u001b[38;5;241m*\u001b[39mengine_kwargs,\n\u001b[0;32m   1968\u001b[0m )\n\u001b[0;32m   1970\u001b[0m \u001b[38;5;28mself\u001b[39m\u001b[38;5;241m.\u001b[39mcheck_case_sensitive(name\u001b[38;5;241m=\u001b[39mname, schema\u001b[38;5;241m=\u001b[39mschema)\n",
      "File \u001b[1;32m~\\anaconda3\\Lib\\site-packages\\pandas\\io\\sql.py:1852\u001b[0m, in \u001b[0;36mSQLDatabase.prep_table\u001b[1;34m(self, frame, name, if_exists, index, index_label, schema, dtype)\u001b[0m\n\u001b[0;32m   1840\u001b[0m             \u001b[38;5;28;01mraise\u001b[39;00m \u001b[38;5;167;01mValueError\u001b[39;00m(\u001b[38;5;124mf\u001b[39m\u001b[38;5;124m\"\u001b[39m\u001b[38;5;124mThe type of \u001b[39m\u001b[38;5;132;01m{\u001b[39;00mcol\u001b[38;5;132;01m}\u001b[39;00m\u001b[38;5;124m is not a SQLAlchemy type\u001b[39m\u001b[38;5;124m\"\u001b[39m)\n\u001b[0;32m   1842\u001b[0m table \u001b[38;5;241m=\u001b[39m SQLTable(\n\u001b[0;32m   1843\u001b[0m     name,\n\u001b[0;32m   1844\u001b[0m     \u001b[38;5;28mself\u001b[39m,\n\u001b[1;32m   (...)\u001b[0m\n\u001b[0;32m   1850\u001b[0m     dtype\u001b[38;5;241m=\u001b[39mdtype,\n\u001b[0;32m   1851\u001b[0m )\n\u001b[1;32m-> 1852\u001b[0m table\u001b[38;5;241m.\u001b[39mcreate()\n\u001b[0;32m   1853\u001b[0m \u001b[38;5;28;01mreturn\u001b[39;00m table\n",
      "File \u001b[1;32m~\\anaconda3\\Lib\\site-packages\\pandas\\io\\sql.py:929\u001b[0m, in \u001b[0;36mSQLTable.create\u001b[1;34m(self)\u001b[0m\n\u001b[0;32m    927\u001b[0m     \u001b[38;5;28;01mraise\u001b[39;00m \u001b[38;5;167;01mValueError\u001b[39;00m(\u001b[38;5;124mf\u001b[39m\u001b[38;5;124m\"\u001b[39m\u001b[38;5;124mTable \u001b[39m\u001b[38;5;124m'\u001b[39m\u001b[38;5;132;01m{\u001b[39;00m\u001b[38;5;28mself\u001b[39m\u001b[38;5;241m.\u001b[39mname\u001b[38;5;132;01m}\u001b[39;00m\u001b[38;5;124m'\u001b[39m\u001b[38;5;124m already exists.\u001b[39m\u001b[38;5;124m\"\u001b[39m)\n\u001b[0;32m    928\u001b[0m \u001b[38;5;28;01mif\u001b[39;00m \u001b[38;5;28mself\u001b[39m\u001b[38;5;241m.\u001b[39mif_exists \u001b[38;5;241m==\u001b[39m \u001b[38;5;124m\"\u001b[39m\u001b[38;5;124mreplace\u001b[39m\u001b[38;5;124m\"\u001b[39m:\n\u001b[1;32m--> 929\u001b[0m     \u001b[38;5;28mself\u001b[39m\u001b[38;5;241m.\u001b[39mpd_sql\u001b[38;5;241m.\u001b[39mdrop_table(\u001b[38;5;28mself\u001b[39m\u001b[38;5;241m.\u001b[39mname, \u001b[38;5;28mself\u001b[39m\u001b[38;5;241m.\u001b[39mschema)\n\u001b[0;32m    930\u001b[0m     \u001b[38;5;28mself\u001b[39m\u001b[38;5;241m.\u001b[39m_execute_create()\n\u001b[0;32m    931\u001b[0m \u001b[38;5;28;01melif\u001b[39;00m \u001b[38;5;28mself\u001b[39m\u001b[38;5;241m.\u001b[39mif_exists \u001b[38;5;241m==\u001b[39m \u001b[38;5;124m\"\u001b[39m\u001b[38;5;124mappend\u001b[39m\u001b[38;5;124m\"\u001b[39m:\n",
      "File \u001b[1;32m~\\anaconda3\\Lib\\site-packages\\pandas\\io\\sql.py:1999\u001b[0m, in \u001b[0;36mSQLDatabase.drop_table\u001b[1;34m(self, table_name, schema)\u001b[0m\n\u001b[0;32m   1997\u001b[0m schema \u001b[38;5;241m=\u001b[39m schema \u001b[38;5;129;01mor\u001b[39;00m \u001b[38;5;28mself\u001b[39m\u001b[38;5;241m.\u001b[39mmeta\u001b[38;5;241m.\u001b[39mschema\n\u001b[0;32m   1998\u001b[0m \u001b[38;5;28;01mif\u001b[39;00m \u001b[38;5;28mself\u001b[39m\u001b[38;5;241m.\u001b[39mhas_table(table_name, schema):\n\u001b[1;32m-> 1999\u001b[0m     \u001b[38;5;28mself\u001b[39m\u001b[38;5;241m.\u001b[39mmeta\u001b[38;5;241m.\u001b[39mreflect(\n\u001b[0;32m   2000\u001b[0m         bind\u001b[38;5;241m=\u001b[39m\u001b[38;5;28mself\u001b[39m\u001b[38;5;241m.\u001b[39mcon, only\u001b[38;5;241m=\u001b[39m[table_name], schema\u001b[38;5;241m=\u001b[39mschema, views\u001b[38;5;241m=\u001b[39m\u001b[38;5;28;01mTrue\u001b[39;00m\n\u001b[0;32m   2001\u001b[0m     )\n\u001b[0;32m   2002\u001b[0m     \u001b[38;5;28;01mwith\u001b[39;00m \u001b[38;5;28mself\u001b[39m\u001b[38;5;241m.\u001b[39mrun_transaction():\n\u001b[0;32m   2003\u001b[0m         \u001b[38;5;28mself\u001b[39m\u001b[38;5;241m.\u001b[39mget_table(table_name, schema)\u001b[38;5;241m.\u001b[39mdrop(bind\u001b[38;5;241m=\u001b[39m\u001b[38;5;28mself\u001b[39m\u001b[38;5;241m.\u001b[39mcon)\n",
      "File \u001b[1;32m~\\anaconda3\\Lib\\site-packages\\sqlalchemy\\sql\\schema.py:5792\u001b[0m, in \u001b[0;36mMetaData.reflect\u001b[1;34m(self, bind, schema, views, only, extend_existing, autoload_replace, resolve_fks, **dialect_kwargs)\u001b[0m\n\u001b[0;32m   5785\u001b[0m     load \u001b[38;5;241m=\u001b[39m [\n\u001b[0;32m   5786\u001b[0m         name\n\u001b[0;32m   5787\u001b[0m         \u001b[38;5;28;01mfor\u001b[39;00m name \u001b[38;5;129;01min\u001b[39;00m only\n\u001b[0;32m   5788\u001b[0m         \u001b[38;5;28;01mif\u001b[39;00m extend_existing \u001b[38;5;129;01mor\u001b[39;00m name \u001b[38;5;129;01mnot\u001b[39;00m \u001b[38;5;129;01min\u001b[39;00m current\n\u001b[0;32m   5789\u001b[0m     ]\n\u001b[0;32m   5790\u001b[0m \u001b[38;5;66;03m# pass the available tables so the inspector can\u001b[39;00m\n\u001b[0;32m   5791\u001b[0m \u001b[38;5;66;03m# choose to ignore the filter_names\u001b[39;00m\n\u001b[1;32m-> 5792\u001b[0m _reflect_info \u001b[38;5;241m=\u001b[39m insp\u001b[38;5;241m.\u001b[39m_get_reflection_info(\n\u001b[0;32m   5793\u001b[0m     schema\u001b[38;5;241m=\u001b[39mschema,\n\u001b[0;32m   5794\u001b[0m     filter_names\u001b[38;5;241m=\u001b[39mload,\n\u001b[0;32m   5795\u001b[0m     available\u001b[38;5;241m=\u001b[39mavailable,\n\u001b[0;32m   5796\u001b[0m     kind\u001b[38;5;241m=\u001b[39mkind,\n\u001b[0;32m   5797\u001b[0m     scope\u001b[38;5;241m=\u001b[39mutil\u001b[38;5;241m.\u001b[39mpreloaded\u001b[38;5;241m.\u001b[39mengine_reflection\u001b[38;5;241m.\u001b[39mObjectScope\u001b[38;5;241m.\u001b[39mANY,\n\u001b[0;32m   5798\u001b[0m     \u001b[38;5;241m*\u001b[39m\u001b[38;5;241m*\u001b[39mdialect_kwargs,\n\u001b[0;32m   5799\u001b[0m )\n\u001b[0;32m   5800\u001b[0m reflect_opts[\u001b[38;5;124m\"\u001b[39m\u001b[38;5;124m_reflect_info\u001b[39m\u001b[38;5;124m\"\u001b[39m] \u001b[38;5;241m=\u001b[39m _reflect_info\n\u001b[0;32m   5802\u001b[0m \u001b[38;5;28;01mfor\u001b[39;00m name \u001b[38;5;129;01min\u001b[39;00m load:\n",
      "File \u001b[1;32m~\\anaconda3\\Lib\\site-packages\\sqlalchemy\\engine\\reflection.py:2010\u001b[0m, in \u001b[0;36mInspector._get_reflection_info\u001b[1;34m(self, schema, filter_names, available, _reflect_info, **kw)\u001b[0m\n\u001b[0;32m   2002\u001b[0m         res \u001b[38;5;241m=\u001b[39m {}\n\u001b[0;32m   2003\u001b[0m     \u001b[38;5;28;01mreturn\u001b[39;00m res\n\u001b[0;32m   2005\u001b[0m info \u001b[38;5;241m=\u001b[39m _ReflectionInfo(\n\u001b[0;32m   2006\u001b[0m     columns\u001b[38;5;241m=\u001b[39mrun(\n\u001b[0;32m   2007\u001b[0m         \u001b[38;5;28mself\u001b[39m\u001b[38;5;241m.\u001b[39mget_multi_columns, check_filter_names_from_meth\u001b[38;5;241m=\u001b[39m\u001b[38;5;28;01mTrue\u001b[39;00m\n\u001b[0;32m   2008\u001b[0m     ),\n\u001b[0;32m   2009\u001b[0m     pk_constraint\u001b[38;5;241m=\u001b[39mrun(\u001b[38;5;28mself\u001b[39m\u001b[38;5;241m.\u001b[39mget_multi_pk_constraint),\n\u001b[1;32m-> 2010\u001b[0m     foreign_keys\u001b[38;5;241m=\u001b[39mrun(\u001b[38;5;28mself\u001b[39m\u001b[38;5;241m.\u001b[39mget_multi_foreign_keys),\n\u001b[0;32m   2011\u001b[0m     indexes\u001b[38;5;241m=\u001b[39mrun(\u001b[38;5;28mself\u001b[39m\u001b[38;5;241m.\u001b[39mget_multi_indexes),\n\u001b[0;32m   2012\u001b[0m     unique_constraints\u001b[38;5;241m=\u001b[39mrun(\n\u001b[0;32m   2013\u001b[0m         \u001b[38;5;28mself\u001b[39m\u001b[38;5;241m.\u001b[39mget_multi_unique_constraints, optional\u001b[38;5;241m=\u001b[39m\u001b[38;5;28;01mTrue\u001b[39;00m\n\u001b[0;32m   2014\u001b[0m     ),\n\u001b[0;32m   2015\u001b[0m     table_comment\u001b[38;5;241m=\u001b[39mrun(\u001b[38;5;28mself\u001b[39m\u001b[38;5;241m.\u001b[39mget_multi_table_comment, optional\u001b[38;5;241m=\u001b[39m\u001b[38;5;28;01mTrue\u001b[39;00m),\n\u001b[0;32m   2016\u001b[0m     check_constraints\u001b[38;5;241m=\u001b[39mrun(\n\u001b[0;32m   2017\u001b[0m         \u001b[38;5;28mself\u001b[39m\u001b[38;5;241m.\u001b[39mget_multi_check_constraints, optional\u001b[38;5;241m=\u001b[39m\u001b[38;5;28;01mTrue\u001b[39;00m\n\u001b[0;32m   2018\u001b[0m     ),\n\u001b[0;32m   2019\u001b[0m     table_options\u001b[38;5;241m=\u001b[39mrun(\u001b[38;5;28mself\u001b[39m\u001b[38;5;241m.\u001b[39mget_multi_table_options, optional\u001b[38;5;241m=\u001b[39m\u001b[38;5;28;01mTrue\u001b[39;00m),\n\u001b[0;32m   2020\u001b[0m     unreflectable\u001b[38;5;241m=\u001b[39munreflectable,\n\u001b[0;32m   2021\u001b[0m )\n\u001b[0;32m   2022\u001b[0m \u001b[38;5;28;01mif\u001b[39;00m _reflect_info:\n\u001b[0;32m   2023\u001b[0m     _reflect_info\u001b[38;5;241m.\u001b[39mupdate(info)\n",
      "File \u001b[1;32m~\\anaconda3\\Lib\\site-packages\\sqlalchemy\\engine\\reflection.py:1992\u001b[0m, in \u001b[0;36mInspector._get_reflection_info.<locals>.run\u001b[1;34m(meth, optional, check_filter_names_from_meth)\u001b[0m\n\u001b[0;32m   1990\u001b[0m \u001b[38;5;28;01mtry\u001b[39;00m:\n\u001b[0;32m   1991\u001b[0m     \u001b[38;5;28;01mif\u001b[39;00m has_result:\n\u001b[1;32m-> 1992\u001b[0m         res \u001b[38;5;241m=\u001b[39m meth(filter_names\u001b[38;5;241m=\u001b[39m_fn, \u001b[38;5;241m*\u001b[39m\u001b[38;5;241m*\u001b[39mkw)\n\u001b[0;32m   1993\u001b[0m         \u001b[38;5;28;01mif\u001b[39;00m check_filter_names_from_meth \u001b[38;5;129;01mand\u001b[39;00m \u001b[38;5;129;01mnot\u001b[39;00m res:\n\u001b[0;32m   1994\u001b[0m             \u001b[38;5;66;03m# method returned no result data.\u001b[39;00m\n\u001b[0;32m   1995\u001b[0m             \u001b[38;5;66;03m# skip any future call methods\u001b[39;00m\n\u001b[0;32m   1996\u001b[0m             has_result \u001b[38;5;241m=\u001b[39m \u001b[38;5;28;01mFalse\u001b[39;00m\n",
      "File \u001b[1;32m~\\anaconda3\\Lib\\site-packages\\sqlalchemy\\engine\\reflection.py:1097\u001b[0m, in \u001b[0;36mInspector.get_multi_foreign_keys\u001b[1;34m(self, schema, filter_names, kind, scope, **kw)\u001b[0m\n\u001b[0;32m   1059\u001b[0m \u001b[38;5;250m\u001b[39m\u001b[38;5;124mr\u001b[39m\u001b[38;5;124;03m\"\"\"Return information about foreign_keys in all tables\u001b[39;00m\n\u001b[0;32m   1060\u001b[0m \u001b[38;5;124;03min the given schema.\u001b[39;00m\n\u001b[0;32m   1061\u001b[0m \n\u001b[1;32m   (...)\u001b[0m\n\u001b[0;32m   1093\u001b[0m \u001b[38;5;124;03m.. seealso:: :meth:`Inspector.get_foreign_keys`\u001b[39;00m\n\u001b[0;32m   1094\u001b[0m \u001b[38;5;124;03m\"\"\"\u001b[39;00m\n\u001b[0;32m   1096\u001b[0m \u001b[38;5;28;01mwith\u001b[39;00m \u001b[38;5;28mself\u001b[39m\u001b[38;5;241m.\u001b[39m_operation_context() \u001b[38;5;28;01mas\u001b[39;00m conn:\n\u001b[1;32m-> 1097\u001b[0m     \u001b[38;5;28;01mreturn\u001b[39;00m \u001b[38;5;28mdict\u001b[39m(\n\u001b[0;32m   1098\u001b[0m         \u001b[38;5;28mself\u001b[39m\u001b[38;5;241m.\u001b[39mdialect\u001b[38;5;241m.\u001b[39mget_multi_foreign_keys(\n\u001b[0;32m   1099\u001b[0m             conn,\n\u001b[0;32m   1100\u001b[0m             schema\u001b[38;5;241m=\u001b[39mschema,\n\u001b[0;32m   1101\u001b[0m             filter_names\u001b[38;5;241m=\u001b[39mfilter_names,\n\u001b[0;32m   1102\u001b[0m             kind\u001b[38;5;241m=\u001b[39mkind,\n\u001b[0;32m   1103\u001b[0m             scope\u001b[38;5;241m=\u001b[39mscope,\n\u001b[0;32m   1104\u001b[0m             info_cache\u001b[38;5;241m=\u001b[39m\u001b[38;5;28mself\u001b[39m\u001b[38;5;241m.\u001b[39minfo_cache,\n\u001b[0;32m   1105\u001b[0m             \u001b[38;5;241m*\u001b[39m\u001b[38;5;241m*\u001b[39mkw,\n\u001b[0;32m   1106\u001b[0m         )\n\u001b[0;32m   1107\u001b[0m     )\n",
      "File \u001b[1;32m~\\anaconda3\\Lib\\site-packages\\sqlalchemy\\engine\\default.py:1099\u001b[0m, in \u001b[0;36mDefaultDialect._default_multi_reflect\u001b[1;34m(self, single_tbl_method, connection, kind, schema, filter_names, scope, **kw)\u001b[0m\n\u001b[0;32m   1095\u001b[0m key \u001b[38;5;241m=\u001b[39m (schema, table)\n\u001b[0;32m   1096\u001b[0m \u001b[38;5;28;01mtry\u001b[39;00m:\n\u001b[0;32m   1097\u001b[0m     \u001b[38;5;28;01myield\u001b[39;00m (\n\u001b[0;32m   1098\u001b[0m         key,\n\u001b[1;32m-> 1099\u001b[0m         single_tbl_method(\n\u001b[0;32m   1100\u001b[0m             connection, table, schema\u001b[38;5;241m=\u001b[39mschema, \u001b[38;5;241m*\u001b[39m\u001b[38;5;241m*\u001b[39mkw\n\u001b[0;32m   1101\u001b[0m         ),\n\u001b[0;32m   1102\u001b[0m     )\n\u001b[0;32m   1103\u001b[0m \u001b[38;5;28;01mexcept\u001b[39;00m exc\u001b[38;5;241m.\u001b[39mUnreflectableTableError \u001b[38;5;28;01mas\u001b[39;00m err:\n\u001b[0;32m   1104\u001b[0m     \u001b[38;5;28;01mif\u001b[39;00m key \u001b[38;5;129;01mnot\u001b[39;00m \u001b[38;5;129;01min\u001b[39;00m unreflectable:\n",
      "File \u001b[1;32m<string>:2\u001b[0m, in \u001b[0;36mget_foreign_keys\u001b[1;34m(dialect, connection, tablename, schema, **kw)\u001b[0m\n",
      "File \u001b[1;32m~\\anaconda3\\Lib\\site-packages\\sqlalchemy\\engine\\reflection.py:97\u001b[0m, in \u001b[0;36mcache\u001b[1;34m(fn, self, con, *args, **kw)\u001b[0m\n\u001b[0;32m     95\u001b[0m ret: _R \u001b[38;5;241m=\u001b[39m info_cache\u001b[38;5;241m.\u001b[39mget(key)\n\u001b[0;32m     96\u001b[0m \u001b[38;5;28;01mif\u001b[39;00m ret \u001b[38;5;129;01mis\u001b[39;00m \u001b[38;5;28;01mNone\u001b[39;00m:\n\u001b[1;32m---> 97\u001b[0m     ret \u001b[38;5;241m=\u001b[39m fn(\u001b[38;5;28mself\u001b[39m, con, \u001b[38;5;241m*\u001b[39margs, \u001b[38;5;241m*\u001b[39m\u001b[38;5;241m*\u001b[39mkw)\n\u001b[0;32m     98\u001b[0m     info_cache[key] \u001b[38;5;241m=\u001b[39m ret\n\u001b[0;32m     99\u001b[0m \u001b[38;5;28;01mreturn\u001b[39;00m ret\n",
      "File \u001b[1;32m~\\anaconda3\\Lib\\site-packages\\sqlalchemy\\dialects\\mssql\\base.py:2892\u001b[0m, in \u001b[0;36m_db_plus_owner.<locals>.wrap\u001b[1;34m(dialect, connection, tablename, schema, **kw)\u001b[0m\n\u001b[0;32m   2890\u001b[0m \u001b[38;5;28;01mdef\u001b[39;00m \u001b[38;5;21mwrap\u001b[39m(dialect, connection, tablename, schema\u001b[38;5;241m=\u001b[39m\u001b[38;5;28;01mNone\u001b[39;00m, \u001b[38;5;241m*\u001b[39m\u001b[38;5;241m*\u001b[39mkw):\n\u001b[0;32m   2891\u001b[0m     dbname, owner \u001b[38;5;241m=\u001b[39m _owner_plus_db(dialect, schema)\n\u001b[1;32m-> 2892\u001b[0m     \u001b[38;5;28;01mreturn\u001b[39;00m _switch_db(\n\u001b[0;32m   2893\u001b[0m         dbname,\n\u001b[0;32m   2894\u001b[0m         connection,\n\u001b[0;32m   2895\u001b[0m         fn,\n\u001b[0;32m   2896\u001b[0m         dialect,\n\u001b[0;32m   2897\u001b[0m         connection,\n\u001b[0;32m   2898\u001b[0m         tablename,\n\u001b[0;32m   2899\u001b[0m         dbname,\n\u001b[0;32m   2900\u001b[0m         owner,\n\u001b[0;32m   2901\u001b[0m         schema,\n\u001b[0;32m   2902\u001b[0m         \u001b[38;5;241m*\u001b[39m\u001b[38;5;241m*\u001b[39mkw,\n\u001b[0;32m   2903\u001b[0m     )\n",
      "File \u001b[1;32m~\\anaconda3\\Lib\\site-packages\\sqlalchemy\\dialects\\mssql\\base.py:2916\u001b[0m, in \u001b[0;36m_switch_db\u001b[1;34m(dbname, connection, fn, *arg, **kw)\u001b[0m\n\u001b[0;32m   2912\u001b[0m         connection\u001b[38;5;241m.\u001b[39mexec_driver_sql(\n\u001b[0;32m   2913\u001b[0m             \u001b[38;5;124m\"\u001b[39m\u001b[38;5;124muse \u001b[39m\u001b[38;5;132;01m%s\u001b[39;00m\u001b[38;5;124m\"\u001b[39m \u001b[38;5;241m%\u001b[39m connection\u001b[38;5;241m.\u001b[39mdialect\u001b[38;5;241m.\u001b[39midentifier_preparer\u001b[38;5;241m.\u001b[39mquote(dbname)\n\u001b[0;32m   2914\u001b[0m         )\n\u001b[0;32m   2915\u001b[0m \u001b[38;5;28;01mtry\u001b[39;00m:\n\u001b[1;32m-> 2916\u001b[0m     \u001b[38;5;28;01mreturn\u001b[39;00m fn(\u001b[38;5;241m*\u001b[39marg, \u001b[38;5;241m*\u001b[39m\u001b[38;5;241m*\u001b[39mkw)\n\u001b[0;32m   2917\u001b[0m \u001b[38;5;28;01mfinally\u001b[39;00m:\n\u001b[0;32m   2918\u001b[0m     \u001b[38;5;28;01mif\u001b[39;00m dbname \u001b[38;5;129;01mand\u001b[39;00m current_db \u001b[38;5;241m!=\u001b[39m dbname:\n",
      "File \u001b[1;32m~\\anaconda3\\Lib\\site-packages\\sqlalchemy\\dialects\\mssql\\base.py:3998\u001b[0m, in \u001b[0;36mMSDialect.get_foreign_keys\u001b[1;34m(self, connection, tablename, dbname, owner, schema, **kw)\u001b[0m\n\u001b[0;32m   3987\u001b[0m     \u001b[38;5;28;01mreturn\u001b[39;00m {\n\u001b[0;32m   3988\u001b[0m         \u001b[38;5;124m\"\u001b[39m\u001b[38;5;124mname\u001b[39m\u001b[38;5;124m\"\u001b[39m: \u001b[38;5;28;01mNone\u001b[39;00m,\n\u001b[0;32m   3989\u001b[0m         \u001b[38;5;124m\"\u001b[39m\u001b[38;5;124mconstrained_columns\u001b[39m\u001b[38;5;124m\"\u001b[39m: [],\n\u001b[1;32m   (...)\u001b[0m\n\u001b[0;32m   3993\u001b[0m         \u001b[38;5;124m\"\u001b[39m\u001b[38;5;124moptions\u001b[39m\u001b[38;5;124m\"\u001b[39m: {},\n\u001b[0;32m   3994\u001b[0m     }\n\u001b[0;32m   3996\u001b[0m fkeys \u001b[38;5;241m=\u001b[39m util\u001b[38;5;241m.\u001b[39mdefaultdict(fkey_rec)\n\u001b[1;32m-> 3998\u001b[0m \u001b[38;5;28;01mfor\u001b[39;00m r \u001b[38;5;129;01min\u001b[39;00m connection\u001b[38;5;241m.\u001b[39mexecute(s)\u001b[38;5;241m.\u001b[39mall():\n\u001b[0;32m   3999\u001b[0m     (\n\u001b[0;32m   4000\u001b[0m         _,  \u001b[38;5;66;03m# constraint schema\u001b[39;00m\n\u001b[0;32m   4001\u001b[0m         rfknm,\n\u001b[1;32m   (...)\u001b[0m\n\u001b[0;32m   4012\u001b[0m         fkdelrule,\n\u001b[0;32m   4013\u001b[0m     ) \u001b[38;5;241m=\u001b[39m r\n\u001b[0;32m   4015\u001b[0m     rec \u001b[38;5;241m=\u001b[39m fkeys[rfknm]\n",
      "File \u001b[1;32m~\\anaconda3\\Lib\\site-packages\\sqlalchemy\\engine\\base.py:1416\u001b[0m, in \u001b[0;36mConnection.execute\u001b[1;34m(self, statement, parameters, execution_options)\u001b[0m\n\u001b[0;32m   1414\u001b[0m     \u001b[38;5;28;01mraise\u001b[39;00m exc\u001b[38;5;241m.\u001b[39mObjectNotExecutableError(statement) \u001b[38;5;28;01mfrom\u001b[39;00m \u001b[38;5;21;01merr\u001b[39;00m\n\u001b[0;32m   1415\u001b[0m \u001b[38;5;28;01melse\u001b[39;00m:\n\u001b[1;32m-> 1416\u001b[0m     \u001b[38;5;28;01mreturn\u001b[39;00m meth(\n\u001b[0;32m   1417\u001b[0m         \u001b[38;5;28mself\u001b[39m,\n\u001b[0;32m   1418\u001b[0m         distilled_parameters,\n\u001b[0;32m   1419\u001b[0m         execution_options \u001b[38;5;129;01mor\u001b[39;00m NO_OPTIONS,\n\u001b[0;32m   1420\u001b[0m     )\n",
      "File \u001b[1;32m~\\anaconda3\\Lib\\site-packages\\sqlalchemy\\sql\\elements.py:517\u001b[0m, in \u001b[0;36mClauseElement._execute_on_connection\u001b[1;34m(self, connection, distilled_params, execution_options)\u001b[0m\n\u001b[0;32m    515\u001b[0m     \u001b[38;5;28;01mif\u001b[39;00m TYPE_CHECKING:\n\u001b[0;32m    516\u001b[0m         \u001b[38;5;28;01massert\u001b[39;00m \u001b[38;5;28misinstance\u001b[39m(\u001b[38;5;28mself\u001b[39m, Executable)\n\u001b[1;32m--> 517\u001b[0m     \u001b[38;5;28;01mreturn\u001b[39;00m connection\u001b[38;5;241m.\u001b[39m_execute_clauseelement(\n\u001b[0;32m    518\u001b[0m         \u001b[38;5;28mself\u001b[39m, distilled_params, execution_options\n\u001b[0;32m    519\u001b[0m     )\n\u001b[0;32m    520\u001b[0m \u001b[38;5;28;01melse\u001b[39;00m:\n\u001b[0;32m    521\u001b[0m     \u001b[38;5;28;01mraise\u001b[39;00m exc\u001b[38;5;241m.\u001b[39mObjectNotExecutableError(\u001b[38;5;28mself\u001b[39m)\n",
      "File \u001b[1;32m~\\anaconda3\\Lib\\site-packages\\sqlalchemy\\engine\\base.py:1639\u001b[0m, in \u001b[0;36mConnection._execute_clauseelement\u001b[1;34m(self, elem, distilled_parameters, execution_options)\u001b[0m\n\u001b[0;32m   1627\u001b[0m compiled_cache: Optional[CompiledCacheType] \u001b[38;5;241m=\u001b[39m execution_options\u001b[38;5;241m.\u001b[39mget(\n\u001b[0;32m   1628\u001b[0m     \u001b[38;5;124m\"\u001b[39m\u001b[38;5;124mcompiled_cache\u001b[39m\u001b[38;5;124m\"\u001b[39m, \u001b[38;5;28mself\u001b[39m\u001b[38;5;241m.\u001b[39mengine\u001b[38;5;241m.\u001b[39m_compiled_cache\n\u001b[0;32m   1629\u001b[0m )\n\u001b[0;32m   1631\u001b[0m compiled_sql, extracted_params, cache_hit \u001b[38;5;241m=\u001b[39m elem\u001b[38;5;241m.\u001b[39m_compile_w_cache(\n\u001b[0;32m   1632\u001b[0m     dialect\u001b[38;5;241m=\u001b[39mdialect,\n\u001b[0;32m   1633\u001b[0m     compiled_cache\u001b[38;5;241m=\u001b[39mcompiled_cache,\n\u001b[1;32m   (...)\u001b[0m\n\u001b[0;32m   1637\u001b[0m     linting\u001b[38;5;241m=\u001b[39m\u001b[38;5;28mself\u001b[39m\u001b[38;5;241m.\u001b[39mdialect\u001b[38;5;241m.\u001b[39mcompiler_linting \u001b[38;5;241m|\u001b[39m compiler\u001b[38;5;241m.\u001b[39mWARN_LINTING,\n\u001b[0;32m   1638\u001b[0m )\n\u001b[1;32m-> 1639\u001b[0m ret \u001b[38;5;241m=\u001b[39m \u001b[38;5;28mself\u001b[39m\u001b[38;5;241m.\u001b[39m_execute_context(\n\u001b[0;32m   1640\u001b[0m     dialect,\n\u001b[0;32m   1641\u001b[0m     dialect\u001b[38;5;241m.\u001b[39mexecution_ctx_cls\u001b[38;5;241m.\u001b[39m_init_compiled,\n\u001b[0;32m   1642\u001b[0m     compiled_sql,\n\u001b[0;32m   1643\u001b[0m     distilled_parameters,\n\u001b[0;32m   1644\u001b[0m     execution_options,\n\u001b[0;32m   1645\u001b[0m     compiled_sql,\n\u001b[0;32m   1646\u001b[0m     distilled_parameters,\n\u001b[0;32m   1647\u001b[0m     elem,\n\u001b[0;32m   1648\u001b[0m     extracted_params,\n\u001b[0;32m   1649\u001b[0m     cache_hit\u001b[38;5;241m=\u001b[39mcache_hit,\n\u001b[0;32m   1650\u001b[0m )\n\u001b[0;32m   1651\u001b[0m \u001b[38;5;28;01mif\u001b[39;00m has_events:\n\u001b[0;32m   1652\u001b[0m     \u001b[38;5;28mself\u001b[39m\u001b[38;5;241m.\u001b[39mdispatch\u001b[38;5;241m.\u001b[39mafter_execute(\n\u001b[0;32m   1653\u001b[0m         \u001b[38;5;28mself\u001b[39m,\n\u001b[0;32m   1654\u001b[0m         elem,\n\u001b[1;32m   (...)\u001b[0m\n\u001b[0;32m   1658\u001b[0m         ret,\n\u001b[0;32m   1659\u001b[0m     )\n",
      "File \u001b[1;32m~\\anaconda3\\Lib\\site-packages\\sqlalchemy\\engine\\base.py:1848\u001b[0m, in \u001b[0;36mConnection._execute_context\u001b[1;34m(self, dialect, constructor, statement, parameters, execution_options, *args, **kw)\u001b[0m\n\u001b[0;32m   1843\u001b[0m     \u001b[38;5;28;01mreturn\u001b[39;00m \u001b[38;5;28mself\u001b[39m\u001b[38;5;241m.\u001b[39m_exec_insertmany_context(\n\u001b[0;32m   1844\u001b[0m         dialect,\n\u001b[0;32m   1845\u001b[0m         context,\n\u001b[0;32m   1846\u001b[0m     )\n\u001b[0;32m   1847\u001b[0m \u001b[38;5;28;01melse\u001b[39;00m:\n\u001b[1;32m-> 1848\u001b[0m     \u001b[38;5;28;01mreturn\u001b[39;00m \u001b[38;5;28mself\u001b[39m\u001b[38;5;241m.\u001b[39m_exec_single_context(\n\u001b[0;32m   1849\u001b[0m         dialect, context, statement, parameters\n\u001b[0;32m   1850\u001b[0m     )\n",
      "File \u001b[1;32m~\\anaconda3\\Lib\\site-packages\\sqlalchemy\\engine\\base.py:1988\u001b[0m, in \u001b[0;36mConnection._exec_single_context\u001b[1;34m(self, dialect, context, statement, parameters)\u001b[0m\n\u001b[0;32m   1985\u001b[0m     result \u001b[38;5;241m=\u001b[39m context\u001b[38;5;241m.\u001b[39m_setup_result_proxy()\n\u001b[0;32m   1987\u001b[0m \u001b[38;5;28;01mexcept\u001b[39;00m \u001b[38;5;167;01mBaseException\u001b[39;00m \u001b[38;5;28;01mas\u001b[39;00m e:\n\u001b[1;32m-> 1988\u001b[0m     \u001b[38;5;28mself\u001b[39m\u001b[38;5;241m.\u001b[39m_handle_dbapi_exception(\n\u001b[0;32m   1989\u001b[0m         e, str_statement, effective_parameters, cursor, context\n\u001b[0;32m   1990\u001b[0m     )\n\u001b[0;32m   1992\u001b[0m \u001b[38;5;28;01mreturn\u001b[39;00m result\n",
      "File \u001b[1;32m~\\anaconda3\\Lib\\site-packages\\sqlalchemy\\engine\\base.py:2344\u001b[0m, in \u001b[0;36mConnection._handle_dbapi_exception\u001b[1;34m(self, e, statement, parameters, cursor, context, is_sub_exec)\u001b[0m\n\u001b[0;32m   2342\u001b[0m \u001b[38;5;28;01melif\u001b[39;00m should_wrap:\n\u001b[0;32m   2343\u001b[0m     \u001b[38;5;28;01massert\u001b[39;00m sqlalchemy_exception \u001b[38;5;129;01mis\u001b[39;00m \u001b[38;5;129;01mnot\u001b[39;00m \u001b[38;5;28;01mNone\u001b[39;00m\n\u001b[1;32m-> 2344\u001b[0m     \u001b[38;5;28;01mraise\u001b[39;00m sqlalchemy_exception\u001b[38;5;241m.\u001b[39mwith_traceback(exc_info[\u001b[38;5;241m2\u001b[39m]) \u001b[38;5;28;01mfrom\u001b[39;00m \u001b[38;5;21;01me\u001b[39;00m\n\u001b[0;32m   2345\u001b[0m \u001b[38;5;28;01melse\u001b[39;00m:\n\u001b[0;32m   2346\u001b[0m     \u001b[38;5;28;01massert\u001b[39;00m exc_info[\u001b[38;5;241m1\u001b[39m] \u001b[38;5;129;01mis\u001b[39;00m \u001b[38;5;129;01mnot\u001b[39;00m \u001b[38;5;28;01mNone\u001b[39;00m\n",
      "File \u001b[1;32m~\\anaconda3\\Lib\\site-packages\\sqlalchemy\\engine\\base.py:1969\u001b[0m, in \u001b[0;36mConnection._exec_single_context\u001b[1;34m(self, dialect, context, statement, parameters)\u001b[0m\n\u001b[0;32m   1967\u001b[0m                 \u001b[38;5;28;01mbreak\u001b[39;00m\n\u001b[0;32m   1968\u001b[0m     \u001b[38;5;28;01mif\u001b[39;00m \u001b[38;5;129;01mnot\u001b[39;00m evt_handled:\n\u001b[1;32m-> 1969\u001b[0m         \u001b[38;5;28mself\u001b[39m\u001b[38;5;241m.\u001b[39mdialect\u001b[38;5;241m.\u001b[39mdo_execute(\n\u001b[0;32m   1970\u001b[0m             cursor, str_statement, effective_parameters, context\n\u001b[0;32m   1971\u001b[0m         )\n\u001b[0;32m   1973\u001b[0m \u001b[38;5;28;01mif\u001b[39;00m \u001b[38;5;28mself\u001b[39m\u001b[38;5;241m.\u001b[39m_has_events \u001b[38;5;129;01mor\u001b[39;00m \u001b[38;5;28mself\u001b[39m\u001b[38;5;241m.\u001b[39mengine\u001b[38;5;241m.\u001b[39m_has_events:\n\u001b[0;32m   1974\u001b[0m     \u001b[38;5;28mself\u001b[39m\u001b[38;5;241m.\u001b[39mdispatch\u001b[38;5;241m.\u001b[39mafter_cursor_execute(\n\u001b[0;32m   1975\u001b[0m         \u001b[38;5;28mself\u001b[39m,\n\u001b[0;32m   1976\u001b[0m         cursor,\n\u001b[1;32m   (...)\u001b[0m\n\u001b[0;32m   1980\u001b[0m         context\u001b[38;5;241m.\u001b[39mexecutemany,\n\u001b[0;32m   1981\u001b[0m     )\n",
      "File \u001b[1;32m~\\anaconda3\\Lib\\site-packages\\sqlalchemy\\engine\\default.py:922\u001b[0m, in \u001b[0;36mDefaultDialect.do_execute\u001b[1;34m(self, cursor, statement, parameters, context)\u001b[0m\n\u001b[0;32m    921\u001b[0m \u001b[38;5;28;01mdef\u001b[39;00m \u001b[38;5;21mdo_execute\u001b[39m(\u001b[38;5;28mself\u001b[39m, cursor, statement, parameters, context\u001b[38;5;241m=\u001b[39m\u001b[38;5;28;01mNone\u001b[39;00m):\n\u001b[1;32m--> 922\u001b[0m     cursor\u001b[38;5;241m.\u001b[39mexecute(statement, parameters)\n",
      "\u001b[1;31mProgrammingError\u001b[0m: (pyodbc.ProgrammingError) ('42000', \"[42000] [Microsoft][ODBC Driver 17 for SQL Server][SQL Server]Incorrect syntax near ')'. (102) (SQLExecDirectW)\")\n[SQL: WITH fk_info AS (\n    SELECT\n        ischema_ref_con.constraint_schema,\n        ischema_ref_con.constraint_name,\n        ischema_key_col.ordinal_position,\n        ischema_key_col.table_schema,\n        ischema_key_col.table_name,\n        ischema_ref_con.unique_constraint_schema,\n        ischema_ref_con.unique_constraint_name,\n        ischema_ref_con.match_option,\n        ischema_ref_con.update_rule,\n        ischema_ref_con.delete_rule,\n        ischema_key_col.column_name AS constrained_column\n    FROM\n        INFORMATION_SCHEMA.REFERENTIAL_CONSTRAINTS ischema_ref_con\n        INNER JOIN\n        INFORMATION_SCHEMA.KEY_COLUMN_USAGE ischema_key_col ON\n            ischema_key_col.table_schema = ischema_ref_con.constraint_schema\n            AND ischema_key_col.constraint_name =\n            ischema_ref_con.constraint_name\n    WHERE ischema_key_col.table_name = CAST(? AS NVARCHAR(max))\n        AND ischema_key_col.table_schema = CAST(? AS NVARCHAR(max))\n),\nconstraint_info AS (\n    SELECT\n        ischema_key_col.constraint_schema,\n        ischema_key_col.constraint_name,\n        ischema_key_col.ordinal_position,\n        ischema_key_col.table_schema,\n        ischema_key_col.table_name,\n        ischema_key_col.column_name\n    FROM\n        INFORMATION_SCHEMA.KEY_COLUMN_USAGE ischema_key_col\n),\nindex_info AS (\n    SELECT\n        sys.schemas.name AS index_schema,\n        sys.indexes.name AS index_name,\n        sys.index_columns.key_ordinal AS ordinal_position,\n        sys.schemas.name AS table_schema,\n        sys.objects.name AS table_name,\n        sys.columns.name AS column_name\n    FROM\n        sys.indexes\n        INNER JOIN\n        sys.objects ON\n            sys.objects.object_id = sys.indexes.object_id\n        INNER JOIN\n        sys.schemas ON\n            sys.schemas.schema_id = sys.objects.schema_id\n        INNER JOIN\n        sys.index_columns ON\n            sys.index_columns.object_id = sys.objects.object_id\n            AND sys.index_columns.index_id = sys.indexes.index_id\n        INNER JOIN\n        sys.columns ON\n            sys.columns.object_id = sys.indexes.object_id\n            AND sys.columns.column_id = sys.index_columns.column_id\n)\n    SELECT\n        fk_info.constraint_schema,\n        fk_info.constraint_name,\n        fk_info.ordinal_position,\n        fk_info.constrained_column,\n        constraint_info.table_schema AS referred_table_schema,\n        constraint_info.table_name AS referred_table_name,\n        constraint_info.column_name AS referred_column,\n        fk_info.match_option,\n        fk_info.update_rule,\n        fk_info.delete_rule\n    FROM\n        fk_info INNER JOIN constraint_info ON\n            constraint_info.constraint_schema =\n                fk_info.unique_constraint_schema\n            AND constraint_info.constraint_name =\n                fk_info.unique_constraint_name\n            AND constraint_info.ordinal_position = fk_info.ordinal_position\n    UNION\n    SELECT\n        fk_info.constraint_schema,\n        fk_info.constraint_name,\n        fk_info.ordinal_position,\n        fk_info.constrained_column,\n        index_info.table_schema AS referred_table_schema,\n        index_info.table_name AS referred_table_name,\n        index_info.column_name AS referred_column,\n        fk_info.match_option,\n        fk_info.update_rule,\n        fk_info.delete_rule\n    FROM\n        fk_info INNER JOIN index_info ON\n            index_info.index_schema = fk_info.unique_constraint_schema\n            AND index_info.index_name = fk_info.unique_constraint_name\n            AND index_info.ordinal_position = fk_info.ordinal_position\n\n    ORDER BY fk_info.constraint_schema, fk_info.constraint_name,\n        fk_info.ordinal_position\n]\n[parameters: ('Players', 'dbo')]\n(Background on this error at: https://sqlalche.me/e/20/f405)"
     ]
    }
   ],
   "source": [
    "for year in range(2010,2024):\n",
    "        #database\n",
    "    football_db = f'Football_Data_{year}'\n",
    "\n",
    "    #db connection str\n",
    "    football_data_eng = create_engine(f'mssql+pyodbc://@{servername}/{football_db}{trusted_conneciton}{driver}')\n",
    "\n",
    "    football_data_year_conn = football_data_eng.connect()\n",
    "    \n",
    "    for team in team_li:\n",
    "        file_loc = f'NFL_Data_{year}\\{team}\\{team}_roster'\n",
    "\n",
    "        df = pd.read_csv(file_loc, index_col=0)\n",
    "\n",
    "        try:\n",
    "            df = df.drop(columns=['Unnamed: 0'])\n",
    "        except:\n",
    "            pass\n",
    "\n",
    "        df.to_csv(file_loc, index=0)\n",
    "        \n",
    "        df.to_sql('Players', con=football_data_year_conn, if_exists='replace')"
   ]
  },
  {
   "cell_type": "code",
   "execution_count": null,
   "id": "d7545d35-7076-4b94-9565-c913368dcb31",
   "metadata": {},
   "outputs": [],
   "source": [
    "stop"
   ]
  },
  {
   "cell_type": "code",
   "execution_count": null,
   "id": "b2bc4bfe-1d1b-45ed-8e5a-84403d097764",
   "metadata": {},
   "outputs": [],
   "source": []
  },
  {
   "cell_type": "markdown",
   "id": "5a81b985-9a97-4228-bbe4-35e3492090f1",
   "metadata": {},
   "source": [
    "# Import players advanced stats log into sql "
   ]
  },
  {
   "cell_type": "code",
   "execution_count": null,
   "id": "1341549a-fb03-49ad-9bf6-c4fc2e22dbdd",
   "metadata": {
    "scrolled": true
   },
   "outputs": [],
   "source": [
    "# imports player advanced log to each season \n",
    "\n",
    "years = range(2018,2024)\n",
    "\n",
    "players_adv_log_name_li = []\n",
    "\n",
    "for year in years:\n",
    "    # go to nfl data year data\n",
    "    year = str(year)\n",
    "\n",
    "    file_loc_year = f'NFL_Data_{year}/'\n",
    "        \n",
    "    os.chdir(file_loc_year)\n",
    "\n",
    "    \n",
    "    for team in team_li:\n",
    "        # got to the team and tis player log\n",
    "        file_loc_team = f'{team}/Players Log'\n",
    "\n",
    "        #change folders and get list of files of players\n",
    "        os.chdir(file_loc_team)\n",
    "\n",
    "        player_file_list = os.listdir()\n",
    "\n",
    "        #i want to save all of the players file name as a list to refer back to when\n",
    "        # I need to union all of the players\n",
    "        players_adv_log_name_li.append([year]+player_file_list)\n",
    "        \n",
    "        for player in player_file_list:\n",
    "            #get dataframe\n",
    "            df = pd.read_csv(player, index_col=0)\n",
    "            # import to sql nfl_data\n",
    "            df.to_sql(player+'_adv_stats'+'_'+team+'_'+year, con=conn_engine_nfl_data, if_exists='replace')\n",
    "\n",
    "        os.chdir('..')\n",
    "        os.chdir('..')\n",
    "    \n",
    "    os.chdir('..')"
   ]
  },
  {
   "cell_type": "code",
   "execution_count": null,
   "id": "a2906f61-1729-4182-93da-538d685e00a2",
   "metadata": {},
   "outputs": [],
   "source": []
  },
  {
   "cell_type": "code",
   "execution_count": null,
   "id": "c8632266-cabc-4f7d-89cf-3400e11271e9",
   "metadata": {},
   "outputs": [],
   "source": [
    "# get player names list\n",
    "\n",
    "players_adv_log_name_li = []\n",
    "\n",
    "years = range(2018,2024)\n",
    "\n",
    "for year in years:\n",
    "    year = str(year)\n",
    "\n",
    "    file_loc_year = f'NFL_Data_{year}/'\n",
    "        \n",
    "    os.chdir(file_loc_year)\n",
    "\n",
    "    \n",
    "    for team in team_li:\n",
    "        file_loc_team = f'{team}/Players Log'\n",
    "\n",
    "        #change folders and get list of files of players\n",
    "        os.chdir(file_loc_team)\n",
    "\n",
    "        player_file_list = os.listdir()\n",
    "\n",
    "        #i want to save all of the players file name as a list to refer back to when\n",
    "        # I need to union all of the players\n",
    "        players_adv_log_name_li.append([year]+player_file_list)\n",
    "\n",
    "        os.chdir('..')\n",
    "        os.chdir('..')\n",
    "    \n",
    "    os.chdir('..')"
   ]
  },
  {
   "cell_type": "code",
   "execution_count": null,
   "id": "5bc03dc0-cd8c-4c82-95bf-87655c6a404c",
   "metadata": {},
   "outputs": [],
   "source": [
    "players_adv_log_name_li"
   ]
  },
  {
   "cell_type": "code",
   "execution_count": null,
   "id": "8f258bbc-3b61-410e-bc24-5045d35e8913",
   "metadata": {},
   "outputs": [],
   "source": [
    "stop"
   ]
  },
  {
   "cell_type": "markdown",
   "id": "66f964eb-cd6f-460a-85c0-6cdd9520ca83",
   "metadata": {},
   "source": [
    "#### I need to query each players position, from player advanced log to player roster which has the position information. \n",
    "- I'm gettig the position data from the Players table which is all the teams rosters for that season\n",
    "- I need to get the position from the Players table and "
   ]
  },
  {
   "cell_type": "code",
   "execution_count": null,
   "id": "2e14406f-1a66-46b0-828e-7fbf0066f56a",
   "metadata": {},
   "outputs": [],
   "source": [
    "#### working on: 4/3/2024\n",
    "\n",
    "# in sql go get each seasons Players table \n",
    "# and use Columns: Player, Team, Pos\n",
    "# use Players query data to go into each player adv log file\n",
    "\n",
    "for year in range(2018,2024):\n",
    "    for team in team_li:\n",
    "        for player_li in players_adv_log_name_li:\n",
    "            for player in player_li:"
   ]
  },
  {
   "cell_type": "code",
   "execution_count": null,
   "id": "142cd99b-1683-4fac-bcec-17faff03abae",
   "metadata": {},
   "outputs": [],
   "source": []
  },
  {
   "cell_type": "code",
   "execution_count": null,
   "id": "490a235c-5927-4bf6-b1fe-1b9fc29835de",
   "metadata": {},
   "outputs": [],
   "source": []
  },
  {
   "cell_type": "code",
   "execution_count": null,
   "id": "b0e2c916-fd0b-42bb-a766-cec5291e15aa",
   "metadata": {},
   "outputs": [],
   "source": []
  },
  {
   "cell_type": "code",
   "execution_count": null,
   "id": "8f60f110-e74c-4ea7-a830-738ed0458c4a",
   "metadata": {},
   "outputs": [],
   "source": []
  },
  {
   "cell_type": "code",
   "execution_count": null,
   "id": "18a2e36e-60ac-448d-a4dd-e71a4b53adaf",
   "metadata": {},
   "outputs": [],
   "source": []
  },
  {
   "cell_type": "code",
   "execution_count": null,
   "id": "745288b2-d6bd-4a11-ac2e-6217f8a44179",
   "metadata": {},
   "outputs": [],
   "source": []
  },
  {
   "cell_type": "code",
   "execution_count": null,
   "id": "bb6c475a-8b91-4562-badf-406db37c8a02",
   "metadata": {},
   "outputs": [],
   "source": [
    "\n",
    "        "
   ]
  },
  {
   "cell_type": "code",
   "execution_count": null,
   "id": "d267abc4-fb58-48a5-b373-f94895987129",
   "metadata": {},
   "outputs": [],
   "source": []
  },
  {
   "cell_type": "code",
   "execution_count": null,
   "id": "038fd93b-abe9-4f99-945f-4e5184c54850",
   "metadata": {},
   "outputs": [],
   "source": []
  }
 ],
 "metadata": {
  "kernelspec": {
   "display_name": "Python 3 (ipykernel)",
   "language": "python",
   "name": "python3"
  },
  "language_info": {
   "codemirror_mode": {
    "name": "ipython",
    "version": 3
   },
   "file_extension": ".py",
   "mimetype": "text/x-python",
   "name": "python",
   "nbconvert_exporter": "python",
   "pygments_lexer": "ipython3",
   "version": "3.11.5"
  }
 },
 "nbformat": 4,
 "nbformat_minor": 5
}
