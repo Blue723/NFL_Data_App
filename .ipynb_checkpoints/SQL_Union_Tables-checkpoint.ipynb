{
 "cells": [
  {
   "cell_type": "code",
   "execution_count": 1,
   "id": "616f96fd-656f-4bf1-b56e-a431015ad943",
   "metadata": {},
   "outputs": [],
   "source": [
    "#Union table same tables"
   ]
  },
  {
   "cell_type": "code",
   "execution_count": 2,
   "id": "a60a4b33-7a28-4b1c-be86-b2201922631b",
   "metadata": {},
   "outputs": [],
   "source": [
    "import pandas as pd\n",
    "\n",
    "import pyodbc\n",
    "\n",
    "import sqlalchemy as sal\n",
    "from sqlalchemy import create_engine\n",
    "from sqlalchemy.sql import text\n",
    "\n",
    "import os\n",
    "\n",
    "import re"
   ]
  },
  {
   "cell_type": "code",
   "execution_count": 3,
   "id": "4a81379a-9464-48d1-aeac-7f0b9bdf5430",
   "metadata": {},
   "outputs": [],
   "source": [
    "# connection link varaibles\n",
    "# NFL Data databas has all year and team in separate tables\n",
    "servername = '*****'\n",
    "nfl_data = 'NFL_Data'\n",
    "trusted_conneciton = '?trusted_conneciton=yes'\n",
    "driver = '&driver=ODBC+Driver+17+for+SQL+Server'"
   ]
  },
  {
   "cell_type": "code",
   "execution_count": 4,
   "id": "3ca061b4-b6ee-4cc6-95ee-c7e5b378f400",
   "metadata": {},
   "outputs": [
    {
     "data": {
      "text/plain": [
       "Engine(mssql+pyodbc://@DESKTOP-5IAPFQC/NFL_Data?driver=ODBC+Driver+17+for+SQL+Server&trusted_conneciton=yes)"
      ]
     },
     "execution_count": 4,
     "metadata": {},
     "output_type": "execute_result"
    }
   ],
   "source": [
    "#create engine url to connect to sql server\n",
    "engine_nfl_data = create_engine(f'mssql+pyodbc://@{servername}/{nfl_data}{trusted_conneciton}{driver}')\n",
    "engine_nfl_data"
   ]
  },
  {
   "cell_type": "code",
   "execution_count": 5,
   "id": "7afbe2bb-aded-4c70-8d78-c4a6dcec2376",
   "metadata": {},
   "outputs": [],
   "source": [
    "# connection link varaibles\n",
    "# Contains unioned tables from all years and teams\n",
    "servername = '*****'\n",
    "football_data = 'Football_Data'\n",
    "trusted_conneciton = '?trusted_conneciton=yes'\n",
    "driver = '&driver=ODBC+Driver+17+for+SQL+Server'"
   ]
  },
  {
   "cell_type": "code",
   "execution_count": 6,
   "id": "dba26020-8543-4ae0-84df-cc193f31ef2d",
   "metadata": {},
   "outputs": [
    {
     "data": {
      "text/plain": [
       "Engine(mssql+pyodbc://@DESKTOP-5IAPFQC/Football_Data?driver=ODBC+Driver+17+for+SQL+Server&trusted_conneciton=yes)"
      ]
     },
     "execution_count": 6,
     "metadata": {},
     "output_type": "execute_result"
    }
   ],
   "source": [
    "#create engine url to connect to sql server\n",
    "engine_football_data = create_engine(f'mssql+pyodbc://@{servername}/{football_data}{trusted_conneciton}{driver}')\n",
    "engine_football_data"
   ]
  },
  {
   "cell_type": "code",
   "execution_count": 7,
   "id": "dd54e8cb-0e7c-41f5-aade-cfeb0da587a3",
   "metadata": {},
   "outputs": [],
   "source": [
    "#need to fix year 2023\n",
    "years = range(2010, 2024)"
   ]
  },
  {
   "cell_type": "code",
   "execution_count": 8,
   "id": "2697e42d-14ff-4d5f-b6f1-8b654356f3db",
   "metadata": {},
   "outputs": [],
   "source": [
    "team_li = [\n",
    "     '49ers',\n",
    "     'Bears',\n",
    "     'Bengals',\n",
    "     'Broncos',\n",
    "     'Browns',\n",
    "     'Buccaneers',\n",
    "     'Buffalos',\n",
    "     'Cardinals',\n",
    "     'Chargers',\n",
    "     'Chiefs',\n",
    "     'Colts',\n",
    "     'Commanders',\n",
    "     'Cowboys',\n",
    "     'Dolphins',\n",
    "     'Eagles',\n",
    "     'Falcons',\n",
    "     'Giants',\n",
    "     'Jaguars',\n",
    "     'Jets',\n",
    "     'Lions',\n",
    "     'Packers',\n",
    "     'Panthers',\n",
    "     'Patriots',\n",
    "     'Raiders',\n",
    "     'Rams',\n",
    "     'Ravens',\n",
    "     'Saints',\n",
    "     'Seahawks',\n",
    "     'Steelers',\n",
    "     'Texans',\n",
    "     'Titans',\n",
    "     'Vikings'\n",
    "]"
   ]
  },
  {
   "cell_type": "code",
   "execution_count": 9,
   "id": "2a25c645-0cd3-4406-a8c6-191dfee82d48",
   "metadata": {},
   "outputs": [],
   "source": [
    "table_li = [\n",
    "    'team_stats_and_ranking',\n",
    "    'schedule_and_game_results',\n",
    "    'team_conversions',\n",
    "    'passing',\n",
    "    'rushing_and_receiving',\n",
    "    'kick_and_punt_returns',\n",
    "    'kicking',\n",
    "    'punting',\n",
    "    'defense_and_fumbles',\n",
    "    'scoring_summary',\n",
    "    'touchdown_log',\n",
    "    'opponent_touchdown_log'\n",
    "]"
   ]
  },
  {
   "cell_type": "code",
   "execution_count": 10,
   "id": "abf78e2d-bffc-4628-b92a-a08480dd362e",
   "metadata": {},
   "outputs": [],
   "source": [
    "#Conneciton to SQL Engine\n",
    "conn_nfl_data = engine_nfl_data.connect()"
   ]
  },
  {
   "cell_type": "code",
   "execution_count": 11,
   "id": "53cfb3a8-1d8f-4737-b07a-e0ee095a6d87",
   "metadata": {},
   "outputs": [],
   "source": [
    "conn_football_data = engine_football_data.connect()"
   ]
  },
  {
   "cell_type": "code",
   "execution_count": 12,
   "id": "b3c09ced-282a-4780-bd7e-f1e2150df17a",
   "metadata": {},
   "outputs": [],
   "source": [
    "def sql_table_union (years: list, teams: list, table:str):\n",
    "\n",
    "    sql_table_li = []\n",
    "    for year in years:\n",
    "        for team in team_li:\n",
    "            sql_table = f'select * from {table}_{team}_{year}' \n",
    "    \n",
    "            sql_table_li.append(sql_table)\n",
    "\n",
    "    sql_table_union = ' union '.join([sqlt for sqlt in sql_table_li])\n",
    "    \n",
    "    return sql_table_union"
   ]
  },
  {
   "cell_type": "code",
   "execution_count": 13,
   "id": "17bf23b5-35cf-46e9-a6be-b186212fb5bb",
   "metadata": {},
   "outputs": [
    {
     "name": "stdout",
     "output_type": "stream",
     "text": [
      "***************************************************\n",
      "team_stats_and_ranking\n",
      "***************************************************\n",
      "schedule_and_game_results\n",
      "***************************************************\n",
      "team_conversions\n",
      "***************************************************\n",
      "passing\n",
      "***************************************************\n",
      "rushing_and_receiving\n",
      "***************************************************\n",
      "kick_and_punt_returns\n",
      "***************************************************\n",
      "kicking\n",
      "***************************************************\n",
      "punting\n",
      "***************************************************\n",
      "defense_and_fumbles\n",
      "***************************************************\n",
      "scoring_summary\n",
      "***************************************************\n",
      "touchdown_log\n",
      "***************************************************\n",
      "opponent_touchdown_log\n"
     ]
    }
   ],
   "source": [
    "##################### change connection engine databse 'Football_Data' when export to SQL, \n",
    "############### but not for query leave 'NFL_Data'\n",
    "for table in table_li:\n",
    "    print('***************************************************')\n",
    "    print(f'{table}')\n",
    "    sql_table_union_str = sql_table_union(years, team_li, table=table)\n",
    "    \n",
    "    sql_df_union = pd.read_sql(sql_table_union_str, con=conn_nfl_data)\n",
    "\n",
    "    sql_df_union.to_sql(table, con=conn_football_data, if_exists='replace')\n",
    "\n",
    "    sql_df_union.to_csv(f'Table Data/{table}')"
   ]
  },
  {
   "cell_type": "code",
   "execution_count": 14,
   "id": "c41df522-e404-41dc-9b88-b51530b7512e",
   "metadata": {},
   "outputs": [],
   "source": [
    "table = 'defense_and_fumbles'\n",
    "sql_query = f'select * from {table}'"
   ]
  },
  {
   "cell_type": "code",
   "execution_count": 15,
   "id": "2508eb9e-90de-4ad9-bd0b-c6ae9e44c67f",
   "metadata": {},
   "outputs": [],
   "source": [
    "defense_and_fumbles_df = pd.read_sql(sql_query, con=conn_football_data)"
   ]
  },
  {
   "cell_type": "code",
   "execution_count": 16,
   "id": "480d875c-5230-404f-8574-962ba653df84",
   "metadata": {},
   "outputs": [
    {
     "data": {
      "text/plain": [
       "Year\n",
       "2021    1723\n",
       "2022    1693\n",
       "2020    1524\n",
       "2023    1524\n",
       "2010    1503\n",
       "2018    1489\n",
       "2019    1482\n",
       "2015    1459\n",
       "2017    1458\n",
       "2014    1454\n",
       "2016    1450\n",
       "2011    1421\n",
       "2013    1418\n",
       "2012    1398\n",
       "Name: count, dtype: int64"
      ]
     },
     "execution_count": 16,
     "metadata": {},
     "output_type": "execute_result"
    }
   ],
   "source": [
    "defense_and_fumbles_df['Year'].value_counts()"
   ]
  },
  {
   "cell_type": "code",
   "execution_count": 17,
   "id": "0a9dc1f1-54f6-42e7-81b2-f6dc7eb11b67",
   "metadata": {},
   "outputs": [
    {
     "data": {
      "text/html": [
       "<div>\n",
       "<style scoped>\n",
       "    .dataframe tbody tr th:only-of-type {\n",
       "        vertical-align: middle;\n",
       "    }\n",
       "\n",
       "    .dataframe tbody tr th {\n",
       "        vertical-align: top;\n",
       "    }\n",
       "\n",
       "    .dataframe thead th {\n",
       "        text-align: right;\n",
       "    }\n",
       "</style>\n",
       "<table border=\"1\" class=\"dataframe\">\n",
       "  <thead>\n",
       "    <tr style=\"text-align: right;\">\n",
       "      <th></th>\n",
       "      <th>Unnamed: 0</th>\n",
       "      <th>Rank</th>\n",
       "      <th>Team</th>\n",
       "      <th>Date</th>\n",
       "      <th>Opponent</th>\n",
       "      <th>Win/Loss</th>\n",
       "      <th>Score</th>\n",
       "      <th>Quarter</th>\n",
       "      <th>Distance</th>\n",
       "      <th>Type</th>\n",
       "      <th>Detail</th>\n",
       "      <th>Year</th>\n",
       "    </tr>\n",
       "  </thead>\n",
       "  <tbody>\n",
       "    <tr>\n",
       "      <th>0</th>\n",
       "      <td>0</td>\n",
       "      <td>1</td>\n",
       "      <td>49ers</td>\n",
       "      <td>09/07/2014</td>\n",
       "      <td>DAL</td>\n",
       "      <td>Win</td>\n",
       "      <td>28-17</td>\n",
       "      <td>3</td>\n",
       "      <td>2.0</td>\n",
       "      <td>rush</td>\n",
       "      <td>DeMarco Murray</td>\n",
       "      <td>2014</td>\n",
       "    </tr>\n",
       "    <tr>\n",
       "      <th>1</th>\n",
       "      <td>1</td>\n",
       "      <td>1</td>\n",
       "      <td>49ers</td>\n",
       "      <td>09/08/2013</td>\n",
       "      <td>GNB</td>\n",
       "      <td>Win</td>\n",
       "      <td>34-28</td>\n",
       "      <td>1</td>\n",
       "      <td>5.0</td>\n",
       "      <td>pass</td>\n",
       "      <td>Randall Cobb</td>\n",
       "      <td>2013</td>\n",
       "    </tr>\n",
       "    <tr>\n",
       "      <th>2</th>\n",
       "      <td>2</td>\n",
       "      <td>1</td>\n",
       "      <td>49ers</td>\n",
       "      <td>09/08/2019</td>\n",
       "      <td>TAM</td>\n",
       "      <td>Win</td>\n",
       "      <td>31-17</td>\n",
       "      <td>2</td>\n",
       "      <td>15.0</td>\n",
       "      <td>interception</td>\n",
       "      <td>Vernon Hargreaves III</td>\n",
       "      <td>2019</td>\n",
       "    </tr>\n",
       "    <tr>\n",
       "      <th>3</th>\n",
       "      <td>3</td>\n",
       "      <td>1</td>\n",
       "      <td>49ers</td>\n",
       "      <td>09/09/2012</td>\n",
       "      <td>GNB</td>\n",
       "      <td>Win</td>\n",
       "      <td>30-22</td>\n",
       "      <td>2</td>\n",
       "      <td>1.0</td>\n",
       "      <td>pass</td>\n",
       "      <td>Jermichael Finley</td>\n",
       "      <td>2012</td>\n",
       "    </tr>\n",
       "    <tr>\n",
       "      <th>4</th>\n",
       "      <td>4</td>\n",
       "      <td>1</td>\n",
       "      <td>49ers</td>\n",
       "      <td>09/09/2018</td>\n",
       "      <td>MIN</td>\n",
       "      <td>Loss</td>\n",
       "      <td>16-24</td>\n",
       "      <td>2</td>\n",
       "      <td>22.0</td>\n",
       "      <td>pass</td>\n",
       "      <td>Stefon Diggs</td>\n",
       "      <td>2018</td>\n",
       "    </tr>\n",
       "    <tr>\n",
       "      <th>...</th>\n",
       "      <td>...</td>\n",
       "      <td>...</td>\n",
       "      <td>...</td>\n",
       "      <td>...</td>\n",
       "      <td>...</td>\n",
       "      <td>...</td>\n",
       "      <td>...</td>\n",
       "      <td>...</td>\n",
       "      <td>...</td>\n",
       "      <td>...</td>\n",
       "      <td>...</td>\n",
       "      <td>...</td>\n",
       "    </tr>\n",
       "    <tr>\n",
       "      <th>18530</th>\n",
       "      <td>18530</td>\n",
       "      <td>64</td>\n",
       "      <td>Lions</td>\n",
       "      <td>01/03/2021</td>\n",
       "      <td>MIN</td>\n",
       "      <td>Loss</td>\n",
       "      <td>35-37</td>\n",
       "      <td>1</td>\n",
       "      <td>28.0</td>\n",
       "      <td>pass</td>\n",
       "      <td>Alexander Mattison</td>\n",
       "      <td>2020</td>\n",
       "    </tr>\n",
       "    <tr>\n",
       "      <th>18531</th>\n",
       "      <td>18531</td>\n",
       "      <td>65</td>\n",
       "      <td>Lions</td>\n",
       "      <td>01/03/2021</td>\n",
       "      <td>MIN</td>\n",
       "      <td>Loss</td>\n",
       "      <td>35-37</td>\n",
       "      <td>2</td>\n",
       "      <td>4.0</td>\n",
       "      <td>pass</td>\n",
       "      <td>Ameer Abdullah</td>\n",
       "      <td>2020</td>\n",
       "    </tr>\n",
       "    <tr>\n",
       "      <th>18532</th>\n",
       "      <td>18532</td>\n",
       "      <td>66</td>\n",
       "      <td>Lions</td>\n",
       "      <td>01/03/2021</td>\n",
       "      <td>MIN</td>\n",
       "      <td>Loss</td>\n",
       "      <td>35-37</td>\n",
       "      <td>2</td>\n",
       "      <td>40.0</td>\n",
       "      <td>pass</td>\n",
       "      <td>Chad Beebe</td>\n",
       "      <td>2020</td>\n",
       "    </tr>\n",
       "    <tr>\n",
       "      <th>18533</th>\n",
       "      <td>18533</td>\n",
       "      <td>67</td>\n",
       "      <td>Lions</td>\n",
       "      <td>01/03/2021</td>\n",
       "      <td>MIN</td>\n",
       "      <td>Loss</td>\n",
       "      <td>35-37</td>\n",
       "      <td>3</td>\n",
       "      <td>2.0</td>\n",
       "      <td>rush</td>\n",
       "      <td>Alexander Mattison</td>\n",
       "      <td>2020</td>\n",
       "    </tr>\n",
       "    <tr>\n",
       "      <th>18534</th>\n",
       "      <td>18534</td>\n",
       "      <td>68</td>\n",
       "      <td>Lions</td>\n",
       "      <td>01/03/2021</td>\n",
       "      <td>MIN</td>\n",
       "      <td>Loss</td>\n",
       "      <td>35-37</td>\n",
       "      <td>4</td>\n",
       "      <td>1.0</td>\n",
       "      <td>rush</td>\n",
       "      <td>Kirk Cousins</td>\n",
       "      <td>2020</td>\n",
       "    </tr>\n",
       "  </tbody>\n",
       "</table>\n",
       "<p>18535 rows × 12 columns</p>\n",
       "</div>"
      ],
      "text/plain": [
       "       Unnamed: 0  Rank   Team        Date Opponent Win/Loss   Score  Quarter  \\\n",
       "0               0     1  49ers  09/07/2014      DAL      Win   28-17        3   \n",
       "1               1     1  49ers  09/08/2013      GNB      Win   34-28        1   \n",
       "2               2     1  49ers  09/08/2019      TAM      Win   31-17        2   \n",
       "3               3     1  49ers  09/09/2012      GNB      Win   30-22        2   \n",
       "4               4     1  49ers  09/09/2018      MIN     Loss   16-24        2   \n",
       "...           ...   ...    ...         ...      ...      ...     ...      ...   \n",
       "18530       18530    64  Lions  01/03/2021      MIN     Loss   35-37        1   \n",
       "18531       18531    65  Lions  01/03/2021      MIN     Loss   35-37        2   \n",
       "18532       18532    66  Lions  01/03/2021      MIN     Loss   35-37        2   \n",
       "18533       18533    67  Lions  01/03/2021      MIN     Loss   35-37        3   \n",
       "18534       18534    68  Lions  01/03/2021      MIN     Loss   35-37        4   \n",
       "\n",
       "       Distance          Type                 Detail  Year  \n",
       "0           2.0          rush         DeMarco Murray  2014  \n",
       "1           5.0          pass           Randall Cobb  2013  \n",
       "2          15.0  interception  Vernon Hargreaves III  2019  \n",
       "3           1.0          pass      Jermichael Finley  2012  \n",
       "4          22.0          pass           Stefon Diggs  2018  \n",
       "...         ...           ...                    ...   ...  \n",
       "18530      28.0          pass     Alexander Mattison  2020  \n",
       "18531       4.0          pass         Ameer Abdullah  2020  \n",
       "18532      40.0          pass             Chad Beebe  2020  \n",
       "18533       2.0          rush     Alexander Mattison  2020  \n",
       "18534       1.0          rush           Kirk Cousins  2020  \n",
       "\n",
       "[18535 rows x 12 columns]"
      ]
     },
     "execution_count": 17,
     "metadata": {},
     "output_type": "execute_result"
    }
   ],
   "source": [
    "pd.read_csv('Table Data/opponent_touchdown_log')"
   ]
  },
  {
   "cell_type": "code",
   "execution_count": null,
   "id": "6aa68b9b-5e61-48f7-b4b5-cdf61276e143",
   "metadata": {},
   "outputs": [],
   "source": []
  }
 ],
 "metadata": {
  "kernelspec": {
   "display_name": "Python 3 (ipykernel)",
   "language": "python",
   "name": "python3"
  },
  "language_info": {
   "codemirror_mode": {
    "name": "ipython",
    "version": 3
   },
   "file_extension": ".py",
   "mimetype": "text/x-python",
   "name": "python",
   "nbconvert_exporter": "python",
   "pygments_lexer": "ipython3",
   "version": "3.11.5"
  }
 },
 "nbformat": 4,
 "nbformat_minor": 5
}
