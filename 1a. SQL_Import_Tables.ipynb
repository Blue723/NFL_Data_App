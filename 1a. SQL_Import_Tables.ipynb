{
 "cells": [
  {
   "cell_type": "code",
   "execution_count": 1,
   "id": "435e89b4-aec4-4532-a036-94a8eda2519e",
   "metadata": {},
   "outputs": [],
   "source": [
    "# New SQL Server 6/17/2024"
   ]
  },
  {
   "cell_type": "code",
   "execution_count": 2,
   "id": "616f96fd-656f-4bf1-b56e-a431015ad943",
   "metadata": {},
   "outputs": [],
   "source": [
    "#Union table same tables"
   ]
  },
  {
   "cell_type": "markdown",
   "id": "4e071008-d84c-4602-acb0-61a314e3b332",
   "metadata": {},
   "source": [
    "# SQL Import Team Tables"
   ]
  },
  {
   "cell_type": "markdown",
   "id": "13515022-aa39-41a1-9829-ea03f9c7ab7b",
   "metadata": {},
   "source": [
    "This notebook is importing into sql for each individual table from each team from each year.\n",
    "Also, it is importing the roster from each team and year."
   ]
  },
  {
   "cell_type": "code",
   "execution_count": 3,
   "id": "a60a4b33-7a28-4b1c-be86-b2201922631b",
   "metadata": {},
   "outputs": [],
   "source": [
    "import pandas as pd\n",
    "\n",
    "import pyodbc\n",
    "\n",
    "import sqlalchemy as sal\n",
    "from sqlalchemy import create_engine\n",
    "from sqlalchemy.sql import text\n",
    "\n",
    "import os\n",
    "\n",
    "import re"
   ]
  },
  {
   "cell_type": "code",
   "execution_count": 4,
   "id": "dd54e8cb-0e7c-41f5-aade-cfeb0da587a3",
   "metadata": {},
   "outputs": [],
   "source": [
    "#need to fix year 2023\n",
    "years = range(2010, 2024)"
   ]
  },
  {
   "cell_type": "code",
   "execution_count": 5,
   "id": "2697e42d-14ff-4d5f-b6f1-8b654356f3db",
   "metadata": {},
   "outputs": [],
   "source": [
    "team_li = [\n",
    "     '49ers',\n",
    "     'Bears',\n",
    "     'Bengals',\n",
    "     'Broncos',\n",
    "     'Browns',\n",
    "     'Buccaneers',\n",
    "     'Bills',\n",
    "     'Cardinals',\n",
    "     'Chargers',\n",
    "     'Chiefs',\n",
    "     'Colts',\n",
    "     'Commanders',\n",
    "     'Cowboys',\n",
    "     'Dolphins',\n",
    "     'Eagles',\n",
    "     'Falcons',\n",
    "     'Giants',\n",
    "     'Jaguars',\n",
    "     'Jets',\n",
    "     'Lions',\n",
    "     'Packers',\n",
    "     'Panthers',\n",
    "     'Patriots',\n",
    "     'Raiders',\n",
    "     'Rams',\n",
    "     'Ravens',\n",
    "     'Saints',\n",
    "     'Seahawks',\n",
    "     'Steelers',\n",
    "     'Texans',\n",
    "     'Titans',\n",
    "     'Vikings'\n",
    "]"
   ]
  },
  {
   "cell_type": "code",
   "execution_count": 6,
   "id": "2a25c645-0cd3-4406-a8c6-191dfee82d48",
   "metadata": {},
   "outputs": [],
   "source": [
    "table_li = [\n",
    "    'team_stats_and_ranking',\n",
    "    'schedule_and_game_results',\n",
    "    'team_conversions',\n",
    "    'passing',\n",
    "    'rushing_and_receiving',\n",
    "    'kick_and_punt_returns',\n",
    "    'kicking',\n",
    "    'punting',\n",
    "    'defense_and_fumbles',\n",
    "    'scoring_summary',\n",
    "    'touchdown_log',\n",
    "    'opponent_touchdown_log'\n",
    "]"
   ]
  },
  {
   "cell_type": "code",
   "execution_count": 7,
   "id": "64a0cff7-ba75-4a69-90c4-14d0bfb3d8dd",
   "metadata": {},
   "outputs": [],
   "source": [
    "# connection link varaibles\n",
    "# Contains unioned tables from all years and teams\n",
    "servername = 'DESKTOP-5IAPFQC\\MSSQLSERVER2019'\n",
    "football_data = 'Football_Data'\n",
    "trusted_conneciton = '?trusted_conneciton=yes'\n",
    "driver = '&driver=ODBC+Driver+17+for+SQL+Server'"
   ]
  },
  {
   "cell_type": "code",
   "execution_count": 8,
   "id": "3015d53d-8d87-49ea-aca9-2dba6e1d9c28",
   "metadata": {},
   "outputs": [
    {
     "data": {
      "text/plain": [
       "Engine(mssql+pyodbc://DESKTOP-5IAPFQC\\MSSQLSERVER2019/Football_Data?driver=ODBC+Driver+17+for+SQL+Server&trusted_conneciton=yes)"
      ]
     },
     "execution_count": 8,
     "metadata": {},
     "output_type": "execute_result"
    }
   ],
   "source": [
    "#create engine url to connect to sql server\n",
    "engine = create_engine(f'mssql+pyodbc://{servername}/{football_data}{trusted_conneciton}{driver}')\n",
    "engine"
   ]
  },
  {
   "cell_type": "code",
   "execution_count": 9,
   "id": "8ab1638d-6466-4cab-8206-816fdb1aff1d",
   "metadata": {},
   "outputs": [],
   "source": [
    "con = engine.connect()"
   ]
  },
  {
   "cell_type": "code",
   "execution_count": 10,
   "id": "7be51092-61f5-4c14-84e7-868b55a8a6e9",
   "metadata": {},
   "outputs": [],
   "source": [
    "for table in table_li:\n",
    "    table_df = pd.DataFrame()\n",
    "    for year in years:\n",
    "        for team in team_li:\n",
    "        \n",
    "            file_loc = f'NFL_Data_{year}/{team}/{table}_{team}_{year}'\n",
    "            \n",
    "            df = pd.read_csv(file_loc, index_col=0)\n",
    "\n",
    "            table_df = pd.concat([table_df, df], axis=0)\n",
    "\n",
    "    table_df.to_sql(f'{table}', con=con, if_exists='replace', index=False)\n",
    "    table_df.to_csv(f'Football_Data/{table}')"
   ]
  },
  {
   "cell_type": "code",
   "execution_count": 11,
   "id": "b400757f-c333-4351-9141-b2e9e9b17ae8",
   "metadata": {},
   "outputs": [
    {
     "ename": "NameError",
     "evalue": "name 'stop' is not defined",
     "output_type": "error",
     "traceback": [
      "\u001b[1;31m---------------------------------------------------------------------------\u001b[0m",
      "\u001b[1;31mNameError\u001b[0m                                 Traceback (most recent call last)",
      "Cell \u001b[1;32mIn[11], line 1\u001b[0m\n\u001b[1;32m----> 1\u001b[0m stop\n",
      "\u001b[1;31mNameError\u001b[0m: name 'stop' is not defined"
     ]
    }
   ],
   "source": [
    "stop"
   ]
  },
  {
   "cell_type": "code",
   "execution_count": null,
   "id": "97adae9a-6675-4b1f-9d0e-cf4f26757129",
   "metadata": {},
   "outputs": [],
   "source": []
  },
  {
   "cell_type": "code",
   "execution_count": null,
   "id": "5b60b3b4-de7b-466e-a75d-11853d7e35cf",
   "metadata": {},
   "outputs": [],
   "source": []
  }
 ],
 "metadata": {
  "kernelspec": {
   "display_name": "Python 3 (ipykernel)",
   "language": "python",
   "name": "python3"
  },
  "language_info": {
   "codemirror_mode": {
    "name": "ipython",
    "version": 3
   },
   "file_extension": ".py",
   "mimetype": "text/x-python",
   "name": "python",
   "nbconvert_exporter": "python",
   "pygments_lexer": "ipython3",
   "version": "3.11.5"
  }
 },
 "nbformat": 4,
 "nbformat_minor": 5
}
