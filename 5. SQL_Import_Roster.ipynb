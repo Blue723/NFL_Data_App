{
 "cells": [
  {
   "cell_type": "markdown",
   "id": "0befa864-d8d5-4d0c-aaa2-91aa7ab0f7df",
   "metadata": {},
   "source": [
    "- This notebook will import all player's roster and advanced log tables into sql.\n",
    "- The notebook URL_Player_Adv_Log webscrapes and imports tables into the files as CSV"
   ]
  },
  {
   "cell_type": "code",
   "execution_count": 1,
   "id": "676810ac-b746-4088-a0ee-28dc2575b639",
   "metadata": {},
   "outputs": [],
   "source": [
    "import pandas as pd\n",
    "\n",
    "import pyodbc\n",
    "\n",
    "import sqlalchemy as sal\n",
    "from sqlalchemy import create_engine\n",
    "from sqlalchemy.sql import text\n",
    "\n",
    "import os"
   ]
  },
  {
   "cell_type": "code",
   "execution_count": 2,
   "id": "94be7d9f-ed9b-4981-8433-b71fba465f83",
   "metadata": {},
   "outputs": [
    {
     "data": {
      "text/plain": [
       "['SQL Server',\n",
       " 'PostgreSQL ANSI(x64)',\n",
       " 'PostgreSQL Unicode(x64)',\n",
       " 'ODBC Driver 17 for SQL Server',\n",
       " 'SQL Server Native Client RDA 11.0',\n",
       " 'ODBC Driver 18 for SQL Server']"
      ]
     },
     "execution_count": 2,
     "metadata": {},
     "output_type": "execute_result"
    }
   ],
   "source": [
    "pyodbc.drivers()"
   ]
  },
  {
   "cell_type": "code",
   "execution_count": 3,
   "id": "b4cad75f-822e-4b83-a3fe-1c0a489741d5",
   "metadata": {},
   "outputs": [],
   "source": [
    "# connection nfl_data database link varaibles\n",
    "servername = '****'\n",
    "nfl_Data = 'NFL_Data'\n",
    "trusted_conneciton = '?trusted_conneciton=yes'\n",
    "driver = '&driver=ODBC+Driver+17+for+SQL+Server'"
   ]
  },
  {
   "cell_type": "code",
   "execution_count": 4,
   "id": "aecc6b29-f87f-45d8-8f21-1acbb1d9c71e",
   "metadata": {},
   "outputs": [
    {
     "data": {
      "text/plain": [
       "Engine(mssql+pyodbc://@DESKTOP-5IAPFQC/NFL_Data?driver=ODBC+Driver+17+for+SQL+Server&trusted_conneciton=yes)"
      ]
     },
     "execution_count": 4,
     "metadata": {},
     "output_type": "execute_result"
    }
   ],
   "source": [
    "#create engine url to connect to sql server\n",
    "engine_nfl_Data = create_engine(f'mssql+pyodbc://@{servername}/{nfl_Data}{trusted_conneciton}{driver}')\n",
    "engine_nfl_Data"
   ]
  },
  {
   "cell_type": "code",
   "execution_count": 5,
   "id": "74c2444a-6955-4f3e-bbdb-4e089a6a95e9",
   "metadata": {},
   "outputs": [],
   "source": [
    "conn_engine_nfl_data = engine_nfl_Data.connect()"
   ]
  },
  {
   "cell_type": "code",
   "execution_count": 6,
   "id": "6bf03f79-ed9f-48e7-ad29-62ee2ee60cd2",
   "metadata": {},
   "outputs": [],
   "source": [
    "# union of all season and team to one table for each table\n",
    "servername = '****'\n",
    "football_data = 'Football_Data'\n",
    "trusted_conneciton = '?trusted_conneciton=yes'\n",
    "driver = '&driver=ODBC+Driver+17+for+SQL+Server'"
   ]
  },
  {
   "cell_type": "code",
   "execution_count": 7,
   "id": "60028fbf-152b-43b3-bcc7-3cb8b738ac35",
   "metadata": {},
   "outputs": [
    {
     "data": {
      "text/plain": [
       "Engine(mssql+pyodbc://@DESKTOP-5IAPFQC/Football_Data?driver=ODBC+Driver+17+for+SQL+Server&trusted_conneciton=yes)"
      ]
     },
     "execution_count": 7,
     "metadata": {},
     "output_type": "execute_result"
    }
   ],
   "source": [
    "#create engine url to connect to sql server\n",
    "engine_football_data = create_engine(f'mssql+pyodbc://@{servername}/{football_data}{trusted_conneciton}{driver}')\n",
    "engine_football_data"
   ]
  },
  {
   "cell_type": "code",
   "execution_count": 8,
   "id": "2a239128-2812-45d1-8b37-dea68e356e2c",
   "metadata": {},
   "outputs": [],
   "source": [
    "conn_engine_football_data = engine_football_data.connect()"
   ]
  },
  {
   "cell_type": "code",
   "execution_count": 9,
   "id": "b6d47012-6f85-4a10-9d68-fd8fda1cba13",
   "metadata": {},
   "outputs": [],
   "source": [
    "years = range(2010, 2024)"
   ]
  },
  {
   "cell_type": "code",
   "execution_count": 10,
   "id": "f779d239-bf6c-4d3e-a28e-690e44ad5b73",
   "metadata": {},
   "outputs": [],
   "source": [
    "team_li = [\n",
    "     '49ers',\n",
    "     'Bears',\n",
    "     'Bengals',\n",
    "     'Broncos',\n",
    "     'Browns',\n",
    "     'Buccaneers',\n",
    "     'Buffalos',\n",
    "     'Cardinals',\n",
    "     'Chargers',\n",
    "     'Chiefs',\n",
    "     'Colts',\n",
    "     'Commanders',\n",
    "     'Cowboys',\n",
    "     'Dolphins',\n",
    "     'Eagles',\n",
    "     'Falcons',\n",
    "     'Giants',\n",
    "     'Jaguars',\n",
    "     'Jets',\n",
    "     'Lions',\n",
    "     'Packers',\n",
    "     'Panthers',\n",
    "     'Patriots',\n",
    "     'Raiders',\n",
    "     'Rams',\n",
    "     'Ravens',\n",
    "     'Saints',\n",
    "     'Seahawks',\n",
    "     'Steelers',\n",
    "     'Texans',\n",
    "     'Titans',\n",
    "     'Vikings'\n",
    "]"
   ]
  },
  {
   "cell_type": "markdown",
   "id": "8bf743cb-2091-4357-b32a-f4f81bfc62c2",
   "metadata": {},
   "source": [
    "# SQL Import Roster"
   ]
  },
  {
   "cell_type": "code",
   "execution_count": 11,
   "id": "2837c9c4-8996-459d-8c85-8242dedd1861",
   "metadata": {},
   "outputs": [],
   "source": [
    "#import to nfl data\n",
    "for year in years:\n",
    "    for team in team_li:\n",
    "        file_loc = f'NFL_Data_{year}/{team}/{team}_roster'\n",
    "            \n",
    "        df = pd.read_csv(file_loc, index_col=0)\n",
    "\n",
    "        df.to_sql(f'Roster_{team}_{year}', con=conn_engine_nfl_data, if_exists='replace')"
   ]
  },
  {
   "cell_type": "code",
   "execution_count": null,
   "id": "97e27f75-e352-4851-9f40-4f97a43d0310",
   "metadata": {},
   "outputs": [],
   "source": []
  },
  {
   "cell_type": "code",
   "execution_count": 12,
   "id": "c40e8918-30be-4c4a-8ace-e94f071faf7e",
   "metadata": {},
   "outputs": [
    {
     "name": "stdout",
     "output_type": "stream",
     "text": [
      "2010 Vikings 14\n",
      "2011 Vikings 14\n",
      "2012 Vikings 14\n",
      "2013 Vikings 14\n",
      "2014 Vikings 14\n",
      "2015 Vikings 14\n",
      "2016 Vikings 14\n",
      "2017 Vikings 14\n",
      "2018 Vikings 14\n",
      "2019 Vikings 14\n",
      "2020 Vikings 14\n",
      "2021 Vikings 14\n",
      "2022 Vikings 14\n",
      "2023 Vikings 14\n"
     ]
    }
   ],
   "source": [
    "# roster to sql union all teams per season\n",
    "# union all team from nfl_data and save to football_data_year database\n",
    "all_player_li = []\n",
    "\n",
    "for year in years:\n",
    "    #database\n",
    "    football_db = f'Football_Data_{year}'\n",
    "\n",
    "    #db connection str\n",
    "    football_data_eng = create_engine(f'mssql+pyodbc://@{servername}/{football_db}{trusted_conneciton}{driver}')\n",
    "\n",
    "    football_data_year_conn = football_data_eng.connect()\n",
    "\n",
    "\n",
    "    players_li = []\n",
    "    \n",
    "    for team in team_li:\n",
    "        players = f'select * from Roster_{team}_{year}'\n",
    "\n",
    "        players_li.append(players)\n",
    "    \n",
    "    players_union = ' union '.join([p for p in players_li])\n",
    "\n",
    "    all_player_li.append(players_union)\n",
    "\n",
    "    \n",
    "    df = pd.read_sql(players_union, con=conn_engine_nfl_data, index_col='index')\n",
    "\n",
    "    print(year, team, len(df.columns))\n",
    "\n",
    "    df.to_sql(f'Players', con=football_data_year_conn, if_exists='replace', index='index')\n",
    "\n",
    "\n"
   ]
  },
  {
   "cell_type": "code",
   "execution_count": 13,
   "id": "5bb042bc-23bf-4c7b-8edf-5220fc5b8677",
   "metadata": {},
   "outputs": [
    {
     "data": {
      "text/plain": [
       "135"
      ]
     },
     "execution_count": 13,
     "metadata": {},
     "output_type": "execute_result"
    }
   ],
   "source": [
    "#union all players\n",
    "players_union_all = ' union '.join([a for a in all_player_li])\n",
    "\n",
    "df_all_pl = pd.read_sql(players_union_all, con=conn_engine_nfl_data, index_col='index')\n",
    "\n",
    "df_all_pl.to_sql(f'Players', con=conn_engine_football_data, if_exists='replace', index='index')"
   ]
  },
  {
   "cell_type": "code",
   "execution_count": 14,
   "id": "4b3394ab-083a-4976-a140-b7882d5a92bb",
   "metadata": {},
   "outputs": [
    {
     "ename": "NameError",
     "evalue": "name 'stop' is not defined",
     "output_type": "error",
     "traceback": [
      "\u001b[1;31m---------------------------------------------------------------------------\u001b[0m",
      "\u001b[1;31mNameError\u001b[0m                                 Traceback (most recent call last)",
      "Cell \u001b[1;32mIn[14], line 1\u001b[0m\n\u001b[1;32m----> 1\u001b[0m stop\n",
      "\u001b[1;31mNameError\u001b[0m: name 'stop' is not defined"
     ]
    }
   ],
   "source": [
    "stop"
   ]
  },
  {
   "cell_type": "code",
   "execution_count": null,
   "id": "fe2fd3de-4e4d-4f45-b50e-cf0a58c8b153",
   "metadata": {},
   "outputs": [],
   "source": [
    "for year in range(2010,2024):\n",
    "        #database\n",
    "    football_db = f'Football_Data_{year}'\n",
    "\n",
    "    #db connection str\n",
    "    football_data_eng = create_engine(f'mssql+pyodbc://@{servername}/{football_db}{trusted_conneciton}{driver}')\n",
    "\n",
    "    football_data_year_conn = football_data_eng.connect()\n",
    "    \n",
    "    for team in team_li:\n",
    "        file_loc = f'NFL_Data_{year}\\{team}\\{team}_roster'\n",
    "\n",
    "        df = pd.read_csv(file_loc, index_col=0)\n",
    "\n",
    "        try:\n",
    "            df = df.drop(columns=['Unnamed: 0'])\n",
    "        except:\n",
    "            pass\n",
    "\n",
    "        df.to_csv(file_loc, index=0)\n",
    "        \n",
    "        df.to_sql('Players', con=football_data_year_conn, if_exists='replace')"
   ]
  },
  {
   "cell_type": "code",
   "execution_count": null,
   "id": "d7545d35-7076-4b94-9565-c913368dcb31",
   "metadata": {},
   "outputs": [],
   "source": [
    "stop"
   ]
  },
  {
   "cell_type": "code",
   "execution_count": null,
   "id": "b2bc4bfe-1d1b-45ed-8e5a-84403d097764",
   "metadata": {},
   "outputs": [],
   "source": []
  },
  {
   "cell_type": "markdown",
   "id": "5a81b985-9a97-4228-bbe4-35e3492090f1",
   "metadata": {},
   "source": [
    "# Import players advanced stats log into sql "
   ]
  },
  {
   "cell_type": "code",
   "execution_count": null,
   "id": "1341549a-fb03-49ad-9bf6-c4fc2e22dbdd",
   "metadata": {
    "scrolled": true
   },
   "outputs": [],
   "source": [
    "# imports player advanced log to each season \n",
    "\n",
    "years = range(2018,2024)\n",
    "\n",
    "players_adv_log_name_li = []\n",
    "\n",
    "for year in years:\n",
    "    # go to nfl data year data\n",
    "    year = str(year)\n",
    "\n",
    "    file_loc_year = f'NFL_Data_{year}/'\n",
    "        \n",
    "    os.chdir(file_loc_year)\n",
    "\n",
    "    \n",
    "    for team in team_li:\n",
    "        # got to the team and tis player log\n",
    "        file_loc_team = f'{team}/Players Log'\n",
    "\n",
    "        #change folders and get list of files of players\n",
    "        os.chdir(file_loc_team)\n",
    "\n",
    "        player_file_list = os.listdir()\n",
    "\n",
    "        #i want to save all of the players file name as a list to refer back to when\n",
    "        # I need to union all of the players\n",
    "        players_adv_log_name_li.append([year]+player_file_list)\n",
    "        \n",
    "        for player in player_file_list:\n",
    "            #get dataframe\n",
    "            df = pd.read_csv(player, index_col=0)\n",
    "            # import to sql nfl_data\n",
    "            df.to_sql(player+'_adv_stats'+'_'+team+'_'+year, con=conn_engine_nfl_data, if_exists='replace')\n",
    "\n",
    "        os.chdir('..')\n",
    "        os.chdir('..')\n",
    "    \n",
    "    os.chdir('..')"
   ]
  },
  {
   "cell_type": "code",
   "execution_count": null,
   "id": "a2906f61-1729-4182-93da-538d685e00a2",
   "metadata": {},
   "outputs": [],
   "source": []
  },
  {
   "cell_type": "code",
   "execution_count": null,
   "id": "c8632266-cabc-4f7d-89cf-3400e11271e9",
   "metadata": {},
   "outputs": [],
   "source": [
    "# get player names list\n",
    "\n",
    "players_adv_log_name_li = []\n",
    "\n",
    "years = range(2018,2024)\n",
    "\n",
    "for year in years:\n",
    "    year = str(year)\n",
    "\n",
    "    file_loc_year = f'NFL_Data_{year}/'\n",
    "        \n",
    "    os.chdir(file_loc_year)\n",
    "\n",
    "    \n",
    "    for team in team_li:\n",
    "        file_loc_team = f'{team}/Players Log'\n",
    "\n",
    "        #change folders and get list of files of players\n",
    "        os.chdir(file_loc_team)\n",
    "\n",
    "        player_file_list = os.listdir()\n",
    "\n",
    "        #i want to save all of the players file name as a list to refer back to when\n",
    "        # I need to union all of the players\n",
    "        players_adv_log_name_li.append([year]+player_file_list)\n",
    "\n",
    "        os.chdir('..')\n",
    "        os.chdir('..')\n",
    "    \n",
    "    os.chdir('..')"
   ]
  },
  {
   "cell_type": "code",
   "execution_count": null,
   "id": "5bc03dc0-cd8c-4c82-95bf-87655c6a404c",
   "metadata": {},
   "outputs": [],
   "source": [
    "players_adv_log_name_li"
   ]
  },
  {
   "cell_type": "code",
   "execution_count": null,
   "id": "8f258bbc-3b61-410e-bc24-5045d35e8913",
   "metadata": {},
   "outputs": [],
   "source": [
    "stop"
   ]
  },
  {
   "cell_type": "markdown",
   "id": "66f964eb-cd6f-460a-85c0-6cdd9520ca83",
   "metadata": {},
   "source": [
    "#### I need to query each players position, from player advanced log to player roster which has the position information. \n",
    "- I'm gettig the position data from the Players table which is all the teams rosters for that season\n",
    "- I need to get the position from the Players table and "
   ]
  },
  {
   "cell_type": "code",
   "execution_count": null,
   "id": "2e14406f-1a66-46b0-828e-7fbf0066f56a",
   "metadata": {},
   "outputs": [],
   "source": [
    "#### working on: 4/3/2024\n",
    "\n",
    "# in sql go get each seasons Players table \n",
    "# and use Columns: Player, Team, Pos\n",
    "# use Players query data to go into each player adv log file\n",
    "\n",
    "for year in range(2018,2024):\n",
    "    for team in team_li:\n",
    "        for player_li in players_adv_log_name_li:\n",
    "            for player in player_li:"
   ]
  },
  {
   "cell_type": "code",
   "execution_count": null,
   "id": "142cd99b-1683-4fac-bcec-17faff03abae",
   "metadata": {},
   "outputs": [],
   "source": []
  },
  {
   "cell_type": "code",
   "execution_count": null,
   "id": "490a235c-5927-4bf6-b1fe-1b9fc29835de",
   "metadata": {},
   "outputs": [],
   "source": []
  },
  {
   "cell_type": "code",
   "execution_count": null,
   "id": "b0e2c916-fd0b-42bb-a766-cec5291e15aa",
   "metadata": {},
   "outputs": [],
   "source": []
  },
  {
   "cell_type": "code",
   "execution_count": null,
   "id": "8f60f110-e74c-4ea7-a830-738ed0458c4a",
   "metadata": {},
   "outputs": [],
   "source": []
  },
  {
   "cell_type": "code",
   "execution_count": null,
   "id": "18a2e36e-60ac-448d-a4dd-e71a4b53adaf",
   "metadata": {},
   "outputs": [],
   "source": []
  },
  {
   "cell_type": "code",
   "execution_count": null,
   "id": "745288b2-d6bd-4a11-ac2e-6217f8a44179",
   "metadata": {},
   "outputs": [],
   "source": []
  },
  {
   "cell_type": "code",
   "execution_count": null,
   "id": "bb6c475a-8b91-4562-badf-406db37c8a02",
   "metadata": {},
   "outputs": [],
   "source": [
    "\n",
    "        "
   ]
  },
  {
   "cell_type": "code",
   "execution_count": null,
   "id": "d267abc4-fb58-48a5-b373-f94895987129",
   "metadata": {},
   "outputs": [],
   "source": []
  },
  {
   "cell_type": "code",
   "execution_count": null,
   "id": "038fd93b-abe9-4f99-945f-4e5184c54850",
   "metadata": {},
   "outputs": [],
   "source": []
  }
 ],
 "metadata": {
  "kernelspec": {
   "display_name": "Python 3 (ipykernel)",
   "language": "python",
   "name": "python3"
  },
  "language_info": {
   "codemirror_mode": {
    "name": "ipython",
    "version": 3
   },
   "file_extension": ".py",
   "mimetype": "text/x-python",
   "name": "python",
   "nbconvert_exporter": "python",
   "pygments_lexer": "ipython3",
   "version": "3.11.5"
  }
 },
 "nbformat": 4,
 "nbformat_minor": 5
}
