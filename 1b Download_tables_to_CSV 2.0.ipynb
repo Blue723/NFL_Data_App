{
 "cells": [
  {
   "cell_type": "markdown",
   "id": "f2a36d71-d7a9-4e8d-950e-7cf210ac4f9c",
   "metadata": {},
   "source": [
    "This notebook I would like to make a more efficient webscrapper by:\n",
    "- using pandas to get the table\n",
    "- using decorators\n",
    "- save each table to csv then create funciton for each table to clean"
   ]
  },
  {
   "cell_type": "code",
   "execution_count": 60,
   "id": "c1db39f9-38e9-44d1-a5af-94694bba7829",
   "metadata": {},
   "outputs": [],
   "source": [
    "from bs4 import BeautifulSoup as bs\n",
    "\n",
    "import requests\n",
    "import re\n",
    "\n",
    "\n",
    "import pandas as pd\n",
    "import numpy as np\n",
    "import pyodbc\n",
    "\n",
    "from datetime import datetime\n",
    "import time\n",
    "import random\n",
    "\n",
    "import os"
   ]
  },
  {
   "cell_type": "code",
   "execution_count": 61,
   "id": "59cf3b88-ea6b-43e6-b437-a6d389ffe356",
   "metadata": {},
   "outputs": [],
   "source": [
    "years = range(2010,2023)"
   ]
  },
  {
   "cell_type": "code",
   "execution_count": 62,
   "id": "65dc35b8-ce1d-429b-82c0-83cb2d57f447",
   "metadata": {},
   "outputs": [],
   "source": [
    "teams_dict={\n",
    "    '49ers': 'sfo', \n",
    "    'Bears': 'chi',\n",
    "    'Bengals': 'cin',\n",
    "    'Broncos': 'den',\n",
    "    'Browns': 'cle',\n",
    "    'Buccaneers': 'tam',\n",
    "    'Buffalos': 'buf',\n",
    "    'Cardinals': 'crd',\n",
    "    'Chargers': 'sdg',\n",
    "    'Chiefs': 'kan',\n",
    "    'Colts': 'clt',\n",
    "    'Commanders': 'was',\n",
    "    'Cowboys': 'dal',\n",
    "    'Dolphins': 'mia',\n",
    "    'Eagles': 'phi',\n",
    "    'Falcons': 'atl',\n",
    "    'Giants': 'nyg',\n",
    "    'Jaguars': 'jax',\n",
    "    'Jets': 'nyj',\n",
    "    'Lions': 'det',\n",
    "    'Packers': 'gnb',\n",
    "    'Panthers': 'car',\n",
    "    'Patriots': 'nwe',\n",
    "    'Raiders': 'rai',\n",
    "    'Rams': 'ram',\n",
    "    'Ravens': 'rav',\n",
    "    'Saints': 'nor',\n",
    "    'Seahawks': 'sea',\n",
    "    'Steelers': 'pit',\n",
    "    'Texans': 'htx',\n",
    "    'Titans': 'oti',\n",
    "    'Vikings': 'min'\n",
    "}"
   ]
  },
  {
   "cell_type": "code",
   "execution_count": 63,
   "id": "12af5077-26ba-417f-b7ed-db38548c2e4d",
   "metadata": {},
   "outputs": [],
   "source": [
    "#make this the decorator\n",
    "def year_team_loops(tables_html_func, table_func, years: list, teams_dict:dict):\n",
    "\n",
    "    for year in years:\n",
    "        for team in teams_dict.keys:\n",
    "\n",
    "            #these are in order according to the website\n",
    "            tables_dict = {\n",
    "                'team_stats_and_ranking': pd.DataFrame(),\n",
    "                'schedule_and_game_results': pd.DataFrame(),\n",
    "                'team_conversions': pd.DataFrame(),\n",
    "                'passing': pd.DataFrame(),\n",
    "                'rushing_and_receiving': pd.DataFrame(),\n",
    "                'kick_and_punt_returns': pd.DataFrame(),\n",
    "                'kicking': pd.DataFrame(),\n",
    "                'punting': pd.DataFrame(),\n",
    "                'defense_and_fumbles': pd.DataFrame(),\n",
    "                'scoring_summary': pd.DataFrame(),\n",
    "                'touchdown_log': pd.DataFrame(), \n",
    "                'opponent_touchdown_log': pd.DataFrame()\n",
    "            }\n",
    "\n",
    "            def func()\n",
    "                #webscrape tables\n",
    "                tables_html_func(year, team)\n",
    "\n",
    "\n",
    "    return "
   ]
  },
  {
   "cell_type": "code",
   "execution_count": 83,
   "id": "db358b6e-2d50-42cc-87d7-000563270d6d",
   "metadata": {},
   "outputs": [],
   "source": [
    "# use this function before creating tables\n",
    "\n",
    "# for decorator funciton 'year_team_loops' in argument 'html_tables_func'\n",
    "\n",
    "#@year_team_loops\n",
    "def tables_html(year:int, team:str):\n",
    "\n",
    "    team_url = teams_dict[team]\n",
    "    \n",
    "    url = f'https://www.pro-football-reference.com/teams/{team_url}/{year}.htm'\n",
    "\n",
    "\n",
    "    table_df_li = []\n",
    "    #tables 0-2\n",
    "    df_li_0_2 = pd.read_html(url)\n",
    "\n",
    "    time.sleep(random.randrange(6,8))\n",
    "    \n",
    "    \n",
    "    for d in df_li_0_2:\n",
    "        table_df_li.append(d)\n",
    "\n",
    "    \n",
    "    # tables 3-11\n",
    "    html = requests.get(url).text\n",
    "    \n",
    "    time.sleep(random.randrange(6,8))\n",
    "\n",
    "    soup = bs(html, 'html.parser')\n",
    "    \n",
    "    html_tables = soup.find_all(class_='table_wrapper')\n",
    "\n",
    "    #loop through each table html by class table wrapper              \n",
    "    for t in html_tables:\n",
    "            \n",
    "        #this is to find a single table within the html\n",
    "        #each table will run through this\n",
    "        #loop through each html child of the table html \n",
    "        # to find the table container for an easier table extract\n",
    "        # using pandas\n",
    "        for c in t.children:\n",
    "            if 'table_container' in c:\n",
    "                df = pd.read_html(c)\n",
    "                \n",
    "                table_df_li.append(df)\n",
    "\n",
    "\n",
    "    \n",
    "    for i in range(0, len(table_df_li)):\n",
    "        try:\n",
    "            table_df_li[i] = table_df_li[i].droplevel(level=0 , axis=1)\n",
    "        except:\n",
    "            pass\n",
    "    \n",
    "    \n",
    "    return table_df_li"
   ]
  },
  {
   "cell_type": "code",
   "execution_count": 58,
   "id": "1bc44cdd-d89a-4f32-8d1e-86c9d4873ab8",
   "metadata": {},
   "outputs": [],
   "source": [
    "# this is grabing the 49ers html web page\n",
    "url = 'https://www.pro-football-reference.com/teams/sfo/2010.htm'"
   ]
  },
  {
   "cell_type": "code",
   "execution_count": 84,
   "id": "8234c80b-909f-471d-aba0-9653a01f4989",
   "metadata": {},
   "outputs": [
    {
     "name": "stderr",
     "output_type": "stream",
     "text": [
      "C:\\Users\\Family\\AppData\\Local\\Temp\\ipykernel_14224\\3349340141.py:41: FutureWarning: Passing literal html to 'read_html' is deprecated and will be removed in a future version. To read from a literal string, wrap it in a 'StringIO' object.\n",
      "  df = pd.read_html(c)\n",
      "C:\\Users\\Family\\AppData\\Local\\Temp\\ipykernel_14224\\3349340141.py:41: FutureWarning: Passing literal html to 'read_html' is deprecated and will be removed in a future version. To read from a literal string, wrap it in a 'StringIO' object.\n",
      "  df = pd.read_html(c)\n",
      "C:\\Users\\Family\\AppData\\Local\\Temp\\ipykernel_14224\\3349340141.py:41: FutureWarning: Passing literal html to 'read_html' is deprecated and will be removed in a future version. To read from a literal string, wrap it in a 'StringIO' object.\n",
      "  df = pd.read_html(c)\n",
      "C:\\Users\\Family\\AppData\\Local\\Temp\\ipykernel_14224\\3349340141.py:41: FutureWarning: Passing literal html to 'read_html' is deprecated and will be removed in a future version. To read from a literal string, wrap it in a 'StringIO' object.\n",
      "  df = pd.read_html(c)\n",
      "C:\\Users\\Family\\AppData\\Local\\Temp\\ipykernel_14224\\3349340141.py:41: FutureWarning: Passing literal html to 'read_html' is deprecated and will be removed in a future version. To read from a literal string, wrap it in a 'StringIO' object.\n",
      "  df = pd.read_html(c)\n",
      "C:\\Users\\Family\\AppData\\Local\\Temp\\ipykernel_14224\\3349340141.py:41: FutureWarning: Passing literal html to 'read_html' is deprecated and will be removed in a future version. To read from a literal string, wrap it in a 'StringIO' object.\n",
      "  df = pd.read_html(c)\n",
      "C:\\Users\\Family\\AppData\\Local\\Temp\\ipykernel_14224\\3349340141.py:41: FutureWarning: Passing literal html to 'read_html' is deprecated and will be removed in a future version. To read from a literal string, wrap it in a 'StringIO' object.\n",
      "  df = pd.read_html(c)\n",
      "C:\\Users\\Family\\AppData\\Local\\Temp\\ipykernel_14224\\3349340141.py:41: FutureWarning: Passing literal html to 'read_html' is deprecated and will be removed in a future version. To read from a literal string, wrap it in a 'StringIO' object.\n",
      "  df = pd.read_html(c)\n",
      "C:\\Users\\Family\\AppData\\Local\\Temp\\ipykernel_14224\\3349340141.py:41: FutureWarning: Passing literal html to 'read_html' is deprecated and will be removed in a future version. To read from a literal string, wrap it in a 'StringIO' object.\n",
      "  df = pd.read_html(c)\n"
     ]
    }
   ],
   "source": [
    "tables = tables_html(year=2010, team_url='sfo')"
   ]
  },
  {
   "cell_type": "code",
   "execution_count": 87,
   "id": "17c8fb49-71c4-4108-b83f-1bec2b50197d",
   "metadata": {},
   "outputs": [
    {
     "data": {
      "text/plain": [
       "12"
      ]
     },
     "execution_count": 87,
     "metadata": {},
     "output_type": "execute_result"
    }
   ],
   "source": [
    "tables"
   ]
  },
  {
   "cell_type": "code",
   "execution_count": null,
   "id": "f46b1bf6-6557-41a5-bdf2-cb7bb76c67e7",
   "metadata": {},
   "outputs": [],
   "source": []
  },
  {
   "cell_type": "code",
   "execution_count": null,
   "id": "0ee94194-009f-4555-9207-a585738eb1cf",
   "metadata": {},
   "outputs": [],
   "source": []
  },
  {
   "cell_type": "code",
   "execution_count": null,
   "id": "5a770e8a-58f2-47e1-af4f-47c9dabbe7a4",
   "metadata": {},
   "outputs": [],
   "source": []
  },
  {
   "cell_type": "code",
   "execution_count": null,
   "id": "0a70ccc2-59f0-4693-9ac6-23826995eeb9",
   "metadata": {},
   "outputs": [],
   "source": []
  },
  {
   "cell_type": "code",
   "execution_count": null,
   "id": "e9e7adfa-e74b-44a1-b703-152be0afd8c0",
   "metadata": {},
   "outputs": [],
   "source": []
  },
  {
   "cell_type": "code",
   "execution_count": null,
   "id": "320c4c1e-f45a-4029-85ed-a6ab432cb4f2",
   "metadata": {},
   "outputs": [],
   "source": []
  }
 ],
 "metadata": {
  "kernelspec": {
   "display_name": "Python 3 (ipykernel)",
   "language": "python",
   "name": "python3"
  },
  "language_info": {
   "codemirror_mode": {
    "name": "ipython",
    "version": 3
   },
   "file_extension": ".py",
   "mimetype": "text/x-python",
   "name": "python",
   "nbconvert_exporter": "python",
   "pygments_lexer": "ipython3",
   "version": "3.11.5"
  }
 },
 "nbformat": 4,
 "nbformat_minor": 5
}
