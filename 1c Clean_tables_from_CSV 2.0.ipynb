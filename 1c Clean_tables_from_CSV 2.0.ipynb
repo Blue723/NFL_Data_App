{
 "cells": [
  {
   "cell_type": "code",
   "execution_count": null,
   "id": "8bac47de-3209-4142-be0c-e69290b0e7ca",
   "metadata": {},
   "outputs": [],
   "source": [
    "from bs4 import BeautifulSoup as bs\n",
    "\n",
    "import requests\n",
    "import re\n",
    "\n",
    "\n",
    "import pandas as pd\n",
    "import numpy as np\n",
    "import pyodbc\n",
    "\n",
    "from datetime import datetime\n",
    "import time\n",
    "import random\n",
    "\n",
    "import os"
   ]
  },
  {
   "cell_type": "code",
   "execution_count": null,
   "id": "52af68c6-2c67-4efb-b783-bd30442edb91",
   "metadata": {},
   "outputs": [],
   "source": [
    "years = range(2010,2024)"
   ]
  },
  {
   "cell_type": "code",
   "execution_count": null,
   "id": "899e77cf-24b5-4e80-965c-b75ff37337f8",
   "metadata": {},
   "outputs": [],
   "source": [
    "team_names=[\n",
    "     '49ers',\n",
    "     'Bears',\n",
    "     'Bengals',\n",
    "     'Broncos',\n",
    "     'Browns',\n",
    "     'Buccaneers',\n",
    "     'Buffalos',\n",
    "     'Cardinals',\n",
    "     'Chargers',\n",
    "     'Chiefs',\n",
    "     'Colts',\n",
    "     'Commanders',\n",
    "     'Cowboys',\n",
    "     'Dolphins',\n",
    "     'Eagles',\n",
    "     'Falcons',\n",
    "     'Giants',\n",
    "     'Jaguars',\n",
    "     'Jets',\n",
    "     'Lions',\n",
    "     'Packers',\n",
    "     'Panthers',\n",
    "     'Patriots',\n",
    "     'Raiders',\n",
    "     'Rams',\n",
    "     'Ravens',\n",
    "     'Saints',\n",
    "     'Seahawks',\n",
    "     'Steelers',\n",
    "     'Texans',\n",
    "     'Titans',\n",
    "     'Vikings'\n",
    "]"
   ]
  },
  {
   "cell_type": "code",
   "execution_count": null,
   "id": "b530b95f-4cfc-4612-a06a-678bae472ddb",
   "metadata": {},
   "outputs": [],
   "source": [
    "tables_li = [\n",
    "    'team_stats_and_ranking',\n",
    "    'schedule_and_game_results',\n",
    "    'team_conversions',\n",
    "    'passing',\n",
    "    'rushing_and_receiving',\n",
    "    'kick_and_punt_returns',\n",
    "    'kicking',\n",
    "    'punting',\n",
    "    'defense_and_fumbles',\n",
    "    'scoring_summary',\n",
    "    'touchdown_log',\n",
    "    'opponent_touchdown_log'\n",
    "]\n"
   ]
  },
  {
   "cell_type": "code",
   "execution_count": null,
   "id": "cc90db50-d265-495a-95fc-c8c356c32b70",
   "metadata": {},
   "outputs": [],
   "source": [
    "def fix_table_func(file_loc:str):\n",
    "\n",
    "    df = pd.read_csv(file_loc, index_col=0)\n",
    "\n",
    "    #fix data table here\n",
    "\n",
    "\n",
    "\n",
    "\n",
    "\n",
    "    \n",
    "    \n",
    "    ### fix data table here\n",
    "\n",
    "    return df"
   ]
  },
  {
   "cell_type": "code",
   "execution_count": null,
   "id": "7fa5d86d-839a-4ed6-b96a-23332be249a0",
   "metadata": {},
   "outputs": [],
   "source": [
    "#update data types from csv files\n",
    "for year in years:\n",
    "    for team in team_names:\n",
    "        \n",
    "        file_loc = f'NFL_Data_{year}/{team}/{table}_{team}_{year}'\n",
    "\n",
    "\n",
    "\n",
    "        #df.to_csv()"
   ]
  }
 ],
 "metadata": {
  "kernelspec": {
   "display_name": "Python 3 (ipykernel)",
   "language": "python",
   "name": "python3"
  },
  "language_info": {
   "codemirror_mode": {
    "name": "ipython",
    "version": 3
   },
   "file_extension": ".py",
   "mimetype": "text/x-python",
   "name": "python",
   "nbconvert_exporter": "python",
   "pygments_lexer": "ipython3",
   "version": "3.11.5"
  }
 },
 "nbformat": 4,
 "nbformat_minor": 5
}
