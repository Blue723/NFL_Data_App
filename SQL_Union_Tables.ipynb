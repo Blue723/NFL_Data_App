{
 "cells": [
  {
   "cell_type": "markdown",
   "id": "fc7ba146-fedb-4637-b0be-f0eaca41aca9",
   "metadata": {},
   "source": [
    "# Union table same tables"
   ]
  },
  {
   "cell_type": "code",
   "execution_count": 1,
   "id": "a60a4b33-7a28-4b1c-be86-b2201922631b",
   "metadata": {},
   "outputs": [],
   "source": [
    "import pandas as pd\n",
    "\n",
    "import pyodbc\n",
    "\n",
    "import sqlalchemy as sal\n",
    "from sqlalchemy import create_engine\n",
    "from sqlalchemy.sql import text\n",
    "\n",
    "import os\n",
    "\n",
    "import re"
   ]
  },
  {
   "cell_type": "code",
   "execution_count": 2,
   "id": "4a81379a-9464-48d1-aeac-7f0b9bdf5430",
   "metadata": {},
   "outputs": [],
   "source": [
    "# connection link varaibles\n",
    "servername = '*****'\n",
    "dbname = 'NFL_Data'\n",
    "trusted_conneciton = '?trusted_conneciton=yes'\n",
    "driver = '&driver=ODBC+Driver+17+for+SQL+Server'"
   ]
  },
  {
   "cell_type": "code",
   "execution_count": null,
   "id": "3ca061b4-b6ee-4cc6-95ee-c7e5b378f400",
   "metadata": {},
   "outputs": [],
   "source": [
    "#create engine url to connect to sql server\n",
    "engine = create_engine(f'mssql+pyodbc://@{servername}/{dbname}{trusted_conneciton}{driver}')\n",
    "engine"
   ]
  },
  {
   "cell_type": "code",
   "execution_count": null,
   "id": "dd54e8cb-0e7c-41f5-aade-cfeb0da587a3",
   "metadata": {},
   "outputs": [],
   "source": [
    "#need to fix year 2023\n",
    "years = range(2010, 2024)"
   ]
  },
  {
   "cell_type": "code",
   "execution_count": 6,
   "id": "2697e42d-14ff-4d5f-b6f1-8b654356f3db",
   "metadata": {},
   "outputs": [],
   "source": [
    "team_li = [\n",
    "     '49ers',\n",
    "     'Bears',\n",
    "     'Bengals',\n",
    "     'Broncos',\n",
    "     'Browns',\n",
    "     'Buccaneers',\n",
    "     'Buffalos',\n",
    "     'Cardinals',\n",
    "     'Chargers',\n",
    "     'Chiefs',\n",
    "     'Colts',\n",
    "     'Commanders',\n",
    "     'Cowboys',\n",
    "     'Dolphins',\n",
    "     'Eagles',\n",
    "     'Falcons',\n",
    "     'Giants',\n",
    "     'Jaguars',\n",
    "     'Jets',\n",
    "     'Lions',\n",
    "     'Packers',\n",
    "     'Panthers',\n",
    "     'Patriots',\n",
    "     'Raiders',\n",
    "     'Rams',\n",
    "     'Ravens',\n",
    "     'Saints',\n",
    "     'Seahawks',\n",
    "     'Steelers',\n",
    "     'Texans',\n",
    "     'Titans',\n",
    "     'Vikings'\n",
    "]"
   ]
  },
  {
   "cell_type": "code",
   "execution_count": 7,
   "id": "2a25c645-0cd3-4406-a8c6-191dfee82d48",
   "metadata": {},
   "outputs": [],
   "source": [
    "table_li = [\n",
    "    'team_stats_and_ranking',\n",
    "    'schedule_and_game_results',\n",
    "    'team_conversions',\n",
    "    'passing',\n",
    "    'rushing_and_receiving',\n",
    "    'kick_and_punt_returns',\n",
    "    'kicking',\n",
    "    'punting',\n",
    "    'defense_and_fumbles',\n",
    "    'scoring_summary',\n",
    "    'touchdown_log',\n",
    "    'opponent_touchdown_log'\n",
    "]"
   ]
  },
  {
   "cell_type": "code",
   "execution_count": 8,
   "id": "abf78e2d-bffc-4628-b92a-a08480dd362e",
   "metadata": {},
   "outputs": [],
   "source": [
    "#Conneciton to SQL Engine\n",
    "conn = engine.connect()"
   ]
  },
  {
   "cell_type": "code",
   "execution_count": 9,
   "id": "b3c09ced-282a-4780-bd7e-f1e2150df17a",
   "metadata": {},
   "outputs": [],
   "source": [
    "def sql_table_union (years: list, teams: list, table:str):\n",
    "\n",
    "    sql_table_li = []\n",
    "    for year in years:\n",
    "        for team in team_li:\n",
    "            sql_table = f'select * from {table}_{team}_{year}' \n",
    "    \n",
    "            sql_table_li.append(sql_table)\n",
    "\n",
    "    sql_table_union = ' union '.join([sqlt for sqlt in sql_table_li])\n",
    "    \n",
    "    return sql_table_union"
   ]
  },
  {
   "cell_type": "code",
   "execution_count": 11,
   "id": "17bf23b5-35cf-46e9-a6be-b186212fb5bb",
   "metadata": {},
   "outputs": [
    {
     "name": "stdout",
     "output_type": "stream",
     "text": [
      "***************************************************\n",
      "team_stats_and_ranking\n",
      "***************************************************\n",
      "schedule_and_game_results\n",
      "***************************************************\n",
      "team_conversions\n",
      "***************************************************\n",
      "passing\n",
      "***************************************************\n",
      "rushing_and_receiving\n",
      "***************************************************\n",
      "kick_and_punt_returns\n",
      "***************************************************\n",
      "kicking\n",
      "***************************************************\n",
      "punting\n",
      "***************************************************\n",
      "defense_and_fumbles\n",
      "***************************************************\n",
      "scoring_summary\n",
      "***************************************************\n",
      "touchdown_log\n",
      "***************************************************\n",
      "opponent_touchdown_log\n"
     ]
    }
   ],
   "source": [
    "for table in table_li:\n",
    "    print('***************************************************')\n",
    "    print(f'{table}')\n",
    "    sql_table_union_str = sql_table_union(years, team_li, table=table)\n",
    "    \n",
    "    sql_df_union = pd.read_sql(sql_table_union_str, con=engine)\n",
    "\n",
    "    sql_df_union.to_sql(table, con=engine, if_exists='replace')"
   ]
  },
  {
   "cell_type": "code",
   "execution_count": null,
   "id": "2508eb9e-90de-4ad9-bd0b-c6ae9e44c67f",
   "metadata": {},
   "outputs": [],
   "source": []
  }
 ],
 "metadata": {
  "kernelspec": {
   "display_name": "Python 3 (ipykernel)",
   "language": "python",
   "name": "python3"
  },
  "language_info": {
   "codemirror_mode": {
    "name": "ipython",
    "version": 3
   },
   "file_extension": ".py",
   "mimetype": "text/x-python",
   "name": "python",
   "nbconvert_exporter": "python",
   "pygments_lexer": "ipython3",
   "version": "3.11.5"
  }
 },
 "nbformat": 4,
 "nbformat_minor": 5
}
