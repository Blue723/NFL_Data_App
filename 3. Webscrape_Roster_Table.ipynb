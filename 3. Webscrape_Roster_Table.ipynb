{
 "cells": [
  {
   "cell_type": "code",
   "execution_count": 4,
   "id": "2640b666",
   "metadata": {},
   "outputs": [],
   "source": [
    "import html5lib\n",
    "import lxml\n",
    "\n",
    "from bs4 import BeautifulSoup as bs\n",
    "\n",
    "import requests\n",
    "import re\n",
    "\n",
    "import pandas as pd\n",
    "\n",
    "import os\n",
    "\n",
    "import time\n",
    "import random"
   ]
  },
  {
   "cell_type": "code",
   "execution_count": 5,
   "id": "7cde9afa-70ec-4dc7-9922-a2c51e674a4d",
   "metadata": {},
   "outputs": [],
   "source": [
    "years = range(2010, 2024)"
   ]
  },
  {
   "cell_type": "code",
   "execution_count": 6,
   "id": "414b8fc8-b0a8-4fcf-8167-73e87f0ec58f",
   "metadata": {},
   "outputs": [],
   "source": [
    "team_to_url_df = pd.DataFrame(\n",
    "    data=[\n",
    "        [\n",
    "            'crd', #Cardinals\n",
    "            'atl', #Falcons\n",
    "            'rav', #Ravens\n",
    "            'buf', #Bills\n",
    "            'car', #Panthers\n",
    "            'chi', #Bears\n",
    "            'cin', #Bengals\n",
    "            'cle', #Browns\n",
    "            'dal', #Cowboys\n",
    "            'den', #Broncos\n",
    "            'det', #Lions\n",
    "            'gnb', #Packers\n",
    "            'htx', #Texans\n",
    "            'clt', # Colts\n",
    "            'jax', #Jaguars\n",
    "            'kan', #Chiefs\n",
    "            'rai', #Raiders\n",
    "            'sdg', #Chargers\n",
    "            'ram', #Rams\n",
    "            'mia', #Dolphins\n",
    "            'min', #Vikings\n",
    "            'nwe', #Patriots\n",
    "            'nor', #Saints\n",
    "            'nyg', #Giants\n",
    "            'nyj', #Jets\n",
    "            'phi', #Eagles\n",
    "            'pit', #Steelers\n",
    "            'sfo', #49ers\n",
    "            'sea', #Seahawks\n",
    "            'tam', #Buccaneers\n",
    "            'oti', #Titans\n",
    "            'was' #Commanders\n",
    "        ]\n",
    "    ], \n",
    "    columns=[\n",
    "        'Cardinals',\n",
    "        'Falcons',\n",
    "        'Ravens',\n",
    "        'Bills',\n",
    "        'Panthers',\n",
    "        'Bears',\n",
    "        'Bengals',\n",
    "        'Browns',\n",
    "        'Cowboys',\n",
    "        'Broncos',\n",
    "        'Lions',\n",
    "        'Packers',\n",
    "        'Texans',\n",
    "        'Colts',\n",
    "        'Jaguars',\n",
    "        'Chiefs',\n",
    "        'Raiders',\n",
    "        'Chargers',\n",
    "        'Rams',\n",
    "        'Dolphins',\n",
    "        'Vikings',\n",
    "        'Patriots',\n",
    "        'Saints',\n",
    "        'Giants',\n",
    "        'Jets',\n",
    "        'Eagles',\n",
    "        'Steelers',\n",
    "        '49ers',\n",
    "        'Seahawks',\n",
    "        'Buccaneers',\n",
    "        'Titans',\n",
    "        'Commanders'\n",
    "    ])"
   ]
  },
  {
   "cell_type": "code",
   "execution_count": null,
   "id": "7fad3178-d7ac-45ca-8dfe-2ee4f194e559",
   "metadata": {},
   "outputs": [],
   "source": []
  },
  {
   "cell_type": "markdown",
   "id": "5f324506-62fc-4d54-8824-d05f0356d369",
   "metadata": {},
   "source": [
    "# Import Roster 2010-2023"
   ]
  },
  {
   "cell_type": "code",
   "execution_count": 7,
   "id": "fd98e0f9-9f8f-4d86-8acf-1bdbdc88c4d1",
   "metadata": {},
   "outputs": [],
   "source": [
    "# use this function before creating tables\n",
    "def roster_df(url:str):\n",
    "    \n",
    "    html_roster_str = requests.get(url).text\n",
    "\n",
    "    soup = bs(html_roster_str, 'lxml')\n",
    "\n",
    "    html_roster = soup.find_all('div', class_='table_wrapper')[1]\n",
    "    \n",
    "        # index the 5th element to get table\n",
    "    html_roster_children_li = []\n",
    "    for hrc in html_roster.children:\n",
    "        html_roster_children_li.append(hrc)\n",
    "\n",
    "    df = pd.read_html(html_roster_children_li[4])[0]\n",
    "\n",
    "    time.sleep(random.randrange(5,8))\n",
    "\n",
    "    return df"
   ]
  },
  {
   "cell_type": "code",
   "execution_count": 8,
   "id": "8c06a852",
   "metadata": {},
   "outputs": [],
   "source": [
    "def create_roster_csv(team_url:str, year:int):\n",
    "\n",
    "    # format team_to_url_df list to choose team, the second bracket is for the year\n",
    "    roster_url = 'http://www.pro-football-reference.com/teams/{}/{}_roster.htm'\n",
    "            \n",
    "    #webscrape roster dataframe\n",
    "    url = roster_url.format(team_url, year)\n",
    "    df = roster_df(url=url)\n",
    "    \n",
    "    #drop last col\n",
    "    df = df.drop(columns=['Drafted (tm/rnd/yr)'], axis=1)\n",
    "\n",
    "    try:\n",
    "        df = df.drop(columns=['Salary'], axis=1)\n",
    "    except:\n",
    "        pass\n",
    "                         \n",
    "    return df"
   ]
  },
  {
   "cell_type": "code",
   "execution_count": 9,
   "id": "c7018478-5a2c-4eff-a9cc-bdba688f82f0",
   "metadata": {},
   "outputs": [],
   "source": [
    "def mani_roster_table(roster_df:pd)->pd:\n",
    "\n",
    "    #rename columns\n",
    "    roster_df.columns = ['No.', 'Player', 'Age', 'Position', 'Games_Played_in_Season', \n",
    "                  'Games_Started_in_Season', 'Weight', 'Height', 'College/University', 'BirthDate',\n",
    "                 'NFL_Years', 'Player_Value']\n",
    "\n",
    "    #change Rook to 0 in yrs column\n",
    "    roster_df['NFL_Years'] = roster_df['NFL_Years'].replace('Rook', 0)\n",
    "\n",
    "    #change datataype to integer\n",
    "    roster_df['NFL_Years'] = roster_df['NFL_Years'].astype('float64')\n",
    "\n",
    "\n",
    "    roster_df['Primary Position'] = roster_df['Position'].apply(lambda x: x.split('/')[0])\n",
    "    roster_df['Primary Position'] = roster_df['Primary Position'].apply(lambda x: x.strip())\n",
    "\n",
    "    roster_df['Official Position'] = roster_df['Primary Position'].replace({\n",
    "        'FB': 'RB',\n",
    "        'BT': 'DL',\n",
    "        'CB': 'DB',\n",
    "        'DE': 'DL',\n",
    "        'DT': 'DL',\n",
    "        'FS': 'DB',\n",
    "        'KB': 'LB',\n",
    "        'BODE': 'LB',\n",
    "        'LCB': 'DB',\n",
    "        'LD': 'LB',\n",
    "        'LDE': 'DL',\n",
    "        'LDT': 'DL',\n",
    "        'LILB': 'LB',\n",
    "        'LLB': 'LB',\n",
    "        'LOLB': 'LB',\n",
    "        'MLB': 'LB',\n",
    "        'NT': 'DL',\n",
    "        'OLB': 'LB',\n",
    "        'RCB': 'DB',\n",
    "        'RDE': 'DL',\n",
    "        'RDT': 'DL',\n",
    "        'RILB': 'LB',\n",
    "        'RLB': 'LB',\n",
    "        'ROLB': 'LB',\n",
    "        'S': 'DB',\n",
    "        'SS': 'DB',\n",
    "        'LA': 'DST',\n",
    "        'LS': 'DST',\n",
    "        'P': 'DST',\n",
    "        'PR': 'DST'\n",
    "    })\n",
    "    \n",
    "    roster_df['Team'] = [team] * len(roster_df)\n",
    "    roster_df['Year'] = [year] * len(roster_df)\n",
    "\n",
    "    #Reorder clumns\n",
    "    roster_df = roster_df[['No.', 'Player', 'BirthDate', 'Age', 'Height', 'Weight', \n",
    "                           'College/University', 'Position', 'Games_Played_in_Season',\n",
    "                           'Games_Started_in_Season', 'NFL_Years', 'Player_Value', 'Team', 'Year', 'Official Position']]\n",
    "\n",
    "    return roster_df"
   ]
  },
  {
   "cell_type": "code",
   "execution_count": 10,
   "id": "1a23eddc-e531-4cfa-96b4-210c57f923ec",
   "metadata": {
    "scrolled": true
   },
   "outputs": [
    {
     "name": "stdout",
     "output_type": "stream",
     "text": [
      "2010 Bills\n"
     ]
    },
    {
     "name": "stderr",
     "output_type": "stream",
     "text": [
      "C:\\Users\\Family\\AppData\\Local\\Temp\\ipykernel_10516\\3057426242.py:15: FutureWarning: Passing literal html to 'read_html' is deprecated and will be removed in a future version. To read from a literal string, wrap it in a 'StringIO' object.\n",
      "  df = pd.read_html(html_roster_children_li[4])[0]\n"
     ]
    },
    {
     "name": "stdout",
     "output_type": "stream",
     "text": [
      "2011 Bills\n"
     ]
    },
    {
     "name": "stderr",
     "output_type": "stream",
     "text": [
      "C:\\Users\\Family\\AppData\\Local\\Temp\\ipykernel_10516\\3057426242.py:15: FutureWarning: Passing literal html to 'read_html' is deprecated and will be removed in a future version. To read from a literal string, wrap it in a 'StringIO' object.\n",
      "  df = pd.read_html(html_roster_children_li[4])[0]\n"
     ]
    },
    {
     "name": "stdout",
     "output_type": "stream",
     "text": [
      "2012 Bills\n"
     ]
    },
    {
     "name": "stderr",
     "output_type": "stream",
     "text": [
      "C:\\Users\\Family\\AppData\\Local\\Temp\\ipykernel_10516\\3057426242.py:15: FutureWarning: Passing literal html to 'read_html' is deprecated and will be removed in a future version. To read from a literal string, wrap it in a 'StringIO' object.\n",
      "  df = pd.read_html(html_roster_children_li[4])[0]\n"
     ]
    },
    {
     "name": "stdout",
     "output_type": "stream",
     "text": [
      "2013 Bills\n"
     ]
    },
    {
     "name": "stderr",
     "output_type": "stream",
     "text": [
      "C:\\Users\\Family\\AppData\\Local\\Temp\\ipykernel_10516\\3057426242.py:15: FutureWarning: Passing literal html to 'read_html' is deprecated and will be removed in a future version. To read from a literal string, wrap it in a 'StringIO' object.\n",
      "  df = pd.read_html(html_roster_children_li[4])[0]\n"
     ]
    },
    {
     "name": "stdout",
     "output_type": "stream",
     "text": [
      "2014 Bills\n"
     ]
    },
    {
     "name": "stderr",
     "output_type": "stream",
     "text": [
      "C:\\Users\\Family\\AppData\\Local\\Temp\\ipykernel_10516\\3057426242.py:15: FutureWarning: Passing literal html to 'read_html' is deprecated and will be removed in a future version. To read from a literal string, wrap it in a 'StringIO' object.\n",
      "  df = pd.read_html(html_roster_children_li[4])[0]\n"
     ]
    },
    {
     "name": "stdout",
     "output_type": "stream",
     "text": [
      "2015 Bills\n"
     ]
    },
    {
     "name": "stderr",
     "output_type": "stream",
     "text": [
      "C:\\Users\\Family\\AppData\\Local\\Temp\\ipykernel_10516\\3057426242.py:15: FutureWarning: Passing literal html to 'read_html' is deprecated and will be removed in a future version. To read from a literal string, wrap it in a 'StringIO' object.\n",
      "  df = pd.read_html(html_roster_children_li[4])[0]\n"
     ]
    },
    {
     "name": "stdout",
     "output_type": "stream",
     "text": [
      "2016 Bills\n"
     ]
    },
    {
     "name": "stderr",
     "output_type": "stream",
     "text": [
      "C:\\Users\\Family\\AppData\\Local\\Temp\\ipykernel_10516\\3057426242.py:15: FutureWarning: Passing literal html to 'read_html' is deprecated and will be removed in a future version. To read from a literal string, wrap it in a 'StringIO' object.\n",
      "  df = pd.read_html(html_roster_children_li[4])[0]\n"
     ]
    },
    {
     "name": "stdout",
     "output_type": "stream",
     "text": [
      "2017 Bills\n"
     ]
    },
    {
     "name": "stderr",
     "output_type": "stream",
     "text": [
      "C:\\Users\\Family\\AppData\\Local\\Temp\\ipykernel_10516\\3057426242.py:15: FutureWarning: Passing literal html to 'read_html' is deprecated and will be removed in a future version. To read from a literal string, wrap it in a 'StringIO' object.\n",
      "  df = pd.read_html(html_roster_children_li[4])[0]\n"
     ]
    },
    {
     "name": "stdout",
     "output_type": "stream",
     "text": [
      "2018 Bills\n"
     ]
    },
    {
     "name": "stderr",
     "output_type": "stream",
     "text": [
      "C:\\Users\\Family\\AppData\\Local\\Temp\\ipykernel_10516\\3057426242.py:15: FutureWarning: Passing literal html to 'read_html' is deprecated and will be removed in a future version. To read from a literal string, wrap it in a 'StringIO' object.\n",
      "  df = pd.read_html(html_roster_children_li[4])[0]\n"
     ]
    },
    {
     "name": "stdout",
     "output_type": "stream",
     "text": [
      "2019 Bills\n"
     ]
    },
    {
     "name": "stderr",
     "output_type": "stream",
     "text": [
      "C:\\Users\\Family\\AppData\\Local\\Temp\\ipykernel_10516\\3057426242.py:15: FutureWarning: Passing literal html to 'read_html' is deprecated and will be removed in a future version. To read from a literal string, wrap it in a 'StringIO' object.\n",
      "  df = pd.read_html(html_roster_children_li[4])[0]\n"
     ]
    },
    {
     "name": "stdout",
     "output_type": "stream",
     "text": [
      "2020 Bills\n"
     ]
    },
    {
     "name": "stderr",
     "output_type": "stream",
     "text": [
      "C:\\Users\\Family\\AppData\\Local\\Temp\\ipykernel_10516\\3057426242.py:15: FutureWarning: Passing literal html to 'read_html' is deprecated and will be removed in a future version. To read from a literal string, wrap it in a 'StringIO' object.\n",
      "  df = pd.read_html(html_roster_children_li[4])[0]\n"
     ]
    },
    {
     "name": "stdout",
     "output_type": "stream",
     "text": [
      "2021 Bills\n"
     ]
    },
    {
     "name": "stderr",
     "output_type": "stream",
     "text": [
      "C:\\Users\\Family\\AppData\\Local\\Temp\\ipykernel_10516\\3057426242.py:15: FutureWarning: Passing literal html to 'read_html' is deprecated and will be removed in a future version. To read from a literal string, wrap it in a 'StringIO' object.\n",
      "  df = pd.read_html(html_roster_children_li[4])[0]\n"
     ]
    },
    {
     "name": "stdout",
     "output_type": "stream",
     "text": [
      "2022 Bills\n"
     ]
    },
    {
     "name": "stderr",
     "output_type": "stream",
     "text": [
      "C:\\Users\\Family\\AppData\\Local\\Temp\\ipykernel_10516\\3057426242.py:15: FutureWarning: Passing literal html to 'read_html' is deprecated and will be removed in a future version. To read from a literal string, wrap it in a 'StringIO' object.\n",
      "  df = pd.read_html(html_roster_children_li[4])[0]\n"
     ]
    },
    {
     "name": "stdout",
     "output_type": "stream",
     "text": [
      "2023 Bills\n"
     ]
    },
    {
     "name": "stderr",
     "output_type": "stream",
     "text": [
      "C:\\Users\\Family\\AppData\\Local\\Temp\\ipykernel_10516\\3057426242.py:15: FutureWarning: Passing literal html to 'read_html' is deprecated and will be removed in a future version. To read from a literal string, wrap it in a 'StringIO' object.\n",
      "  df = pd.read_html(html_roster_children_li[4])[0]\n"
     ]
    }
   ],
   "source": [
    "for year in years:\n",
    "    for team in team_to_url_df.columns[3:4]:\n",
    "\n",
    "        print(year, team)\n",
    "        \n",
    "        team_url = team_to_url_df[team].values[0]\n",
    "        \n",
    "        df = create_roster_csv(team_url=team_url, year=year)\n",
    "\n",
    "        df = mani_roster_table(roster_df=df)\n",
    "        \n",
    "        #where to save datafram\n",
    "        df.to_csv(f'NFL_Data_{year}\\{team}\\{team}_roster')\n",
    "        \n",
    "        \n",
    "\n",
    "   "
   ]
  },
  {
   "cell_type": "code",
   "execution_count": 8,
   "id": "da0c4b70-c67a-4dcb-84b0-eeced0f7ece1",
   "metadata": {},
   "outputs": [
    {
     "ename": "NameError",
     "evalue": "name 'stop' is not defined",
     "output_type": "error",
     "traceback": [
      "\u001b[1;31m---------------------------------------------------------------------------\u001b[0m",
      "\u001b[1;31mNameError\u001b[0m                                 Traceback (most recent call last)",
      "Cell \u001b[1;32mIn[8], line 1\u001b[0m\n\u001b[1;32m----> 1\u001b[0m stop\n",
      "\u001b[1;31mNameError\u001b[0m: name 'stop' is not defined"
     ]
    }
   ],
   "source": [
    "stop"
   ]
  },
  {
   "cell_type": "code",
   "execution_count": null,
   "id": "84bcf79c",
   "metadata": {
    "scrolled": true
   },
   "outputs": [],
   "source": [
    "roster_team_year_li = create_roster_csv(years=years)"
   ]
  },
  {
   "cell_type": "code",
   "execution_count": null,
   "id": "3ba555d1-9946-4a9f-8247-3628a9b4b92f",
   "metadata": {},
   "outputs": [],
   "source": [
    "roster_team_year_li"
   ]
  },
  {
   "cell_type": "markdown",
   "id": "b0a54ef0",
   "metadata": {},
   "source": [
    "# 2023 Rosters"
   ]
  },
  {
   "cell_type": "code",
   "execution_count": null,
   "id": "b9bcdbfe",
   "metadata": {},
   "outputs": [],
   "source": [
    "# use this function before creating tables\n",
    "def roster_df_2023(url:str):\n",
    "    \n",
    "    html = requests.get(url).text\n",
    "    \n",
    "    soup = bs(html, 'html.parser')\n",
    "\n",
    "    table = soup.find_all(class_='table_wrapper')[0]\n",
    "\n",
    "    str_table = str(table)\n",
    "\n",
    "    start_num_str_comment_tag = str_table.find('<!--')+4\n",
    "\n",
    "    table_html = bs(str_table[start_num_str_comment_tag:], 'html.parser')\n",
    "\n",
    "    df = pd.read_html(str(table_html), index_col=1)[0]\n",
    "    \n",
    "    time.sleep(random.randrange(5,8))\n",
    "    return df"
   ]
  },
  {
   "cell_type": "code",
   "execution_count": null,
   "id": "0679d1d5",
   "metadata": {},
   "outputs": [],
   "source": [
    "def create_roster_csv(years:None):\n",
    "        \n",
    "    team_to_url_df = pd.DataFrame(\n",
    "        data=[\n",
    "            [\n",
    "                'crd', #Cardinals\n",
    "                'atl', #Falcons\n",
    "                'rav', #Ravens\n",
    "                'buf', #Bills\n",
    "                'car', #Panthers\n",
    "                'chi', #Bears\n",
    "                'cin', #Bengals\n",
    "                'cle', #Browns\n",
    "                'dal', #Cowboys\n",
    "                'den', #Broncos\n",
    "                'det', #Lions\n",
    "                'gnb', #Packers\n",
    "                'htx', #Texans\n",
    "                'clt', # Colts\n",
    "                'jax', #Jaguars\n",
    "                'kan', #Chiefs\n",
    "                'rai', #Raiders\n",
    "                'sdg', #Chargers\n",
    "                'ram', #Rams\n",
    "                'mia', #Dolphins\n",
    "                'min', #Vikings\n",
    "                'nwe', #Patriots\n",
    "                'nor', #Saints\n",
    "                'nyg', #Giants\n",
    "                'nyj', #Jets\n",
    "                'phi', #Eagles\n",
    "                'pit', #Steelers\n",
    "                'sfo', #49ers\n",
    "                'sea', #Seahawks\n",
    "                'tam', #Buccaneers\n",
    "                'oti', #Titans\n",
    "                'was' #Commanders\n",
    "            ]\n",
    "        ], \n",
    "        columns=[\n",
    "            'Cardinals',\n",
    "            'Falcons',\n",
    "            'Ravens',\n",
    "            'Bills',\n",
    "            'Panthers',\n",
    "            'Bears',\n",
    "            'Bengals',\n",
    "            'Browns',\n",
    "            'Cowboys',\n",
    "            'Broncos',\n",
    "            'Lions',\n",
    "            'Packers',\n",
    "            'Texans',\n",
    "            'Colts',\n",
    "            'Jaguars',\n",
    "            'Chiefs',\n",
    "            'Raiders',\n",
    "            'Chargers',\n",
    "            'Rams',\n",
    "            'Dolphins',\n",
    "            'Vikings',\n",
    "            'Patriots',\n",
    "            'Saints',\n",
    "            'Giants',\n",
    "            'Jets',\n",
    "            'Eagles',\n",
    "            'Steelers',\n",
    "            '49ers',\n",
    "            'Seahawks',\n",
    "            'Buccaneers',\n",
    "            'Titans',\n",
    "            'Commanders'\n",
    "        ])\n",
    "    # format team_to_url_df list to choose team, the second bracket is for the year\n",
    "    roster_url = 'http://www.pro-football-reference.com/teams/{}/{}_roster.htm'\n",
    "    \n",
    "    #to observe imported df\n",
    "    roster_team_year_li = []\n",
    "    \n",
    "    for year in years:\n",
    "        for team_url in team_to_url_df:\n",
    "            \n",
    "            #webscrape roster dataframe\n",
    "            url = roster_url.format(team_to_url_df[team_url].values[0], year)\n",
    "            df = roster_df_2023(url=url)\n",
    "            \n",
    "            #drop last col\n",
    "            df.drop(columns=['Drafted (tm/rnd/yr)'], axis=1)\n",
    "                        \n",
    "            df.insert(1, 'Team', team_url)\n",
    "            \n",
    "            #where to save datafram\n",
    "            df.to_csv('NFL_Data_{}\\\\'.format(year) + team_url + '\\\\{}_roster'.format(team_url))\n",
    "           \n",
    "            #to observe imported df\n",
    "            roster_team_year_li.append(df)\n",
    "            \n",
    "    return roster_team_year_li"
   ]
  },
  {
   "cell_type": "code",
   "execution_count": null,
   "id": "b4f407f8",
   "metadata": {},
   "outputs": [],
   "source": [
    "roster_team_year_li = create_roster_csv(years=[2023])"
   ]
  },
  {
   "cell_type": "code",
   "execution_count": null,
   "id": "48cfbf2a",
   "metadata": {},
   "outputs": [],
   "source": []
  }
 ],
 "metadata": {
  "kernelspec": {
   "display_name": "Python 3 (ipykernel)",
   "language": "python",
   "name": "python3"
  },
  "language_info": {
   "codemirror_mode": {
    "name": "ipython",
    "version": 3
   },
   "file_extension": ".py",
   "mimetype": "text/x-python",
   "name": "python",
   "nbconvert_exporter": "python",
   "pygments_lexer": "ipython3",
   "version": "3.11.5"
  }
 },
 "nbformat": 4,
 "nbformat_minor": 5
}
