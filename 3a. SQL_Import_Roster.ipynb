{
 "cells": [
  {
   "cell_type": "markdown",
   "id": "0befa864-d8d5-4d0c-aaa2-91aa7ab0f7df",
   "metadata": {},
   "source": [
    "- This notebook will import all player's roster and advanced log tables into sql.\n",
    "- The notebook URL_Player_Adv_Log webscrapes and imports tables into the files as CSV"
   ]
  },
  {
   "cell_type": "code",
   "execution_count": 1,
   "id": "676810ac-b746-4088-a0ee-28dc2575b639",
   "metadata": {},
   "outputs": [],
   "source": [
    "import pandas as pd\n",
    "\n",
    "import pyodbc\n",
    "\n",
    "import sqlalchemy as sal\n",
    "from sqlalchemy import create_engine\n",
    "from sqlalchemy.sql import text\n",
    "\n",
    "import os"
   ]
  },
  {
   "cell_type": "code",
   "execution_count": 2,
   "id": "6bf03f79-ed9f-48e7-ad29-62ee2ee60cd2",
   "metadata": {},
   "outputs": [],
   "source": [
    "# connection link varaibles\n",
    "# Contains unioned tables from all years and teams\n",
    "servername = '****'\n",
    "football_data = 'Football_Data'\n",
    "trusted_conneciton = '?trusted_conneciton=yes'\n",
    "driver = '&driver=ODBC+Driver+17+for+SQL+Server'"
   ]
  },
  {
   "cell_type": "code",
   "execution_count": 3,
   "id": "60028fbf-152b-43b3-bcc7-3cb8b738ac35",
   "metadata": {},
   "outputs": [
    {
     "data": {
      "text/plain": [
       "Engine(mssql+pyodbc://@DESKTOP-5IAPFQC\\MSSQLSERVER2019/Football_Data?driver=ODBC+Driver+17+for+SQL+Server&trusted_conneciton=yes)"
      ]
     },
     "execution_count": 3,
     "metadata": {},
     "output_type": "execute_result"
    }
   ],
   "source": [
    "#create engine url to connect to sql server\n",
    "engine = create_engine(f'mssql+pyodbc://{servername}/{football_data}{trusted_conneciton}{driver}')\n",
    "engine"
   ]
  },
  {
   "cell_type": "code",
   "execution_count": 4,
   "id": "2a239128-2812-45d1-8b37-dea68e356e2c",
   "metadata": {},
   "outputs": [],
   "source": [
    "con = engine.connect()"
   ]
  },
  {
   "cell_type": "code",
   "execution_count": 5,
   "id": "b6d47012-6f85-4a10-9d68-fd8fda1cba13",
   "metadata": {},
   "outputs": [],
   "source": [
    "years = range(2010, 2024)"
   ]
  },
  {
   "cell_type": "code",
   "execution_count": 6,
   "id": "f779d239-bf6c-4d3e-a28e-690e44ad5b73",
   "metadata": {},
   "outputs": [],
   "source": [
    "team_li = [\n",
    "     '49ers',\n",
    "     'Bears',\n",
    "     'Bengals',\n",
    "     'Broncos',\n",
    "     'Browns',\n",
    "     'Buccaneers',\n",
    "     'Bills',\n",
    "     'Cardinals',\n",
    "     'Chargers',\n",
    "     'Chiefs',\n",
    "     'Colts',\n",
    "     'Commanders',\n",
    "     'Cowboys',\n",
    "     'Dolphins',\n",
    "     'Eagles',\n",
    "     'Falcons',\n",
    "     'Giants',\n",
    "     'Jaguars',\n",
    "     'Jets',\n",
    "     'Lions',\n",
    "     'Packers',\n",
    "     'Panthers',\n",
    "     'Patriots',\n",
    "     'Raiders',\n",
    "     'Rams',\n",
    "     'Ravens',\n",
    "     'Saints',\n",
    "     'Seahawks',\n",
    "     'Steelers',\n",
    "     'Texans',\n",
    "     'Titans',\n",
    "     'Vikings'\n",
    "]"
   ]
  },
  {
   "cell_type": "markdown",
   "id": "8bf743cb-2091-4357-b32a-f4f81bfc62c2",
   "metadata": {},
   "source": [
    "# SQL Import Roster"
   ]
  },
  {
   "cell_type": "code",
   "execution_count": 8,
   "id": "2837c9c4-8996-459d-8c85-8242dedd1861",
   "metadata": {},
   "outputs": [
    {
     "data": {
      "text/plain": [
       "61"
      ]
     },
     "execution_count": 8,
     "metadata": {},
     "output_type": "execute_result"
    }
   ],
   "source": [
    "#import to nfl data\n",
    "roster_df = pd.DataFrame()\n",
    "for year in years:\n",
    "    for team in team_li:\n",
    "        file_loc = f'NFL_Data_{year}/{team}/{team}_roster'\n",
    "            \n",
    "        df = pd.read_csv(file_loc, index_col=0)\n",
    "\n",
    "        roster_df = pd.concat([roster_df, df], axis=0)\n",
    "\n",
    "roster_df.to_sql(f'Roster', con=con, if_exists='replace', index=False)"
   ]
  },
  {
   "cell_type": "code",
   "execution_count": 14,
   "id": "4b3394ab-083a-4976-a140-b7882d5a92bb",
   "metadata": {},
   "outputs": [
    {
     "ename": "NameError",
     "evalue": "name 'stop' is not defined",
     "output_type": "error",
     "traceback": [
      "\u001b[1;31m---------------------------------------------------------------------------\u001b[0m",
      "\u001b[1;31mNameError\u001b[0m                                 Traceback (most recent call last)",
      "Cell \u001b[1;32mIn[14], line 1\u001b[0m\n\u001b[1;32m----> 1\u001b[0m stop\n",
      "\u001b[1;31mNameError\u001b[0m: name 'stop' is not defined"
     ]
    }
   ],
   "source": [
    "stop"
   ]
  },
  {
   "cell_type": "code",
   "execution_count": null,
   "id": "b2bc4bfe-1d1b-45ed-8e5a-84403d097764",
   "metadata": {},
   "outputs": [],
   "source": []
  },
  {
   "cell_type": "code",
   "execution_count": null,
   "id": "142cd99b-1683-4fac-bcec-17faff03abae",
   "metadata": {},
   "outputs": [],
   "source": []
  },
  {
   "cell_type": "code",
   "execution_count": null,
   "id": "490a235c-5927-4bf6-b1fe-1b9fc29835de",
   "metadata": {},
   "outputs": [],
   "source": []
  },
  {
   "cell_type": "code",
   "execution_count": null,
   "id": "b0e2c916-fd0b-42bb-a766-cec5291e15aa",
   "metadata": {},
   "outputs": [],
   "source": []
  },
  {
   "cell_type": "code",
   "execution_count": null,
   "id": "8f60f110-e74c-4ea7-a830-738ed0458c4a",
   "metadata": {},
   "outputs": [],
   "source": []
  },
  {
   "cell_type": "code",
   "execution_count": null,
   "id": "18a2e36e-60ac-448d-a4dd-e71a4b53adaf",
   "metadata": {},
   "outputs": [],
   "source": []
  },
  {
   "cell_type": "code",
   "execution_count": null,
   "id": "745288b2-d6bd-4a11-ac2e-6217f8a44179",
   "metadata": {},
   "outputs": [],
   "source": []
  },
  {
   "cell_type": "code",
   "execution_count": null,
   "id": "bb6c475a-8b91-4562-badf-406db37c8a02",
   "metadata": {},
   "outputs": [],
   "source": [
    "\n",
    "        "
   ]
  },
  {
   "cell_type": "code",
   "execution_count": null,
   "id": "d267abc4-fb58-48a5-b373-f94895987129",
   "metadata": {},
   "outputs": [],
   "source": []
  },
  {
   "cell_type": "code",
   "execution_count": null,
   "id": "038fd93b-abe9-4f99-945f-4e5184c54850",
   "metadata": {},
   "outputs": [],
   "source": []
  }
 ],
 "metadata": {
  "kernelspec": {
   "display_name": "Python 3 (ipykernel)",
   "language": "python",
   "name": "python3"
  },
  "language_info": {
   "codemirror_mode": {
    "name": "ipython",
    "version": 3
   },
   "file_extension": ".py",
   "mimetype": "text/x-python",
   "name": "python",
   "nbconvert_exporter": "python",
   "pygments_lexer": "ipython3",
   "version": "3.11.5"
  }
 },
 "nbformat": 4,
 "nbformat_minor": 5
}
