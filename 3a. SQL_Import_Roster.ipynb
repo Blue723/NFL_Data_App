{
 "cells": [
  {
   "cell_type": "markdown",
   "id": "0befa864-d8d5-4d0c-aaa2-91aa7ab0f7df",
   "metadata": {},
   "source": [
    "- This notebook will import all player's roster and advanced log tables into sql.\n",
    "- The notebook URL_Player_Adv_Log webscrapes and imports tables into the files as CSV"
   ]
  },
  {
   "cell_type": "code",
   "execution_count": 1,
   "id": "676810ac-b746-4088-a0ee-28dc2575b639",
   "metadata": {},
   "outputs": [],
   "source": [
    "import pandas as pd\n",
    "\n",
    "import pyodbc\n",
    "\n",
    "import sqlalchemy as sal\n",
    "from sqlalchemy import create_engine\n",
    "from sqlalchemy.sql import text\n",
    "\n",
    "import os"
   ]
  },
  {
   "cell_type": "code",
   "execution_count": 2,
   "id": "6bf03f79-ed9f-48e7-ad29-62ee2ee60cd2",
   "metadata": {},
   "outputs": [],
   "source": [
    "# connection link varaibles\n",
    "# Contains unioned tables from all years and teams\n",
    "servername = '****' \n",
    "football_data = 'Football_Data'\n",
    "trusted_conneciton = '?trusted_conneciton=yes'\n",
    "driver = '&driver=ODBC+Driver+17+for+SQL+Server'"
   ]
  },
  {
   "cell_type": "code",
   "execution_count": 3,
   "id": "60028fbf-152b-43b3-bcc7-3cb8b738ac35",
   "metadata": {},
   "outputs": [
    {
     "data": {
      "text/plain": [
       "Engine(mssql+pyodbc://DESKTOP-5IAPFQC/Football_Data?driver=ODBC+Driver+17+for+SQL+Server&trusted_conneciton=yes)"
      ]
     },
     "execution_count": 3,
     "metadata": {},
     "output_type": "execute_result"
    }
   ],
   "source": [
    "#create engine url to connect to sql server\n",
    "engine = create_engine(f'mssql+pyodbc://{servername}/{football_data}{trusted_conneciton}{driver}')\n",
    "engine"
   ]
  },
  {
   "cell_type": "code",
   "execution_count": 4,
   "id": "2a239128-2812-45d1-8b37-dea68e356e2c",
   "metadata": {},
   "outputs": [],
   "source": [
    "con = engine.connect()"
   ]
  },
  {
   "cell_type": "code",
   "execution_count": 5,
   "id": "b6d47012-6f85-4a10-9d68-fd8fda1cba13",
   "metadata": {},
   "outputs": [],
   "source": [
    "years = range(2010, 2024)"
   ]
  },
  {
   "cell_type": "code",
   "execution_count": 6,
   "id": "f779d239-bf6c-4d3e-a28e-690e44ad5b73",
   "metadata": {},
   "outputs": [],
   "source": [
    "team_li = [\n",
    "     '49ers',\n",
    "     'Bears',\n",
    "     'Bengals',\n",
    "     'Broncos',\n",
    "     'Browns',\n",
    "     'Buccaneers',\n",
    "     'Bills',\n",
    "     'Cardinals',\n",
    "     'Chargers',\n",
    "     'Chiefs',\n",
    "     'Colts',\n",
    "     'Commanders',\n",
    "     'Cowboys',\n",
    "     'Dolphins',\n",
    "     'Eagles',\n",
    "     'Falcons',\n",
    "     'Giants',\n",
    "     'Jaguars',\n",
    "     'Jets',\n",
    "     'Lions',\n",
    "     'Packers',\n",
    "     'Panthers',\n",
    "     'Patriots',\n",
    "     'Raiders',\n",
    "     'Rams',\n",
    "     'Ravens',\n",
    "     'Saints',\n",
    "     'Seahawks',\n",
    "     'Steelers',\n",
    "     'Texans',\n",
    "     'Titans',\n",
    "     'Vikings'\n",
    "]"
   ]
  },
  {
   "cell_type": "markdown",
   "id": "8bf743cb-2091-4357-b32a-f4f81bfc62c2",
   "metadata": {},
   "source": [
    "# SQL Import Roster"
   ]
  },
  {
   "cell_type": "code",
   "execution_count": 7,
   "id": "2837c9c4-8996-459d-8c85-8242dedd1861",
   "metadata": {},
   "outputs": [
    {
     "data": {
      "text/plain": [
       "61"
      ]
     },
     "execution_count": 7,
     "metadata": {},
     "output_type": "execute_result"
    }
   ],
   "source": [
    "#import to nfl data\n",
    "roster_df = pd.DataFrame()\n",
    "for year in years:\n",
    "    for team in team_li:\n",
    "        file_loc = f'NFL_Data_{year}/{team}/{team}_roster'\n",
    "            \n",
    "        df = pd.read_csv(file_loc, index_col=0)\n",
    "\n",
    "        roster_df = pd.concat([roster_df, df], axis=0)\n",
    "\n",
    "roster_df.to_csv('Roster 2010-2023/Roster')\n",
    "roster_df.to_sql(f'Roster', con=con, if_exists='replace', index=False)"
   ]
  },
  {
   "cell_type": "code",
   "execution_count": 10,
   "id": "43b2ae08-ee33-47e5-b102-b05600969a16",
   "metadata": {},
   "outputs": [
    {
     "ename": "NameError",
     "evalue": "name 'roster_df' is not defined",
     "output_type": "error",
     "traceback": [
      "\u001b[1;31m---------------------------------------------------------------------------\u001b[0m",
      "\u001b[1;31mNameError\u001b[0m                                 Traceback (most recent call last)",
      "Cell \u001b[1;32mIn[10], line 1\u001b[0m\n\u001b[1;32m----> 1\u001b[0m roster_df\u001b[38;5;241m.\u001b[39mto_csv(\u001b[38;5;124m'\u001b[39m\u001b[38;5;124mRoster 2010-2023/Roster\u001b[39m\u001b[38;5;124m'\u001b[39m)\n",
      "\u001b[1;31mNameError\u001b[0m: name 'roster_df' is not defined"
     ]
    }
   ],
   "source": [
    "roster_df.to_csv('Roster 2010-2023/Roster')"
   ]
  },
  {
   "cell_type": "code",
   "execution_count": null,
   "id": "7f5ae3c0-8aa3-48ab-a47e-9d4f77ed3ca4",
   "metadata": {},
   "outputs": [],
   "source": []
  },
  {
   "cell_type": "code",
   "execution_count": 2,
   "id": "18c32630-bd4e-4510-8db7-4e45a976a164",
   "metadata": {},
   "outputs": [],
   "source": [
    "# connection link varaibles\n",
    "# Contains unioned tables from all years and teams\n",
    "servername = '****'\n",
    "football_data = 'Football_Data'\n",
    "trusted_conneciton = '?trusted_conneciton=yes'\n",
    "driver = '&driver=ODBC+Driver+17+for+SQL+Server'"
   ]
  },
  {
   "cell_type": "code",
   "execution_count": 3,
   "id": "42955663-1fde-494a-9032-d71f7984eeeb",
   "metadata": {},
   "outputs": [
    {
     "data": {
      "text/plain": [
       "Engine(mssql+pyodbc://DESKTOP-5IAPFQC\\MSSQLSERVER2019/Football_Data?driver=ODBC+Driver+17+for+SQL+Server&trusted_conneciton=yes)"
      ]
     },
     "execution_count": 3,
     "metadata": {},
     "output_type": "execute_result"
    }
   ],
   "source": [
    "#create engine url to connect to sql server\n",
    "engine = create_engine(f'mssql+pyodbc://{servername}/{football_data}{trusted_conneciton}{driver}')\n",
    "engine"
   ]
  },
  {
   "cell_type": "code",
   "execution_count": 4,
   "id": "26dbbe65-0066-49ad-9aba-b2c025dfdb7e",
   "metadata": {},
   "outputs": [],
   "source": [
    "con = engine.connect()"
   ]
  },
  {
   "cell_type": "code",
   "execution_count": 5,
   "id": "d612186b-ad16-42a2-91e9-277f800c7aef",
   "metadata": {},
   "outputs": [
    {
     "data": {
      "text/html": [
       "<div>\n",
       "<style scoped>\n",
       "    .dataframe tbody tr th:only-of-type {\n",
       "        vertical-align: middle;\n",
       "    }\n",
       "\n",
       "    .dataframe tbody tr th {\n",
       "        vertical-align: top;\n",
       "    }\n",
       "\n",
       "    .dataframe thead th {\n",
       "        text-align: right;\n",
       "    }\n",
       "</style>\n",
       "<table border=\"1\" class=\"dataframe\">\n",
       "  <thead>\n",
       "    <tr style=\"text-align: right;\">\n",
       "      <th></th>\n",
       "      <th>Player</th>\n",
       "      <th>BirthDate</th>\n",
       "      <th>Age</th>\n",
       "      <th>Height</th>\n",
       "      <th>Weight</th>\n",
       "      <th>College/University</th>\n",
       "      <th>Position</th>\n",
       "      <th>Games_Played_in_Season</th>\n",
       "      <th>Games_Started_in_Season</th>\n",
       "      <th>NFL_Years</th>\n",
       "      <th>Player_Value</th>\n",
       "      <th>Team</th>\n",
       "      <th>Year</th>\n",
       "      <th>No.</th>\n",
       "    </tr>\n",
       "  </thead>\n",
       "  <tbody>\n",
       "    <tr>\n",
       "      <th>35.0</th>\n",
       "      <td>Phillip Adams</td>\n",
       "      <td>7/20/1988</td>\n",
       "      <td>22.0</td>\n",
       "      <td>6-0</td>\n",
       "      <td>193.0</td>\n",
       "      <td>South Carolina St.</td>\n",
       "      <td>DB</td>\n",
       "      <td>15</td>\n",
       "      <td>0.0</td>\n",
       "      <td>0.0</td>\n",
       "      <td>1.0</td>\n",
       "      <td>49ers</td>\n",
       "      <td>2010</td>\n",
       "      <td>NaN</td>\n",
       "    </tr>\n",
       "    <tr>\n",
       "      <th>9.0</th>\n",
       "      <td>Shane Andrus</td>\n",
       "      <td>10/2/1980</td>\n",
       "      <td>30.0</td>\n",
       "      <td>5-10</td>\n",
       "      <td>190.0</td>\n",
       "      <td>Murray St.,Western Kentucky</td>\n",
       "      <td>K</td>\n",
       "      <td>2</td>\n",
       "      <td>0.0</td>\n",
       "      <td>1.0</td>\n",
       "      <td>0.0</td>\n",
       "      <td>49ers</td>\n",
       "      <td>2010</td>\n",
       "      <td>NaN</td>\n",
       "    </tr>\n",
       "    <tr>\n",
       "      <th>64.0</th>\n",
       "      <td>David Baas</td>\n",
       "      <td>9/28/1981</td>\n",
       "      <td>29.0</td>\n",
       "      <td>6-4</td>\n",
       "      <td>312.0</td>\n",
       "      <td>Michigan</td>\n",
       "      <td>C</td>\n",
       "      <td>16</td>\n",
       "      <td>16.0</td>\n",
       "      <td>5.0</td>\n",
       "      <td>7.0</td>\n",
       "      <td>49ers</td>\n",
       "      <td>2010</td>\n",
       "      <td>NaN</td>\n",
       "    </tr>\n",
       "    <tr>\n",
       "      <th>75.0</th>\n",
       "      <td>Alex Boone</td>\n",
       "      <td>5/4/1987</td>\n",
       "      <td>23.0</td>\n",
       "      <td>6-7</td>\n",
       "      <td>330.0</td>\n",
       "      <td>Ohio St.</td>\n",
       "      <td>G</td>\n",
       "      <td>1</td>\n",
       "      <td>0.0</td>\n",
       "      <td>0.0</td>\n",
       "      <td>0.0</td>\n",
       "      <td>49ers</td>\n",
       "      <td>2010</td>\n",
       "      <td>NaN</td>\n",
       "    </tr>\n",
       "    <tr>\n",
       "      <th>53.0</th>\n",
       "      <td>NaVorro Bowman</td>\n",
       "      <td>5/28/1988</td>\n",
       "      <td>22.0</td>\n",
       "      <td>6-1</td>\n",
       "      <td>230.0</td>\n",
       "      <td>Penn St.</td>\n",
       "      <td>LB</td>\n",
       "      <td>16</td>\n",
       "      <td>1.0</td>\n",
       "      <td>0.0</td>\n",
       "      <td>2.0</td>\n",
       "      <td>49ers</td>\n",
       "      <td>2010</td>\n",
       "      <td>NaN</td>\n",
       "    </tr>\n",
       "    <tr>\n",
       "      <th>...</th>\n",
       "      <td>...</td>\n",
       "      <td>...</td>\n",
       "      <td>...</td>\n",
       "      <td>...</td>\n",
       "      <td>...</td>\n",
       "      <td>...</td>\n",
       "      <td>...</td>\n",
       "      <td>...</td>\n",
       "      <td>...</td>\n",
       "      <td>...</td>\n",
       "      <td>...</td>\n",
       "      <td>...</td>\n",
       "      <td>...</td>\n",
       "      <td>...</td>\n",
       "    </tr>\n",
       "    <tr>\n",
       "      <th>66.0</th>\n",
       "      <td>Jaylin Williams</td>\n",
       "      <td>2/26/2000</td>\n",
       "      <td>23.0</td>\n",
       "      <td>5-10</td>\n",
       "      <td>195.0</td>\n",
       "      <td>Indiana</td>\n",
       "      <td>CB</td>\n",
       "      <td>3</td>\n",
       "      <td>0.0</td>\n",
       "      <td>0.0</td>\n",
       "      <td>0.0</td>\n",
       "      <td>Vikings</td>\n",
       "      <td>2023</td>\n",
       "      <td>38.0</td>\n",
       "    </tr>\n",
       "    <tr>\n",
       "      <th>67.0</th>\n",
       "      <td>Joejuan Williams</td>\n",
       "      <td>12/6/1997</td>\n",
       "      <td>26.0</td>\n",
       "      <td>6-3</td>\n",
       "      <td>212.0</td>\n",
       "      <td>Vanderbilt</td>\n",
       "      <td>CB</td>\n",
       "      <td>2</td>\n",
       "      <td>0.0</td>\n",
       "      <td>4.0</td>\n",
       "      <td>0.0</td>\n",
       "      <td>Vikings</td>\n",
       "      <td>2023</td>\n",
       "      <td>29.0</td>\n",
       "    </tr>\n",
       "    <tr>\n",
       "      <th>68.0</th>\n",
       "      <td>D.J. Wonnum</td>\n",
       "      <td>10/31/1997</td>\n",
       "      <td>26.0</td>\n",
       "      <td>6-5</td>\n",
       "      <td>258.0</td>\n",
       "      <td>South Carolina</td>\n",
       "      <td>OLB</td>\n",
       "      <td>15</td>\n",
       "      <td>14.0</td>\n",
       "      <td>3.0</td>\n",
       "      <td>8.0</td>\n",
       "      <td>Vikings</td>\n",
       "      <td>2023</td>\n",
       "      <td>98.0</td>\n",
       "    </tr>\n",
       "    <tr>\n",
       "      <th>69.0</th>\n",
       "      <td>Ryan Wright</td>\n",
       "      <td>6/1/2000</td>\n",
       "      <td>23.0</td>\n",
       "      <td>6-3</td>\n",
       "      <td>245.0</td>\n",
       "      <td>Tulane</td>\n",
       "      <td>P</td>\n",
       "      <td>17</td>\n",
       "      <td>0.0</td>\n",
       "      <td>1.0</td>\n",
       "      <td>2.0</td>\n",
       "      <td>Vikings</td>\n",
       "      <td>2023</td>\n",
       "      <td>14.0</td>\n",
       "    </tr>\n",
       "    <tr>\n",
       "      <th>70.0</th>\n",
       "      <td>Team Total</td>\n",
       "      <td>NaN</td>\n",
       "      <td>26.5</td>\n",
       "      <td>6-2.2</td>\n",
       "      <td>242.9</td>\n",
       "      <td>NaN</td>\n",
       "      <td>NaN</td>\n",
       "      <td>17</td>\n",
       "      <td>NaN</td>\n",
       "      <td>3.4</td>\n",
       "      <td>NaN</td>\n",
       "      <td>Vikings</td>\n",
       "      <td>2023</td>\n",
       "      <td>NaN</td>\n",
       "    </tr>\n",
       "  </tbody>\n",
       "</table>\n",
       "<p>30159 rows × 14 columns</p>\n",
       "</div>"
      ],
      "text/plain": [
       "                Player   BirthDate   Age Height  Weight  \\\n",
       "35.0     Phillip Adams   7/20/1988  22.0    6-0   193.0   \n",
       "9.0       Shane Andrus   10/2/1980  30.0   5-10   190.0   \n",
       "64.0        David Baas   9/28/1981  29.0    6-4   312.0   \n",
       "75.0        Alex Boone    5/4/1987  23.0    6-7   330.0   \n",
       "53.0    NaVorro Bowman   5/28/1988  22.0    6-1   230.0   \n",
       "...                ...         ...   ...    ...     ...   \n",
       "66.0   Jaylin Williams   2/26/2000  23.0   5-10   195.0   \n",
       "67.0  Joejuan Williams   12/6/1997  26.0    6-3   212.0   \n",
       "68.0       D.J. Wonnum  10/31/1997  26.0    6-5   258.0   \n",
       "69.0       Ryan Wright    6/1/2000  23.0    6-3   245.0   \n",
       "70.0        Team Total         NaN  26.5  6-2.2   242.9   \n",
       "\n",
       "               College/University Position  Games_Played_in_Season  \\\n",
       "35.0           South Carolina St.       DB                      15   \n",
       "9.0   Murray St.,Western Kentucky        K                       2   \n",
       "64.0                     Michigan        C                      16   \n",
       "75.0                     Ohio St.        G                       1   \n",
       "53.0                     Penn St.       LB                      16   \n",
       "...                           ...      ...                     ...   \n",
       "66.0                      Indiana       CB                       3   \n",
       "67.0                   Vanderbilt       CB                       2   \n",
       "68.0               South Carolina      OLB                      15   \n",
       "69.0                       Tulane        P                      17   \n",
       "70.0                          NaN      NaN                      17   \n",
       "\n",
       "      Games_Started_in_Season  NFL_Years  Player_Value     Team  Year   No.  \n",
       "35.0                      0.0        0.0           1.0    49ers  2010   NaN  \n",
       "9.0                       0.0        1.0           0.0    49ers  2010   NaN  \n",
       "64.0                     16.0        5.0           7.0    49ers  2010   NaN  \n",
       "75.0                      0.0        0.0           0.0    49ers  2010   NaN  \n",
       "53.0                      1.0        0.0           2.0    49ers  2010   NaN  \n",
       "...                       ...        ...           ...      ...   ...   ...  \n",
       "66.0                      0.0        0.0           0.0  Vikings  2023  38.0  \n",
       "67.0                      0.0        4.0           0.0  Vikings  2023  29.0  \n",
       "68.0                     14.0        3.0           8.0  Vikings  2023  98.0  \n",
       "69.0                      0.0        1.0           2.0  Vikings  2023  14.0  \n",
       "70.0                      NaN        3.4           NaN  Vikings  2023   NaN  \n",
       "\n",
       "[30159 rows x 14 columns]"
      ]
     },
     "execution_count": 5,
     "metadata": {},
     "output_type": "execute_result"
    }
   ],
   "source": [
    "roster_df = pd.read_csv('Roster 2010-2023/Roster', index_col=0)\n",
    "roster_df"
   ]
  },
  {
   "cell_type": "code",
   "execution_count": 6,
   "id": "15f5cdb4-9cd8-463d-9a72-29e44c314f38",
   "metadata": {},
   "outputs": [
    {
     "data": {
      "text/plain": [
       "61"
      ]
     },
     "execution_count": 6,
     "metadata": {},
     "output_type": "execute_result"
    }
   ],
   "source": [
    "roster_df.to_sql(f'Roster', con=con, if_exists='replace', index=False)"
   ]
  },
  {
   "cell_type": "code",
   "execution_count": null,
   "id": "4b3394ab-083a-4976-a140-b7882d5a92bb",
   "metadata": {},
   "outputs": [],
   "source": [
    "stop"
   ]
  },
  {
   "cell_type": "code",
   "execution_count": null,
   "id": "038fd93b-abe9-4f99-945f-4e5184c54850",
   "metadata": {},
   "outputs": [],
   "source": []
  }
 ],
 "metadata": {
  "kernelspec": {
   "display_name": "Python 3 (ipykernel)",
   "language": "python",
   "name": "python3"
  },
  "language_info": {
   "codemirror_mode": {
    "name": "ipython",
    "version": 3
   },
   "file_extension": ".py",
   "mimetype": "text/x-python",
   "name": "python",
   "nbconvert_exporter": "python",
   "pygments_lexer": "ipython3",
   "version": "3.11.5"
  }
 },
 "nbformat": 4,
 "nbformat_minor": 5
}
