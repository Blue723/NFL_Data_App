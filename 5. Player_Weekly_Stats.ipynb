{
 "cells": [
  {
   "cell_type": "code",
   "execution_count": 11,
   "metadata": {
    "id": "K4IqT1C9Iq4q"
   },
   "outputs": [],
   "source": [
    "import bs4 as bs\n",
    "import requests\n",
    "\n",
    "import pandas as pd\n",
    "\n",
    "import os\n",
    "\n",
    "import time\n",
    "import random\n",
    "\n",
    "import sqlalchemy as sal\n",
    "from sqlalchemy import create_engine\n",
    "from sqlalchemy.sql import text\n",
    "\n",
    "import duckdb"
   ]
  },
  {
   "cell_type": "code",
   "execution_count": 12,
   "metadata": {},
   "outputs": [],
   "source": [
    "# union of all season and team to one table for each table\n",
    "servername = '****'\n",
    "football_data = 'Football_Data'\n",
    "trusted_conneciton = '?trusted_conneciton=yes'\n",
    "driver = '&driver=ODBC+Driver+17+for+SQL+Server'\n",
    "username = 'MAKeith92'\n",
    "password = 'Lopez!123'"
   ]
  },
  {
   "cell_type": "code",
   "execution_count": 13,
   "metadata": {},
   "outputs": [
    {
     "data": {
      "text/plain": [
       "Engine(mssql+pyodbc://DESKTOP-5IAPFQC\\MSSQLSERVER2019/Football_Data?driver=ODBC+Driver+17+for+SQL+Server&trusted_conneciton=yes)"
      ]
     },
     "execution_count": 13,
     "metadata": {},
     "output_type": "execute_result"
    }
   ],
   "source": [
    "#create engine url to connect to sql server\n",
    "engine = create_engine(f'mssql+pyodbc://{servername}/{football_data}{trusted_conneciton}{driver}')\n",
    "engine"
   ]
  },
  {
   "cell_type": "code",
   "execution_count": 14,
   "metadata": {},
   "outputs": [],
   "source": [
    "conn = engine.connect()"
   ]
  },
  {
   "cell_type": "code",
   "execution_count": 15,
   "metadata": {
    "id": "rxCQOlg_IyNT"
   },
   "outputs": [],
   "source": [
    "years = range(2010,2024)"
   ]
  },
  {
   "cell_type": "code",
   "execution_count": 16,
   "metadata": {
    "id": "PXuZXPCtDhmN"
   },
   "outputs": [],
   "source": [
    "weeks = range(1,18)"
   ]
  },
  {
   "cell_type": "code",
   "execution_count": 17,
   "metadata": {
    "id": "VJAw5-jN_1ll"
   },
   "outputs": [],
   "source": [
    "position_li = ['qb', 'rb', 'wr', 'te', 'k', 'dst', 'dl', 'lb', 'db']"
   ]
  },
  {
   "cell_type": "code",
   "execution_count": 5,
   "metadata": {
    "id": "ARtZHZDfLee2"
   },
   "outputs": [],
   "source": [
    "def clean_df(df, year, week, position):\n",
    "    try:\n",
    "        df = df.droplevel(0, axis=1)\n",
    "\n",
    "    except:\n",
    "        pass\n",
    "\n",
    "    df['Player'] = df['Player'].apply(lambda x: x.split(' ')[:2])\n",
    "    df['Player'] = df['Player'].apply(lambda x: ' '.join(x))\n",
    "\n",
    "    #Add Position Column\n",
    "    df['Position'] = [position.upper()] * len(df)\n",
    "\n",
    "    #add Year Column\n",
    "    df['Year'] = [year] * len(df)\n",
    "\n",
    "    df['Week'] = [week] * len(df)\n",
    "\n",
    "    return df"
   ]
  },
  {
   "cell_type": "code",
   "execution_count": 6,
   "metadata": {
    "colab": {
     "base_uri": "https://localhost:8080/"
    },
    "id": "uAebIGDfJObP",
    "outputId": "04ba9629-9d46-4c3c-c28a-e89a25215237"
   },
   "outputs": [],
   "source": [
    "def qb_col(df):\n",
    "    #quarterback columns\n",
    "    df.columns = ['Rank', 'Player', 'Pass Completions', 'Pass Attempts',\n",
    "                  'Pass Completion/Attempts', 'Passing Yards', 'Passsing Yards/Attempt', 'Passing Touchdowns', \n",
    "                  'Interception', 'Sacks', 'Rushing Attempts', 'Rushing Yards', \n",
    "                  'Rushing Touchdown', 'Fumbles', 'Games Played', 'Fantasy Football Points', \n",
    "                  'FTPS/Game', 'ROST', 'Position', 'Year']\n",
    "    return df"
   ]
  },
  {
   "cell_type": "code",
   "execution_count": 7,
   "metadata": {
    "id": "K1dYwOC2TF7D"
   },
   "outputs": [],
   "source": [
    "def rb_col(df):\n",
    "    #Running Back\n",
    "    df.columns = ['Rank', 'Player', 'Rushing Attempts', 'Rushing Yards', 'Rushing Yards/Attempts',\n",
    "                  'Longest Rushing', 'Rushing 20+', 'Rushing Touchdown',\n",
    "                  'Recptions', 'TGT', 'Receiving Yards', 'Receiving Yards/Reception',\n",
    "                  'Receiving Touchdowns', 'Fumbles', 'Games Played', 'Fantasy Football Points', 'FTPS/Game', 'ROST',\n",
    "                  'Position', 'Year']\n",
    "    return df"
   ]
  },
  {
   "cell_type": "code",
   "execution_count": 8,
   "metadata": {
    "id": "L0KeCQFpUXNO"
   },
   "outputs": [],
   "source": [
    "def wr_col(df):\n",
    "    #wide receiver\n",
    "    df.columns = ['Rank', 'Player', 'Receiving Receptions', 'Receiving Target', 'Receiving Yards',\n",
    "                  'Yards/Reception', 'Longest Reception', 'Receiving 20+',\n",
    "                  'Receiving Touchdowns', 'Rushing Attempts', 'Rushing Yards',\n",
    "                  'Rushing Touchdown', 'Fumbles', 'Games Played', 'Fantasy Football Points', 'FTPS/Game', 'ROST',\n",
    "                  'Position', 'Year']\n",
    "    return df"
   ]
  },
  {
   "cell_type": "code",
   "execution_count": 9,
   "metadata": {
    "id": "MijgVL8bdMPz"
   },
   "outputs": [],
   "source": [
    "def te_col(df):\n",
    "    #tight end\n",
    "    df.columns = ['Rank', 'Player', 'Receiving Receptions', 'Receiving Target', 'Receiving Yards',\n",
    "                  'Yards/Reception', 'Longest Reception', 'Receiving 20+',\n",
    "                  'Receiving Touchdowns', 'Rushing Attempts', 'Rushing Yards',\n",
    "                  'Rushing Touchdown', 'Fumbles', 'Games Played', 'Fantasy Football Points',\n",
    "                   'FTPS/Game', 'ROST', 'Position', 'Year']\n",
    "    return df"
   ]
  },
  {
   "cell_type": "code",
   "execution_count": 10,
   "metadata": {
    "id": "UOYubLh3dMVL"
   },
   "outputs": [],
   "source": [
    "def k_col(df):\n",
    "    #kicking\n",
    "    df.columns = ['Rank', 'Player', 'Field Goals', 'Field Attempts', 'Percentage',\n",
    "                  'Longest Field', '1-19 Yards', '20-29 Yards', '30-39 Yards',\n",
    "                  '40-49 Yards', '50+ Yards', 'Extra Points Made', 'Extra Points Attempted',\n",
    "                  'Games Played', 'Fantasy Football Points',\n",
    "                   'FTPS/Game', 'ROST', 'Position', 'Year']\n",
    "    return df"
   ]
  },
  {
   "cell_type": "code",
   "execution_count": 11,
   "metadata": {
    "id": "29q2y5Z-dMbZ"
   },
   "outputs": [],
   "source": [
    "def def_st_col(df):\n",
    "    # Defese and Special Teams\n",
    "    df.columns = ['Rank', 'Player', 'Sack', 'Interceptions', \n",
    "                  'Fumble Recovery', 'Forced Fumble', 'Defense Touchdown', 'Safety', \n",
    "                  'Special Touchdown', 'Games Played', 'Fantasy Football Points', 'FTPS/Game', \n",
    "                  'ROST', 'Position', 'Year']\n",
    "    return df"
   ]
  },
  {
   "cell_type": "code",
   "execution_count": 12,
   "metadata": {
    "id": "pMKNpxzzdMgb"
   },
   "outputs": [],
   "source": [
    "def dl_col(df):\n",
    "    # defensive lineman\n",
    "    df.columns = ['Rank', 'Player', 'Tackle', 'Assist', \n",
    "                  'Sack', 'Pass Defended', 'Interception', 'Forced Fumble', \n",
    "                  'Fumble Recovery', 'Defend Touchdown', 'Games Played', 'Fantasy Football Points', \n",
    "                  'FTPS/Game', 'ROST', 'Position', 'Year']\n",
    "    return df"
   ]
  },
  {
   "cell_type": "code",
   "execution_count": 13,
   "metadata": {
    "id": "UR5CdH6YdMlR"
   },
   "outputs": [],
   "source": [
    "def lb_col(df):\n",
    "    #line backer\n",
    "    df.columns = ['Rank', 'Player', 'Tackle', 'Assist', 'Sack', 'Pass Defended',\n",
    "                  'Interception', 'Forced Fumble', 'Fumble Recovery', 'Defend Touchdown',\n",
    "                  'Games Played', 'Fantasy Football Points', 'FTPS/Game', 'ROST', 'Position', 'Year']    \n",
    "    return df"
   ]
  },
  {
   "cell_type": "code",
   "execution_count": 14,
   "metadata": {
    "id": "5GU9s8jbdMqF"
   },
   "outputs": [],
   "source": [
    "def db_col(df):\n",
    "    # defensive back\n",
    "    df.columns = ['Rank', 'Player', 'Tackle', 'Assist', 'Sack', 'Pass Defended',\n",
    "                  'Interception', 'Forced Fumble', 'Fumble Recovery', 'Defend Touchdown',\n",
    "                  'Games Played', 'Fantasy Football Points', 'FTPS/Game', 'ROST', 'Position', 'Year']\n",
    "    return df"
   ]
  },
  {
   "cell_type": "code",
   "execution_count": 15,
   "metadata": {
    "id": "0YOfwRlsEzvh"
   },
   "outputs": [],
   "source": [
    "for year in years:    \n",
    "    for week in weeks:\n",
    "        for position in position_li:\n",
    "            url = f'https://www.fantasypros.com/nfl/stats/{position}.php?week={week}&range=week&year={year}'\n",
    "\n",
    "            df = pd.read_html(url)[0]\n",
    "\n",
    "            time.sleep(random.randrange(7,10))\n",
    "\n",
    "            df = clean_df(df, year, week, position)\n",
    "\n",
    "            if position == 'qb': \n",
    "                df = qb_col(df)\n",
    "            elif position == 'rb':\n",
    "                df = rb_col(df)\n",
    "            elif position == 'wr':\n",
    "                df = wr_col(df)\n",
    "            elif position == 'te':\n",
    "                df = te_col(df)\n",
    "            elif position == 'k':\n",
    "                df = k_col(df)\n",
    "            elif position == 'dst':\n",
    "                df = def_st_col(df)\n",
    "            elif position == 'dl':\n",
    "                df = dl_col(df)\n",
    "            elif position == 'lb':\n",
    "                df = lb_col(df)\n",
    "            elif position == 'db':\n",
    "                df = db_col(df)\n",
    "            else:\n",
    "                print('DNE', position, year)\n",
    "\n",
    "\n",
    "            df.to_csv(f'NFL_Data_{year}/Weekly Stats/{position}_{week}_{year}')"
   ]
  },
  {
   "cell_type": "code",
   "execution_count": 41,
   "metadata": {},
   "outputs": [],
   "source": [
    "# Concat each position by year and upload to sql MSSQLSERVER2019\n",
    "for position in position_li:\n",
    "\n",
    "    position_df = pd.DataFrame()\n",
    "    \n",
    "    for year in years:\n",
    "\n",
    "        file_li = os.listdir(f'NFL_Data_{year}/Weekly Stats/')\n",
    "\n",
    "        for file in file_li:\n",
    "\n",
    "            if position in file:\n",
    "                df = pd.read_csv(f'NFL_Data_{year}/Weekly Stats/{file}', index_col=0)\n",
    "                \n",
    "                position_df = pd.concat([position_df, df], axis=0)\n",
    "\n",
    "\n",
    "    position_df.to_sql(f'{position.upper()}_Player_Weekly_Stats', con=conn, if_exists='replace')\n"
   ]
  },
  {
   "cell_type": "code",
   "execution_count": null,
   "metadata": {},
   "outputs": [],
   "source": [
    "# get team for each player data from sql, join TEAM column, save in SQL and CSV\n",
    "\n",
    "for position in position_li:\n",
    "\n",
    "    #join all years of that position\n",
    "    query = f'''select {position}.*, Roster.Team\n",
    "    from {position.upper()}_Player_Weekly_Stats {position}\n",
    "    join Roster on\n",
    "    ({position}.Player = Roster.Player) and\n",
    "    ({position}.Year = Roster.Year);'''\n",
    "\n",
    "    # read sql\n",
    "    position_df = pd.read_sql(query, conn)\n",
    "\n",
    "    \n",
    "    position_df.to_sql(f'{position.upper()}_Player_Weekly_Stats', con=conn, if_exists='replace')\n",
    "    position_df.to_csv(f'Weekly Stats/{position.upper()}_Player_Weekly_Stats')"
   ]
  },
  {
   "cell_type": "code",
   "execution_count": null,
   "metadata": {},
   "outputs": [],
   "source": []
  },
  {
   "cell_type": "code",
   "execution_count": null,
   "metadata": {},
   "outputs": [],
   "source": [
    "need to join date, day of the week... win/loss?"
   ]
  },
  {
   "cell_type": "code",
   "execution_count": null,
   "metadata": {},
   "outputs": [],
   "source": []
  },
  {
   "cell_type": "code",
   "execution_count": null,
   "metadata": {},
   "outputs": [],
   "source": [
    "stop"
   ]
  },
  {
   "cell_type": "code",
   "execution_count": null,
   "metadata": {
    "id": "JLhaJrNHg5T6"
   },
   "outputs": [],
   "source": [
    "url = 'https://www.fantasypros.com/nfl/stats/qb.php?week=1&range=week&year=2010'"
   ]
  },
  {
   "cell_type": "code",
   "execution_count": null,
   "metadata": {
    "id": "exGD6U-ZXr1H"
   },
   "outputs": [],
   "source": [
    "df = pd.read_html(url)[0]"
   ]
  },
  {
   "cell_type": "code",
   "execution_count": null,
   "metadata": {
    "colab": {
     "base_uri": "https://localhost:8080/",
     "height": 1000
    },
    "id": "pgx-CsFCGxfp",
    "outputId": "a148046a-c5e6-4127-8015-35fbb527ee03",
    "scrolled": true
   },
   "outputs": [],
   "source": [
    "df = df.droplevel(0, axis=1)\n",
    "df"
   ]
  },
  {
   "cell_type": "code",
   "execution_count": null,
   "metadata": {
    "id": "FW7qx9btHfTy"
   },
   "outputs": [],
   "source": [
    "df['Player'] = df['Player'].apply(lambda x: x.split(' ')[:2])\n",
    "df['Player'] = df['Player'].apply(lambda x: ' '.join(x))"
   ]
  },
  {
   "cell_type": "code",
   "execution_count": null,
   "metadata": {
    "id": "PRrMrClxegCr"
   },
   "outputs": [],
   "source": [
    "url = 'https://www.nfl.com/stats/player-stats/'"
   ]
  },
  {
   "cell_type": "code",
   "execution_count": null,
   "metadata": {
    "colab": {
     "base_uri": "https://localhost:8080/"
    },
    "id": "MwzVZbag12Wm",
    "outputId": "69b29d5c-c1b9-4a68-e192-de28299f65ec",
    "scrolled": true
   },
   "outputs": [],
   "source": [
    "pd.read_html(url)"
   ]
  },
  {
   "cell_type": "code",
   "execution_count": null,
   "metadata": {
    "id": "CrxsRkgq14PA"
   },
   "outputs": [],
   "source": []
  }
 ],
 "metadata": {
  "colab": {
   "provenance": []
  },
  "kernelspec": {
   "display_name": "Python 3 (ipykernel)",
   "language": "python",
   "name": "python3"
  },
  "language_info": {
   "codemirror_mode": {
    "name": "ipython",
    "version": 3
   },
   "file_extension": ".py",
   "mimetype": "text/x-python",
   "name": "python",
   "nbconvert_exporter": "python",
   "pygments_lexer": "ipython3",
   "version": "3.11.5"
  }
 },
 "nbformat": 4,
 "nbformat_minor": 4
}
