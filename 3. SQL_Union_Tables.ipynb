{
 "cells": [
  {
   "cell_type": "code",
   "execution_count": 1,
   "id": "616f96fd-656f-4bf1-b56e-a431015ad943",
   "metadata": {},
   "outputs": [],
   "source": [
    "#Union table same tables"
   ]
  },
  {
   "cell_type": "code",
   "execution_count": 2,
   "id": "a60a4b33-7a28-4b1c-be86-b2201922631b",
   "metadata": {},
   "outputs": [],
   "source": [
    "import pandas as pd\n",
    "\n",
    "import pyodbc\n",
    "\n",
    "import sqlalchemy as sal\n",
    "from sqlalchemy import create_engine\n",
    "from sqlalchemy.sql import text\n",
    "\n",
    "import os\n",
    "\n",
    "import re"
   ]
  },
  {
   "cell_type": "code",
   "execution_count": 3,
   "id": "4a81379a-9464-48d1-aeac-7f0b9bdf5430",
   "metadata": {},
   "outputs": [],
   "source": [
    "# connection link varaibles\n",
    "# NFL Data databas has all year and team in separate tables\n",
    "servername = '****'\n",
    "nfl_data = 'NFL_Data'\n",
    "trusted_conneciton = '?trusted_conneciton=yes'\n",
    "driver = '&driver=ODBC+Driver+17+for+SQL+Server'"
   ]
  },
  {
   "cell_type": "code",
   "execution_count": 4,
   "id": "3ca061b4-b6ee-4cc6-95ee-c7e5b378f400",
   "metadata": {},
   "outputs": [
    {
     "data": {
      "text/plain": [
       "Engine(mssql+pyodbc://@DESKTOP-5IAPFQC/NFL_Data?driver=ODBC+Driver+17+for+SQL+Server&trusted_conneciton=yes)"
      ]
     },
     "execution_count": 4,
     "metadata": {},
     "output_type": "execute_result"
    }
   ],
   "source": [
    "#create engine url to connect to sql server\n",
    "engine_nfl_data = create_engine(f'mssql+pyodbc://@{servername}/{nfl_data}{trusted_conneciton}{driver}')\n",
    "engine_nfl_data"
   ]
  },
  {
   "cell_type": "code",
   "execution_count": 5,
   "id": "76029307-3e60-41b7-b809-cca5fa089368",
   "metadata": {},
   "outputs": [],
   "source": [
    "conn_engine_nfl_data = engine_nfl_data.connect()"
   ]
  },
  {
   "cell_type": "code",
   "execution_count": 6,
   "id": "7afbe2bb-aded-4c70-8d78-c4a6dcec2376",
   "metadata": {},
   "outputs": [],
   "source": [
    "# connection link varaibles\n",
    "# Contains unioned tables from all years and teams\n",
    "servername = '****'\n",
    "football_data = 'Football_Data'\n",
    "trusted_conneciton = '?trusted_conneciton=yes'\n",
    "driver = '&driver=ODBC+Driver+17+for+SQL+Server'"
   ]
  },
  {
   "cell_type": "code",
   "execution_count": 7,
   "id": "dba26020-8543-4ae0-84df-cc193f31ef2d",
   "metadata": {},
   "outputs": [
    {
     "data": {
      "text/plain": [
       "Engine(mssql+pyodbc://@DESKTOP-5IAPFQC/Football_Data?driver=ODBC+Driver+17+for+SQL+Server&trusted_conneciton=yes)"
      ]
     },
     "execution_count": 7,
     "metadata": {},
     "output_type": "execute_result"
    }
   ],
   "source": [
    "#create engine url to connect to sql server\n",
    "engine_football_data = create_engine(f'mssql+pyodbc://@{servername}/{football_data}{trusted_conneciton}{driver}')\n",
    "engine_football_data"
   ]
  },
  {
   "cell_type": "code",
   "execution_count": 8,
   "id": "68b06b6f-e05a-4aec-bc86-748681977e6e",
   "metadata": {},
   "outputs": [],
   "source": [
    "conn_engine_football_data = engine_football_data.connect()"
   ]
  },
  {
   "cell_type": "code",
   "execution_count": 9,
   "id": "dd54e8cb-0e7c-41f5-aade-cfeb0da587a3",
   "metadata": {},
   "outputs": [],
   "source": [
    "#need to fix year 2023\n",
    "years = range(2010, 2024)"
   ]
  },
  {
   "cell_type": "code",
   "execution_count": 10,
   "id": "2697e42d-14ff-4d5f-b6f1-8b654356f3db",
   "metadata": {},
   "outputs": [],
   "source": [
    "team_li = [\n",
    "     '49ers',\n",
    "     'Bears',\n",
    "     'Bengals',\n",
    "     'Broncos',\n",
    "     'Browns',\n",
    "     'Buccaneers',\n",
    "     'Buffalos',\n",
    "     'Cardinals',\n",
    "     'Chargers',\n",
    "     'Chiefs',\n",
    "     'Colts',\n",
    "     'Commanders',\n",
    "     'Cowboys',\n",
    "     'Dolphins',\n",
    "     'Eagles',\n",
    "     'Falcons',\n",
    "     'Giants',\n",
    "     'Jaguars',\n",
    "     'Jets',\n",
    "     'Lions',\n",
    "     'Packers',\n",
    "     'Panthers',\n",
    "     'Patriots',\n",
    "     'Raiders',\n",
    "     'Rams',\n",
    "     'Ravens',\n",
    "     'Saints',\n",
    "     'Seahawks',\n",
    "     'Steelers',\n",
    "     'Texans',\n",
    "     'Titans',\n",
    "     'Vikings'\n",
    "]"
   ]
  },
  {
   "cell_type": "code",
   "execution_count": 11,
   "id": "2a25c645-0cd3-4406-a8c6-191dfee82d48",
   "metadata": {},
   "outputs": [],
   "source": [
    "table_li = [\n",
    "    'team_stats_and_ranking',\n",
    "    'schedule_and_game_results',\n",
    "    'team_conversions',\n",
    "    'passing',\n",
    "    'rushing_and_receiving',\n",
    "    'kick_and_punt_returns',\n",
    "    'kicking',\n",
    "    'punting',\n",
    "    'defense_and_fumbles',\n",
    "    'scoring_summary',\n",
    "    'touchdown_log',\n",
    "    'opponent_touchdown_log'\n",
    "]"
   ]
  },
  {
   "cell_type": "code",
   "execution_count": 12,
   "id": "b3c09ced-282a-4780-bd7e-f1e2150df17a",
   "metadata": {},
   "outputs": [],
   "source": [
    "def sql_table_union (years: list, teams: list, table:str):\n",
    "\n",
    "    sql_table_li = []\n",
    "    for year in years:\n",
    "        for team in team_li:\n",
    "            sql_table = f'select * from {table}_{team}_{year}' \n",
    "    \n",
    "            sql_table_li.append(sql_table)\n",
    "\n",
    "    sql_table_union = ' union '.join([sqlt for sqlt in sql_table_li])\n",
    "    \n",
    "    return sql_table_union"
   ]
  },
  {
   "cell_type": "code",
   "execution_count": null,
   "id": "b2d26658-e777-4b83-8ebc-ed949a65217c",
   "metadata": {},
   "outputs": [],
   "source": []
  },
  {
   "cell_type": "code",
   "execution_count": 13,
   "id": "17bf23b5-35cf-46e9-a6be-b186212fb5bb",
   "metadata": {},
   "outputs": [
    {
     "name": "stdout",
     "output_type": "stream",
     "text": [
      "***************************************************\n",
      "team_stats_and_ranking\n",
      "***************************************************\n",
      "schedule_and_game_results\n",
      "***************************************************\n",
      "team_conversions\n",
      "***************************************************\n",
      "passing\n",
      "***************************************************\n",
      "rushing_and_receiving\n",
      "***************************************************\n",
      "kick_and_punt_returns\n",
      "***************************************************\n",
      "kicking\n",
      "***************************************************\n",
      "punting\n",
      "***************************************************\n",
      "defense_and_fumbles\n",
      "***************************************************\n",
      "scoring_summary\n",
      "***************************************************\n",
      "touchdown_log\n",
      "***************************************************\n",
      "opponent_touchdown_log\n"
     ]
    }
   ],
   "source": [
    "##################### change connection engine databse 'Football_Data' when export to SQL, \n",
    "############### but not for query leave 'NFL_Data'\n",
    "for table in table_li:\n",
    "    print('***************************************************')\n",
    "    print(f'{table}')\n",
    "    sql_table_union_str = sql_table_union(years, team_li, table=table)\n",
    "    \n",
    "    sql_df_union = pd.read_sql(sql_table_union_str, con=conn_engine_nfl_data)\n",
    "\n",
    "    sql_df_union.to_sql(table, con=conn_engine_football_data, if_exists='replace')\n",
    "\n",
    "    sql_df_union.to_csv(f'Table Data/{table}')"
   ]
  },
  {
   "cell_type": "code",
   "execution_count": 14,
   "id": "b400757f-c333-4351-9141-b2e9e9b17ae8",
   "metadata": {},
   "outputs": [
    {
     "ename": "NameError",
     "evalue": "name 'stop' is not defined",
     "output_type": "error",
     "traceback": [
      "\u001b[1;31m---------------------------------------------------------------------------\u001b[0m",
      "\u001b[1;31mNameError\u001b[0m                                 Traceback (most recent call last)",
      "Cell \u001b[1;32mIn[14], line 1\u001b[0m\n\u001b[1;32m----> 1\u001b[0m stop\n",
      "\u001b[1;31mNameError\u001b[0m: name 'stop' is not defined"
     ]
    }
   ],
   "source": [
    "stop"
   ]
  },
  {
   "cell_type": "code",
   "execution_count": null,
   "id": "6aa68b9b-5e61-48f7-b4b5-cdf61276e143",
   "metadata": {},
   "outputs": [],
   "source": []
  }
 ],
 "metadata": {
  "kernelspec": {
   "display_name": "Python 3 (ipykernel)",
   "language": "python",
   "name": "python3"
  },
  "language_info": {
   "codemirror_mode": {
    "name": "ipython",
    "version": 3
   },
   "file_extension": ".py",
   "mimetype": "text/x-python",
   "name": "python",
   "nbconvert_exporter": "python",
   "pygments_lexer": "ipython3",
   "version": "3.11.5"
  }
 },
 "nbformat": 4,
 "nbformat_minor": 5
}
