{
 "cells": [
  {
   "cell_type": "markdown",
   "id": "e6ed88a5",
   "metadata": {},
   "source": [
    "# SQL Connection"
   ]
  },
  {
   "cell_type": "code",
   "execution_count": 1,
   "id": "5194520a",
   "metadata": {},
   "outputs": [],
   "source": [
    "import pandas as pd\n",
    "\n",
    "import pyodbc\n",
    "\n",
    "import sqlalchemy as sal\n",
    "from sqlalchemy import create_engine\n",
    "from sqlalchemy.sql import text\n",
    "\n",
    "import os"
   ]
  },
  {
   "cell_type": "code",
   "execution_count": 2,
   "id": "d7aba0a0",
   "metadata": {},
   "outputs": [
    {
     "data": {
      "text/plain": [
       "['SQL Server',\n",
       " 'PostgreSQL ANSI(x64)',\n",
       " 'PostgreSQL Unicode(x64)',\n",
       " 'ODBC Driver 17 for SQL Server',\n",
       " 'SQL Server Native Client RDA 11.0',\n",
       " 'ODBC Driver 18 for SQL Server']"
      ]
     },
     "execution_count": 2,
     "metadata": {},
     "output_type": "execute_result"
    }
   ],
   "source": [
    "pyodbc.drivers()"
   ]
  },
  {
   "cell_type": "code",
   "execution_count": 3,
   "id": "e01d970f",
   "metadata": {},
   "outputs": [],
   "source": [
    "# I need a function to create a sql table"
   ]
  },
  {
   "cell_type": "code",
   "execution_count": 1,
   "id": "fdd33659-2ccf-432e-a15c-74834c645c39",
   "metadata": {},
   "outputs": [],
   "source": [
    "# connection link varaibles\n",
    "servername = '****'\n",
    "dbname = 'NFL_Data'\n",
    "trusted_conneciton = '?trusted_conneciton=yes'\n",
    "driver = '&driver=ODBC+Driver+17+for+SQL+Server'"
   ]
  },
  {
   "cell_type": "code",
   "execution_count": 2,
   "id": "6082d437-c888-4baf-9a16-b6d376007ce3",
   "metadata": {},
   "outputs": [
    {
     "ename": "NameError",
     "evalue": "name 'create_engine' is not defined",
     "output_type": "error",
     "traceback": [
      "\u001b[1;31m---------------------------------------------------------------------------\u001b[0m",
      "\u001b[1;31mNameError\u001b[0m                                 Traceback (most recent call last)",
      "Cell \u001b[1;32mIn[2], line 2\u001b[0m\n\u001b[0;32m      1\u001b[0m \u001b[38;5;66;03m#create engine url to connect to sql server\u001b[39;00m\n\u001b[1;32m----> 2\u001b[0m engine \u001b[38;5;241m=\u001b[39m create_engine(\u001b[38;5;124mf\u001b[39m\u001b[38;5;124m'\u001b[39m\u001b[38;5;124mmssql+pyodbc://@\u001b[39m\u001b[38;5;132;01m{\u001b[39;00mservername\u001b[38;5;132;01m}\u001b[39;00m\u001b[38;5;124m/\u001b[39m\u001b[38;5;132;01m{\u001b[39;00mdbname\u001b[38;5;132;01m}\u001b[39;00m\u001b[38;5;132;01m{\u001b[39;00mtrusted_conneciton\u001b[38;5;132;01m}\u001b[39;00m\u001b[38;5;132;01m{\u001b[39;00mdriver\u001b[38;5;132;01m}\u001b[39;00m\u001b[38;5;124m'\u001b[39m)\n\u001b[0;32m      3\u001b[0m engine\n",
      "\u001b[1;31mNameError\u001b[0m: name 'create_engine' is not defined"
     ]
    }
   ],
   "source": [
    "#create engine url to connect to sql server\n",
    "engine = create_engine(f'mssql+pyodbc://@{servername}/{dbname}{trusted_conneciton}{driver}')\n",
    "engine"
   ]
  },
  {
   "cell_type": "code",
   "execution_count": 6,
   "id": "fc7a9caa-0af7-4487-80eb-6cfc72cc982d",
   "metadata": {},
   "outputs": [],
   "source": [
    "years = range(2010, 2024)"
   ]
  },
  {
   "cell_type": "code",
   "execution_count": 7,
   "id": "98d84b41-8dab-42d4-a607-159232e17aa7",
   "metadata": {},
   "outputs": [],
   "source": [
    "team_li = [\n",
    "     '49ers',\n",
    "     'Bears',\n",
    "     'Bengals',\n",
    "     'Broncos',\n",
    "     'Browns',\n",
    "     'Buccaneers',\n",
    "     'Buffalos',\n",
    "     'Cardinals',\n",
    "     'Chargers',\n",
    "     'Chiefs',\n",
    "     'Colts',\n",
    "     'Commanders',\n",
    "     'Cowboys',\n",
    "     'Dolphins',\n",
    "     'Eagles',\n",
    "     'Falcons',\n",
    "     'Giants',\n",
    "     'Jaguars',\n",
    "     'Jets',\n",
    "     'Lions',\n",
    "     'Packers',\n",
    "     'Panthers',\n",
    "     'Patriots',\n",
    "     'Raiders',\n",
    "     'Rams',\n",
    "     'Ravens',\n",
    "     'Saints',\n",
    "     'Seahawks',\n",
    "     'Steelers',\n",
    "     'Texans',\n",
    "     'Titans',\n",
    "     'Vikings'\n",
    "]"
   ]
  },
  {
   "cell_type": "code",
   "execution_count": 8,
   "id": "dca28a05-d8a1-4547-b5ed-366dfdea01fa",
   "metadata": {},
   "outputs": [],
   "source": [
    "table_li = [\n",
    "    'team_stats_and_ranking',\n",
    "    'schedule_and_game_results',\n",
    "    'team_conversions',\n",
    "    'passing',\n",
    "    'rushing_and_receiving',\n",
    "    'kick_and_punt_returns',\n",
    "    'kicking',\n",
    "    'punting',\n",
    "    'defense_and_fumbles',\n",
    "    'scoring_summary',\n",
    "    'touchdown_log',\n",
    "    'opponent_touchdown_log'\n",
    "]"
   ]
  },
  {
   "cell_type": "code",
   "execution_count": 9,
   "id": "88955015-9ff6-441e-9323-b10ee9b4b505",
   "metadata": {},
   "outputs": [],
   "source": [
    "#create table function\n",
    "def sql_create_table (file_name:str, connection: None, dataframe: None):\n",
    "\n",
    "    dataframe.to_sql(file_name, con=connection, index=False, if_exists='replace')\n",
    "    \n",
    "    return None"
   ]
  },
  {
   "cell_type": "code",
   "execution_count": 12,
   "id": "55aaba7f-387c-4f9b-b74f-032ff173b77a",
   "metadata": {
    "scrolled": true
   },
   "outputs": [],
   "source": [
    "for year in years:\n",
    "    for team in team_li:\n",
    "        for table in table_li:\n",
    "            #get dataframe\n",
    "            df = pd.read_csv(f'NFL_Data_{year}/{team}/{table}_{team}_{year}').drop(columns=['Unnamed: 0'])\n",
    "    \n",
    "            #get file name\n",
    "            string = f'NFL_Data_{year}/{team}/{table}_{team}_{year}'\n",
    "            file_name = string.split(sep='/')[-1]\n",
    "    \n",
    "            sql_create_table(file_name=file_name, connection=engine, dataframe=df)"
   ]
  },
  {
   "cell_type": "code",
   "execution_count": null,
   "id": "cf7b2500-862f-434f-ba11-1ce7fb0b9511",
   "metadata": {},
   "outputs": [],
   "source": []
  }
 ],
 "metadata": {
  "kernelspec": {
   "display_name": "Python 3 (ipykernel)",
   "language": "python",
   "name": "python3"
  },
  "language_info": {
   "codemirror_mode": {
    "name": "ipython",
    "version": 3
   },
   "file_extension": ".py",
   "mimetype": "text/x-python",
   "name": "python",
   "nbconvert_exporter": "python",
   "pygments_lexer": "ipython3",
   "version": "3.11.5"
  }
 },
 "nbformat": 4,
 "nbformat_minor": 5
}
